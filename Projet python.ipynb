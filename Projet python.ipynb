{
 "cells": [
  {
   "cell_type": "markdown",
   "metadata": {},
   "source": [
    "# Python for data analysis - One Million Song Dataset"
   ]
  },
  {
   "cell_type": "markdown",
   "metadata": {},
   "source": [
    "## Importing libraries and resources"
   ]
  },
  {
   "cell_type": "code",
   "execution_count": 121,
   "metadata": {},
   "outputs": [],
   "source": [
    "import os\n",
    "import numpy as np\n",
    "import pandas as pd\n",
    "import matplotlib.pyplot as plt\n",
    "import seaborn as sns\n",
    "from matplotlib import rcParams\n",
    "rcParams['figure.figsize'] = 10,7\n",
    "rcParams['axes.grid'] = True\n",
    "from sklearn.ensemble import RandomForestRegressor\n",
    "from sklearn.linear_model import LogisticRegression\n",
    "from sklearn.tree import DecisionTreeRegressor\n",
    "from sklearn.ensemble import AdaBoostRegressor\n",
    "from sklearn.neighbors import KNeighborsRegressor\n",
    "from sklearn.neural_network import MLPRegressor\n",
    "import matplotlib\n",
    "from sklearn.decomposition import PCA\n",
    "from sklearn import datasets, svm, metrics\n",
    "from sklearn import preprocessing\n",
    "from sklearn.utils import resample\n",
    "import itertools\n",
    "import scipy.stats\n",
    "from sklearn.metrics import confusion_matrix\n",
    "from sklearn.metrics import accuracy_score\n",
    "from sklearn.model_selection import GridSearchCV\n",
    "\n",
    "%matplotlib inline\n"
   ]
  },
  {
   "cell_type": "markdown",
   "metadata": {},
   "source": [
    "## Importing data"
   ]
  },
  {
   "cell_type": "code",
   "execution_count": 5,
   "metadata": {},
   "outputs": [],
   "source": [
    "features = ['year', 'timbre1', 'timbre2', 'timbre3', 'timbre4', 'timbre5', 'timbre6', 'timbre7', 'timbre8', 'timbre9', 'timbre10', 'timbre11', 'timbre12', 'timbre13', 'timbre14', 'timbre15', 'timbre16', 'timbre17', 'timbre18', 'timbre19', 'timbre20', 'timbre21', 'timbre22', 'timbre23', 'timbre24', 'timbre25', 'timbre26', 'timbre27', 'timbre28', 'timbre29', 'timbre30', 'timbre31', 'timbre32', 'timbre33', 'timbre34', 'timbre35', 'timbre36 ', 'timbre37', 'timbre38', 'timbre39', 'timbre40', 'timbre41', 'timbre42', 'timbre43', 'timbre44', 'timbre45', 'timbre46', 'timbre47', 'timbre48', 'timbre49', 'timbre50', 'timbre51', 'timbre52', 'timbre53' , 'timbre54', 'timbre55', 'timbre56', 'timbre57', 'timbre58', 'timbre59', 'timbre60', 'timbre61', 'timbre62', 'timbre63', 'timbre64', 'timbre65', 'timbre66', 'timbre67', 'timbre68', 'timbre69', 'timbre70', 'timbre71', 'timbre72', 'timbre73', 'timbre74', 'timbre75', 'timbre76', 'timbre77', 'timbre78', 'timbre79', 'timbre80', 'timbre81', 'timbre82', 'timbre83', 'timbre84', 'timbre85', 'timbre86', 'timbre87', 'timbre88', 'timbre89', 'timbre90']"
   ]
  },
  {
   "cell_type": "code",
   "execution_count": 101,
   "metadata": {},
   "outputs": [
    {
     "name": "stdout",
     "output_type": "stream",
     "text": [
      "the number of rows and colums are(515345, 91)\n"
     ]
    }
   ],
   "source": [
    "data=pd.read_csv('/Users/luciedrevet/Documents/S7/Python for data analysis/Projet/YearPredictionMSD.csv', names=features)\n",
    "\n",
    "print('the number of rows and colums are'+str(data.shape))"
   ]
  },
  {
   "cell_type": "markdown",
   "metadata": {},
   "source": [
    "## EDA"
   ]
  },
  {
   "cell_type": "code",
   "execution_count": 7,
   "metadata": {},
   "outputs": [
    {
     "name": "stdout",
     "output_type": "stream",
     "text": [
      "<class 'pandas.core.frame.DataFrame'>\n",
      "RangeIndex: 515345 entries, 0 to 515344\n",
      "Data columns (total 91 columns):\n",
      " #   Column     Non-Null Count   Dtype  \n",
      "---  ------     --------------   -----  \n",
      " 0   year       515345 non-null  int64  \n",
      " 1   timbre1    515345 non-null  float64\n",
      " 2   timbre2    515345 non-null  float64\n",
      " 3   timbre3    515345 non-null  float64\n",
      " 4   timbre4    515345 non-null  float64\n",
      " 5   timbre5    515345 non-null  float64\n",
      " 6   timbre6    515345 non-null  float64\n",
      " 7   timbre7    515345 non-null  float64\n",
      " 8   timbre8    515345 non-null  float64\n",
      " 9   timbre9    515345 non-null  float64\n",
      " 10  timbre10   515345 non-null  float64\n",
      " 11  timbre11   515345 non-null  float64\n",
      " 12  timbre12   515345 non-null  float64\n",
      " 13  timbre13   515345 non-null  float64\n",
      " 14  timbre14   515345 non-null  float64\n",
      " 15  timbre15   515345 non-null  float64\n",
      " 16  timbre16   515345 non-null  float64\n",
      " 17  timbre17   515345 non-null  float64\n",
      " 18  timbre18   515345 non-null  float64\n",
      " 19  timbre19   515345 non-null  float64\n",
      " 20  timbre20   515345 non-null  float64\n",
      " 21  timbre21   515345 non-null  float64\n",
      " 22  timbre22   515345 non-null  float64\n",
      " 23  timbre23   515345 non-null  float64\n",
      " 24  timbre24   515345 non-null  float64\n",
      " 25  timbre25   515345 non-null  float64\n",
      " 26  timbre26   515345 non-null  float64\n",
      " 27  timbre27   515345 non-null  float64\n",
      " 28  timbre28   515345 non-null  float64\n",
      " 29  timbre29   515345 non-null  float64\n",
      " 30  timbre30   515345 non-null  float64\n",
      " 31  timbre31   515345 non-null  float64\n",
      " 32  timbre32   515345 non-null  float64\n",
      " 33  timbre33   515345 non-null  float64\n",
      " 34  timbre34   515345 non-null  float64\n",
      " 35  timbre35   515345 non-null  float64\n",
      " 36  timbre36   515345 non-null  float64\n",
      " 37  timbre37   515345 non-null  float64\n",
      " 38  timbre38   515345 non-null  float64\n",
      " 39  timbre39   515345 non-null  float64\n",
      " 40  timbre40   515345 non-null  float64\n",
      " 41  timbre41   515345 non-null  float64\n",
      " 42  timbre42   515345 non-null  float64\n",
      " 43  timbre43   515345 non-null  float64\n",
      " 44  timbre44   515345 non-null  float64\n",
      " 45  timbre45   515345 non-null  float64\n",
      " 46  timbre46   515345 non-null  float64\n",
      " 47  timbre47   515345 non-null  float64\n",
      " 48  timbre48   515345 non-null  float64\n",
      " 49  timbre49   515345 non-null  float64\n",
      " 50  timbre50   515345 non-null  float64\n",
      " 51  timbre51   515345 non-null  float64\n",
      " 52  timbre52   515345 non-null  float64\n",
      " 53  timbre53   515345 non-null  float64\n",
      " 54  timbre54   515345 non-null  float64\n",
      " 55  timbre55   515345 non-null  float64\n",
      " 56  timbre56   515345 non-null  float64\n",
      " 57  timbre57   515345 non-null  float64\n",
      " 58  timbre58   515345 non-null  float64\n",
      " 59  timbre59   515345 non-null  float64\n",
      " 60  timbre60   515345 non-null  float64\n",
      " 61  timbre61   515345 non-null  float64\n",
      " 62  timbre62   515345 non-null  float64\n",
      " 63  timbre63   515345 non-null  float64\n",
      " 64  timbre64   515345 non-null  float64\n",
      " 65  timbre65   515345 non-null  float64\n",
      " 66  timbre66   515345 non-null  float64\n",
      " 67  timbre67   515345 non-null  float64\n",
      " 68  timbre68   515345 non-null  float64\n",
      " 69  timbre69   515345 non-null  float64\n",
      " 70  timbre70   515345 non-null  float64\n",
      " 71  timbre71   515345 non-null  float64\n",
      " 72  timbre72   515345 non-null  float64\n",
      " 73  timbre73   515345 non-null  float64\n",
      " 74  timbre74   515345 non-null  float64\n",
      " 75  timbre75   515345 non-null  float64\n",
      " 76  timbre76   515345 non-null  float64\n",
      " 77  timbre77   515345 non-null  float64\n",
      " 78  timbre78   515345 non-null  float64\n",
      " 79  timbre79   515345 non-null  float64\n",
      " 80  timbre80   515345 non-null  float64\n",
      " 81  timbre81   515345 non-null  float64\n",
      " 82  timbre82   515345 non-null  float64\n",
      " 83  timbre83   515345 non-null  float64\n",
      " 84  timbre84   515345 non-null  float64\n",
      " 85  timbre85   515345 non-null  float64\n",
      " 86  timbre86   515345 non-null  float64\n",
      " 87  timbre87   515345 non-null  float64\n",
      " 88  timbre88   515345 non-null  float64\n",
      " 89  timbre89   515345 non-null  float64\n",
      " 90  timbre90   515345 non-null  float64\n",
      "dtypes: float64(90), int64(1)\n",
      "memory usage: 357.8 MB\n"
     ]
    }
   ],
   "source": [
    "data.info()"
   ]
  },
  {
   "cell_type": "raw",
   "metadata": {},
   "source": [
    " No missing values that we have to delete, and we only have float value so we don't have to clean the data"
   ]
  },
  {
   "cell_type": "code",
   "execution_count": 102,
   "metadata": {},
   "outputs": [
    {
     "data": {
      "text/html": [
       "<div>\n",
       "<style scoped>\n",
       "    .dataframe tbody tr th:only-of-type {\n",
       "        vertical-align: middle;\n",
       "    }\n",
       "\n",
       "    .dataframe tbody tr th {\n",
       "        vertical-align: top;\n",
       "    }\n",
       "\n",
       "    .dataframe thead th {\n",
       "        text-align: right;\n",
       "    }\n",
       "</style>\n",
       "<table border=\"1\" class=\"dataframe\">\n",
       "  <thead>\n",
       "    <tr style=\"text-align: right;\">\n",
       "      <th></th>\n",
       "      <th>year</th>\n",
       "      <th>timbre1</th>\n",
       "      <th>timbre2</th>\n",
       "      <th>timbre3</th>\n",
       "      <th>timbre4</th>\n",
       "      <th>timbre5</th>\n",
       "      <th>timbre6</th>\n",
       "      <th>timbre7</th>\n",
       "      <th>timbre8</th>\n",
       "      <th>timbre9</th>\n",
       "      <th>...</th>\n",
       "      <th>timbre81</th>\n",
       "      <th>timbre82</th>\n",
       "      <th>timbre83</th>\n",
       "      <th>timbre84</th>\n",
       "      <th>timbre85</th>\n",
       "      <th>timbre86</th>\n",
       "      <th>timbre87</th>\n",
       "      <th>timbre88</th>\n",
       "      <th>timbre89</th>\n",
       "      <th>timbre90</th>\n",
       "    </tr>\n",
       "  </thead>\n",
       "  <tbody>\n",
       "    <tr>\n",
       "      <th>0</th>\n",
       "      <td>2001</td>\n",
       "      <td>49.94357</td>\n",
       "      <td>21.47114</td>\n",
       "      <td>73.07750</td>\n",
       "      <td>8.74861</td>\n",
       "      <td>-17.40628</td>\n",
       "      <td>-13.09905</td>\n",
       "      <td>-25.01202</td>\n",
       "      <td>-12.23257</td>\n",
       "      <td>7.83089</td>\n",
       "      <td>...</td>\n",
       "      <td>13.01620</td>\n",
       "      <td>-54.40548</td>\n",
       "      <td>58.99367</td>\n",
       "      <td>15.37344</td>\n",
       "      <td>1.11144</td>\n",
       "      <td>-23.08793</td>\n",
       "      <td>68.40795</td>\n",
       "      <td>-1.82223</td>\n",
       "      <td>-27.46348</td>\n",
       "      <td>2.26327</td>\n",
       "    </tr>\n",
       "    <tr>\n",
       "      <th>1</th>\n",
       "      <td>2001</td>\n",
       "      <td>48.73215</td>\n",
       "      <td>18.42930</td>\n",
       "      <td>70.32679</td>\n",
       "      <td>12.94636</td>\n",
       "      <td>-10.32437</td>\n",
       "      <td>-24.83777</td>\n",
       "      <td>8.76630</td>\n",
       "      <td>-0.92019</td>\n",
       "      <td>18.76548</td>\n",
       "      <td>...</td>\n",
       "      <td>5.66812</td>\n",
       "      <td>-19.68073</td>\n",
       "      <td>33.04964</td>\n",
       "      <td>42.87836</td>\n",
       "      <td>-9.90378</td>\n",
       "      <td>-32.22788</td>\n",
       "      <td>70.49388</td>\n",
       "      <td>12.04941</td>\n",
       "      <td>58.43453</td>\n",
       "      <td>26.92061</td>\n",
       "    </tr>\n",
       "    <tr>\n",
       "      <th>2</th>\n",
       "      <td>2001</td>\n",
       "      <td>50.95714</td>\n",
       "      <td>31.85602</td>\n",
       "      <td>55.81851</td>\n",
       "      <td>13.41693</td>\n",
       "      <td>-6.57898</td>\n",
       "      <td>-18.54940</td>\n",
       "      <td>-3.27872</td>\n",
       "      <td>-2.35035</td>\n",
       "      <td>16.07017</td>\n",
       "      <td>...</td>\n",
       "      <td>3.03800</td>\n",
       "      <td>26.05866</td>\n",
       "      <td>-50.92779</td>\n",
       "      <td>10.93792</td>\n",
       "      <td>-0.07568</td>\n",
       "      <td>43.20130</td>\n",
       "      <td>-115.00698</td>\n",
       "      <td>-0.05859</td>\n",
       "      <td>39.67068</td>\n",
       "      <td>-0.66345</td>\n",
       "    </tr>\n",
       "    <tr>\n",
       "      <th>3</th>\n",
       "      <td>2001</td>\n",
       "      <td>48.24750</td>\n",
       "      <td>-1.89837</td>\n",
       "      <td>36.29772</td>\n",
       "      <td>2.58776</td>\n",
       "      <td>0.97170</td>\n",
       "      <td>-26.21683</td>\n",
       "      <td>5.05097</td>\n",
       "      <td>-10.34124</td>\n",
       "      <td>3.55005</td>\n",
       "      <td>...</td>\n",
       "      <td>34.57337</td>\n",
       "      <td>-171.70734</td>\n",
       "      <td>-16.96705</td>\n",
       "      <td>-46.67617</td>\n",
       "      <td>-12.51516</td>\n",
       "      <td>82.58061</td>\n",
       "      <td>-72.08993</td>\n",
       "      <td>9.90558</td>\n",
       "      <td>199.62971</td>\n",
       "      <td>18.85382</td>\n",
       "    </tr>\n",
       "    <tr>\n",
       "      <th>4</th>\n",
       "      <td>2001</td>\n",
       "      <td>50.97020</td>\n",
       "      <td>42.20998</td>\n",
       "      <td>67.09964</td>\n",
       "      <td>8.46791</td>\n",
       "      <td>-15.85279</td>\n",
       "      <td>-16.81409</td>\n",
       "      <td>-12.48207</td>\n",
       "      <td>-9.37636</td>\n",
       "      <td>12.63699</td>\n",
       "      <td>...</td>\n",
       "      <td>9.92661</td>\n",
       "      <td>-55.95724</td>\n",
       "      <td>64.92712</td>\n",
       "      <td>-17.72522</td>\n",
       "      <td>-1.49237</td>\n",
       "      <td>-7.50035</td>\n",
       "      <td>51.76631</td>\n",
       "      <td>7.88713</td>\n",
       "      <td>55.66926</td>\n",
       "      <td>28.74903</td>\n",
       "    </tr>\n",
       "  </tbody>\n",
       "</table>\n",
       "<p>5 rows × 91 columns</p>\n",
       "</div>"
      ],
      "text/plain": [
       "   year   timbre1   timbre2   timbre3   timbre4   timbre5   timbre6   timbre7  \\\n",
       "0  2001  49.94357  21.47114  73.07750   8.74861 -17.40628 -13.09905 -25.01202   \n",
       "1  2001  48.73215  18.42930  70.32679  12.94636 -10.32437 -24.83777   8.76630   \n",
       "2  2001  50.95714  31.85602  55.81851  13.41693  -6.57898 -18.54940  -3.27872   \n",
       "3  2001  48.24750  -1.89837  36.29772   2.58776   0.97170 -26.21683   5.05097   \n",
       "4  2001  50.97020  42.20998  67.09964   8.46791 -15.85279 -16.81409 -12.48207   \n",
       "\n",
       "    timbre8   timbre9  ...  timbre81   timbre82  timbre83  timbre84  timbre85  \\\n",
       "0 -12.23257   7.83089  ...  13.01620  -54.40548  58.99367  15.37344   1.11144   \n",
       "1  -0.92019  18.76548  ...   5.66812  -19.68073  33.04964  42.87836  -9.90378   \n",
       "2  -2.35035  16.07017  ...   3.03800   26.05866 -50.92779  10.93792  -0.07568   \n",
       "3 -10.34124   3.55005  ...  34.57337 -171.70734 -16.96705 -46.67617 -12.51516   \n",
       "4  -9.37636  12.63699  ...   9.92661  -55.95724  64.92712 -17.72522  -1.49237   \n",
       "\n",
       "   timbre86   timbre87  timbre88   timbre89  timbre90  \n",
       "0 -23.08793   68.40795  -1.82223  -27.46348   2.26327  \n",
       "1 -32.22788   70.49388  12.04941   58.43453  26.92061  \n",
       "2  43.20130 -115.00698  -0.05859   39.67068  -0.66345  \n",
       "3  82.58061  -72.08993   9.90558  199.62971  18.85382  \n",
       "4  -7.50035   51.76631   7.88713   55.66926  28.74903  \n",
       "\n",
       "[5 rows x 91 columns]"
      ]
     },
     "execution_count": 102,
     "metadata": {},
     "output_type": "execute_result"
    }
   ],
   "source": [
    "data.head(5)"
   ]
  },
  {
   "cell_type": "raw",
   "metadata": {},
   "source": [
    "We probably would have to scale the data"
   ]
  },
  {
   "cell_type": "code",
   "execution_count": 103,
   "metadata": {},
   "outputs": [
    {
     "data": {
      "text/html": [
       "<div>\n",
       "<style scoped>\n",
       "    .dataframe tbody tr th:only-of-type {\n",
       "        vertical-align: middle;\n",
       "    }\n",
       "\n",
       "    .dataframe tbody tr th {\n",
       "        vertical-align: top;\n",
       "    }\n",
       "\n",
       "    .dataframe thead th {\n",
       "        text-align: right;\n",
       "    }\n",
       "</style>\n",
       "<table border=\"1\" class=\"dataframe\">\n",
       "  <thead>\n",
       "    <tr style=\"text-align: right;\">\n",
       "      <th></th>\n",
       "      <th>count</th>\n",
       "      <th>mean</th>\n",
       "      <th>std</th>\n",
       "      <th>min</th>\n",
       "      <th>25%</th>\n",
       "      <th>50%</th>\n",
       "      <th>75%</th>\n",
       "      <th>max</th>\n",
       "    </tr>\n",
       "  </thead>\n",
       "  <tbody>\n",
       "    <tr>\n",
       "      <th>year</th>\n",
       "      <td>515345.0</td>\n",
       "      <td>1998.397082</td>\n",
       "      <td>10.931046</td>\n",
       "      <td>1922.00000</td>\n",
       "      <td>1994.00000</td>\n",
       "      <td>2002.00000</td>\n",
       "      <td>2006.00000</td>\n",
       "      <td>2011.00000</td>\n",
       "    </tr>\n",
       "    <tr>\n",
       "      <th>timbre1</th>\n",
       "      <td>515345.0</td>\n",
       "      <td>43.387126</td>\n",
       "      <td>6.067558</td>\n",
       "      <td>1.74900</td>\n",
       "      <td>39.95469</td>\n",
       "      <td>44.25850</td>\n",
       "      <td>47.83389</td>\n",
       "      <td>61.97014</td>\n",
       "    </tr>\n",
       "    <tr>\n",
       "      <th>timbre2</th>\n",
       "      <td>515345.0</td>\n",
       "      <td>1.289554</td>\n",
       "      <td>51.580351</td>\n",
       "      <td>-337.09250</td>\n",
       "      <td>-26.05952</td>\n",
       "      <td>8.41785</td>\n",
       "      <td>36.12401</td>\n",
       "      <td>384.06573</td>\n",
       "    </tr>\n",
       "    <tr>\n",
       "      <th>timbre3</th>\n",
       "      <td>515345.0</td>\n",
       "      <td>8.658347</td>\n",
       "      <td>35.268585</td>\n",
       "      <td>-301.00506</td>\n",
       "      <td>-11.46271</td>\n",
       "      <td>10.47632</td>\n",
       "      <td>29.76482</td>\n",
       "      <td>322.85143</td>\n",
       "    </tr>\n",
       "    <tr>\n",
       "      <th>timbre4</th>\n",
       "      <td>515345.0</td>\n",
       "      <td>1.164124</td>\n",
       "      <td>16.322790</td>\n",
       "      <td>-154.18358</td>\n",
       "      <td>-8.48750</td>\n",
       "      <td>-0.65284</td>\n",
       "      <td>8.78754</td>\n",
       "      <td>335.77182</td>\n",
       "    </tr>\n",
       "    <tr>\n",
       "      <th>...</th>\n",
       "      <td>...</td>\n",
       "      <td>...</td>\n",
       "      <td>...</td>\n",
       "      <td>...</td>\n",
       "      <td>...</td>\n",
       "      <td>...</td>\n",
       "      <td>...</td>\n",
       "      <td>...</td>\n",
       "    </tr>\n",
       "    <tr>\n",
       "      <th>timbre86</th>\n",
       "      <td>515345.0</td>\n",
       "      <td>17.669213</td>\n",
       "      <td>114.427905</td>\n",
       "      <td>-3168.92457</td>\n",
       "      <td>-31.58061</td>\n",
       "      <td>15.59847</td>\n",
       "      <td>67.79496</td>\n",
       "      <td>3662.06565</td>\n",
       "    </tr>\n",
       "    <tr>\n",
       "      <th>timbre87</th>\n",
       "      <td>515345.0</td>\n",
       "      <td>-26.315336</td>\n",
       "      <td>173.977336</td>\n",
       "      <td>-4319.99232</td>\n",
       "      <td>-101.53030</td>\n",
       "      <td>-21.20412</td>\n",
       "      <td>52.38933</td>\n",
       "      <td>2833.60895</td>\n",
       "    </tr>\n",
       "    <tr>\n",
       "      <th>timbre88</th>\n",
       "      <td>515345.0</td>\n",
       "      <td>4.458641</td>\n",
       "      <td>13.346557</td>\n",
       "      <td>-236.03926</td>\n",
       "      <td>-2.56609</td>\n",
       "      <td>3.11764</td>\n",
       "      <td>9.96774</td>\n",
       "      <td>463.41950</td>\n",
       "    </tr>\n",
       "    <tr>\n",
       "      <th>timbre89</th>\n",
       "      <td>515345.0</td>\n",
       "      <td>20.035136</td>\n",
       "      <td>185.558247</td>\n",
       "      <td>-7458.37815</td>\n",
       "      <td>-59.50927</td>\n",
       "      <td>7.75973</td>\n",
       "      <td>86.35161</td>\n",
       "      <td>7393.39844</td>\n",
       "    </tr>\n",
       "    <tr>\n",
       "      <th>timbre90</th>\n",
       "      <td>515345.0</td>\n",
       "      <td>1.329105</td>\n",
       "      <td>22.088576</td>\n",
       "      <td>-381.42443</td>\n",
       "      <td>-8.82021</td>\n",
       "      <td>0.05305</td>\n",
       "      <td>9.67952</td>\n",
       "      <td>677.89963</td>\n",
       "    </tr>\n",
       "  </tbody>\n",
       "</table>\n",
       "<p>91 rows × 8 columns</p>\n",
       "</div>"
      ],
      "text/plain": [
       "             count         mean         std         min         25%  \\\n",
       "year      515345.0  1998.397082   10.931046  1922.00000  1994.00000   \n",
       "timbre1   515345.0    43.387126    6.067558     1.74900    39.95469   \n",
       "timbre2   515345.0     1.289554   51.580351  -337.09250   -26.05952   \n",
       "timbre3   515345.0     8.658347   35.268585  -301.00506   -11.46271   \n",
       "timbre4   515345.0     1.164124   16.322790  -154.18358    -8.48750   \n",
       "...            ...          ...         ...         ...         ...   \n",
       "timbre86  515345.0    17.669213  114.427905 -3168.92457   -31.58061   \n",
       "timbre87  515345.0   -26.315336  173.977336 -4319.99232  -101.53030   \n",
       "timbre88  515345.0     4.458641   13.346557  -236.03926    -2.56609   \n",
       "timbre89  515345.0    20.035136  185.558247 -7458.37815   -59.50927   \n",
       "timbre90  515345.0     1.329105   22.088576  -381.42443    -8.82021   \n",
       "\n",
       "                 50%         75%         max  \n",
       "year      2002.00000  2006.00000  2011.00000  \n",
       "timbre1     44.25850    47.83389    61.97014  \n",
       "timbre2      8.41785    36.12401   384.06573  \n",
       "timbre3     10.47632    29.76482   322.85143  \n",
       "timbre4     -0.65284     8.78754   335.77182  \n",
       "...              ...         ...         ...  \n",
       "timbre86    15.59847    67.79496  3662.06565  \n",
       "timbre87   -21.20412    52.38933  2833.60895  \n",
       "timbre88     3.11764     9.96774   463.41950  \n",
       "timbre89     7.75973    86.35161  7393.39844  \n",
       "timbre90     0.05305     9.67952   677.89963  \n",
       "\n",
       "[91 rows x 8 columns]"
      ]
     },
     "execution_count": 103,
     "metadata": {},
     "output_type": "execute_result"
    }
   ],
   "source": [
    "data.describe().T"
   ]
  },
  {
   "cell_type": "code",
   "execution_count": 10,
   "metadata": {},
   "outputs": [
    {
     "data": {
      "text/plain": [
       "Text(0.5, 1.0, 'Downsampled dataset')"
      ]
     },
     "execution_count": 10,
     "metadata": {},
     "output_type": "execute_result"
    },
    {
     "data": {
      "image/png": "[encoded data removed]",
      "text/plain": [
       "<Figure size 432x288 with 1 Axes>"
      ]
     },
     "metadata": {
      "needs_background": "light"
     },
     "output_type": "display_data"
    }
   ],
   "source": [
    "sns.distplot(data['year'], hist=True, kde=False, \n",
    "             bins=int(180/5), color = 'blue',\n",
    "             hist_kws={'edgecolor':'black'})\n",
    "\n",
    "plt.ylabel(\"Audio samples\")\n",
    "plt.xlabel(\"Release Decade\")\n",
    "plt.title(\"Downsampled dataset\")"
   ]
  },
  {
   "cell_type": "raw",
   "metadata": {},
   "source": [
    "We notice that the frequency of the counts start to take off in the late 1970s \n",
    "to dawn of 1980s, likely coinciding with the invention of the CDs by Philips and Sony!"
   ]
  },
  {
   "cell_type": "code",
   "execution_count": 11,
   "metadata": {},
   "outputs": [
    {
     "data": {
      "text/plain": [
       "<matplotlib.axes._subplots.AxesSubplot at 0x7ff389ec4f70>"
      ]
     },
     "execution_count": 11,
     "metadata": {},
     "output_type": "execute_result"
    },
    {
     "data": {
      "image/png": "[encoded data removed]",
      "text/plain": [
       "<Figure size 432x288 with 1 Axes>"
      ]
     },
     "metadata": {
      "needs_background": "light"
     },
     "output_type": "display_data"
    }
   ],
   "source": [
    "boxplot = data.boxplot(column=['year'])\n",
    "boxplot"
   ]
  },
  {
   "cell_type": "code",
   "execution_count": 12,
   "metadata": {},
   "outputs": [
    {
     "name": "stdout",
     "output_type": "stream",
     "text": [
      "(Year, Features) (515345, 1)\n"
     ]
    },
    {
     "data": {
      "text/html": [
       "<div>\n",
       "<style scoped>\n",
       "    .dataframe tbody tr th:only-of-type {\n",
       "        vertical-align: middle;\n",
       "    }\n",
       "\n",
       "    .dataframe tbody tr th {\n",
       "        vertical-align: top;\n",
       "    }\n",
       "\n",
       "    .dataframe thead th {\n",
       "        text-align: right;\n",
       "    }\n",
       "</style>\n",
       "<table border=\"1\" class=\"dataframe\">\n",
       "  <thead>\n",
       "    <tr style=\"text-align: right;\">\n",
       "      <th></th>\n",
       "      <th>year</th>\n",
       "    </tr>\n",
       "  </thead>\n",
       "  <tbody>\n",
       "    <tr>\n",
       "      <th>count</th>\n",
       "      <td>515345.000000</td>\n",
       "    </tr>\n",
       "    <tr>\n",
       "      <th>mean</th>\n",
       "      <td>1998.397082</td>\n",
       "    </tr>\n",
       "    <tr>\n",
       "      <th>std</th>\n",
       "      <td>10.931046</td>\n",
       "    </tr>\n",
       "    <tr>\n",
       "      <th>min</th>\n",
       "      <td>1922.000000</td>\n",
       "    </tr>\n",
       "    <tr>\n",
       "      <th>25%</th>\n",
       "      <td>1994.000000</td>\n",
       "    </tr>\n",
       "    <tr>\n",
       "      <th>50%</th>\n",
       "      <td>2002.000000</td>\n",
       "    </tr>\n",
       "    <tr>\n",
       "      <th>75%</th>\n",
       "      <td>2006.000000</td>\n",
       "    </tr>\n",
       "    <tr>\n",
       "      <th>max</th>\n",
       "      <td>2011.000000</td>\n",
       "    </tr>\n",
       "  </tbody>\n",
       "</table>\n",
       "</div>"
      ],
      "text/plain": [
       "                year\n",
       "count  515345.000000\n",
       "mean     1998.397082\n",
       "std        10.931046\n",
       "min      1922.000000\n",
       "25%      1994.000000\n",
       "50%      2002.000000\n",
       "75%      2006.000000\n",
       "max      2011.000000"
      ]
     },
     "execution_count": 12,
     "metadata": {},
     "output_type": "execute_result"
    }
   ],
   "source": [
    "print(\"(Year, Features) {}\".format(data.iloc[:,:1].shape))\n",
    "data.iloc[:,:1].describe()"
   ]
  },
  {
   "cell_type": "raw",
   "metadata": {},
   "source": [
    "What we can clearly see is that the central mass between \n",
    "the 1st and 3rd quartiles lies in years ranging from the mid 1990s to the mid 2000s."
   ]
  },
  {
   "cell_type": "raw",
   "metadata": {},
   "source": [
    "Let's see if there is a correlation between the features and the target"
   ]
  },
  {
   "cell_type": "code",
   "execution_count": 11,
   "metadata": {},
   "outputs": [
    {
     "data": {
      "text/plain": [
       "array([[<matplotlib.axes._subplots.AxesSubplot object at 0x7f8ef3e3a1c0>,\n",
       "        <matplotlib.axes._subplots.AxesSubplot object at 0x7f8ef3e64670>,\n",
       "        <matplotlib.axes._subplots.AxesSubplot object at 0x7f8ef3e8faf0>,\n",
       "        <matplotlib.axes._subplots.AxesSubplot object at 0x7f8ef3ebcf40>,\n",
       "        <matplotlib.axes._subplots.AxesSubplot object at 0x7f8ef3ef73d0>,\n",
       "        <matplotlib.axes._subplots.AxesSubplot object at 0x7f8ef3f23760>,\n",
       "        <matplotlib.axes._subplots.AxesSubplot object at 0x7f8ef3f23850>,\n",
       "        <matplotlib.axes._subplots.AxesSubplot object at 0x7f8ef3f4fd00>,\n",
       "        <matplotlib.axes._subplots.AxesSubplot object at 0x7f8ef3fb5550>,\n",
       "        <matplotlib.axes._subplots.AxesSubplot object at 0x7f8ef3fe2a00>],\n",
       "       [<matplotlib.axes._subplots.AxesSubplot object at 0x7f8ef400ee50>,\n",
       "        <matplotlib.axes._subplots.AxesSubplot object at 0x7f8ef4048310>,\n",
       "        <matplotlib.axes._subplots.AxesSubplot object at 0x7f8ef4073760>,\n",
       "        <matplotlib.axes._subplots.AxesSubplot object at 0x7f8ef40a1bb0>,\n",
       "        <matplotlib.axes._subplots.AxesSubplot object at 0x7f8ef40d00a0>,\n",
       "        <matplotlib.axes._subplots.AxesSubplot object at 0x7f8ef4209490>,\n",
       "        <matplotlib.axes._subplots.AxesSubplot object at 0x7f8ef42348e0>,\n",
       "        <matplotlib.axes._subplots.AxesSubplot object at 0x7f8ef4261d60>,\n",
       "        <matplotlib.axes._subplots.AxesSubplot object at 0x7f8ef429a1f0>,\n",
       "        <matplotlib.axes._subplots.AxesSubplot object at 0x7f8ef42c7640>],\n",
       "       [<matplotlib.axes._subplots.AxesSubplot object at 0x7f8f267c0850>,\n",
       "        <matplotlib.axes._subplots.AxesSubplot object at 0x7f8ef3bc0df0>,\n",
       "        <matplotlib.axes._subplots.AxesSubplot object at 0x7f8ef3eb0f70>,\n",
       "        <matplotlib.axes._subplots.AxesSubplot object at 0x7f8ef4022970>,\n",
       "        <matplotlib.axes._subplots.AxesSubplot object at 0x7f8ef426ed60>,\n",
       "        <matplotlib.axes._subplots.AxesSubplot object at 0x7f8ef44c6dc0>,\n",
       "        <matplotlib.axes._subplots.AxesSubplot object at 0x7f8ef4500250>,\n",
       "        <matplotlib.axes._subplots.AxesSubplot object at 0x7f8ef452b6a0>,\n",
       "        <matplotlib.axes._subplots.AxesSubplot object at 0x7f8ef4558b20>,\n",
       "        <matplotlib.axes._subplots.AxesSubplot object at 0x7f8ef4588f70>],\n",
       "       [<matplotlib.axes._subplots.AxesSubplot object at 0x7f8ef45c1400>,\n",
       "        <matplotlib.axes._subplots.AxesSubplot object at 0x7f8ef45ec850>,\n",
       "        <matplotlib.axes._subplots.AxesSubplot object at 0x7f8ef4619ca0>,\n",
       "        <matplotlib.axes._subplots.AxesSubplot object at 0x7f8ef4653130>,\n",
       "        <matplotlib.axes._subplots.AxesSubplot object at 0x7f8ef467f580>,\n",
       "        <matplotlib.axes._subplots.AxesSubplot object at 0x7f8ef46ac9d0>,\n",
       "        <matplotlib.axes._subplots.AxesSubplot object at 0x7f8ef46dbe20>,\n",
       "        <matplotlib.axes._subplots.AxesSubplot object at 0x7f8ef47142b0>,\n",
       "        <matplotlib.axes._subplots.AxesSubplot object at 0x7f8ef4740730>,\n",
       "        <matplotlib.axes._subplots.AxesSubplot object at 0x7f8ef476eb80>],\n",
       "       [<matplotlib.axes._subplots.AxesSubplot object at 0x7f8ef4799fd0>,\n",
       "        <matplotlib.axes._subplots.AxesSubplot object at 0x7f8ef47d4460>,\n",
       "        <matplotlib.axes._subplots.AxesSubplot object at 0x7f8ef47fd8b0>,\n",
       "        <matplotlib.axes._subplots.AxesSubplot object at 0x7f8ef502dd00>,\n",
       "        <matplotlib.axes._subplots.AxesSubplot object at 0x7f8ef5065190>,\n",
       "        <matplotlib.axes._subplots.AxesSubplot object at 0x7f8ef5091610>,\n",
       "        <matplotlib.axes._subplots.AxesSubplot object at 0x7f8ef50bfa60>,\n",
       "        <matplotlib.axes._subplots.AxesSubplot object at 0x7f8ef50ebeb0>,\n",
       "        <matplotlib.axes._subplots.AxesSubplot object at 0x7f8ef5124340>,\n",
       "        <matplotlib.axes._subplots.AxesSubplot object at 0x7f8ef5152790>],\n",
       "       [<matplotlib.axes._subplots.AxesSubplot object at 0x7f8ef5182850>,\n",
       "        <matplotlib.axes._subplots.AxesSubplot object at 0x7f8ef51aafd0>,\n",
       "        <matplotlib.axes._subplots.AxesSubplot object at 0x7f8ef51df790>,\n",
       "        <matplotlib.axes._subplots.AxesSubplot object at 0x7f8ef520af10>,\n",
       "        <matplotlib.axes._subplots.AxesSubplot object at 0x7f8ef52406d0>,\n",
       "        <matplotlib.axes._subplots.AxesSubplot object at 0x7f8ef5269e80>,\n",
       "        <matplotlib.axes._subplots.AxesSubplot object at 0x7f8ef529e640>,\n",
       "        <matplotlib.axes._subplots.AxesSubplot object at 0x7f8ef52cadc0>,\n",
       "        <matplotlib.axes._subplots.AxesSubplot object at 0x7f8ef52ff580>,\n",
       "        <matplotlib.axes._subplots.AxesSubplot object at 0x7f8ef5328d00>],\n",
       "       [<matplotlib.axes._subplots.AxesSubplot object at 0x7f8ef535e4c0>,\n",
       "        <matplotlib.axes._subplots.AxesSubplot object at 0x7f8ef5389d30>,\n",
       "        <matplotlib.axes._subplots.AxesSubplot object at 0x7f8ef53be4f0>,\n",
       "        <matplotlib.axes._subplots.AxesSubplot object at 0x7f8ef53e7c70>,\n",
       "        <matplotlib.axes._subplots.AxesSubplot object at 0x7f8ef541d430>,\n",
       "        <matplotlib.axes._subplots.AxesSubplot object at 0x7f8ef5447bb0>,\n",
       "        <matplotlib.axes._subplots.AxesSubplot object at 0x7f8ef547d370>,\n",
       "        <matplotlib.axes._subplots.AxesSubplot object at 0x7f8ef54a5af0>,\n",
       "        <matplotlib.axes._subplots.AxesSubplot object at 0x7f8ef54db2b0>,\n",
       "        <matplotlib.axes._subplots.AxesSubplot object at 0x7f8ef5505a30>],\n",
       "       [<matplotlib.axes._subplots.AxesSubplot object at 0x7f8ef553b1f0>,\n",
       "        <matplotlib.axes._subplots.AxesSubplot object at 0x7f8ef5564970>,\n",
       "        <matplotlib.axes._subplots.AxesSubplot object at 0x7f8ef559b130>,\n",
       "        <matplotlib.axes._subplots.AxesSubplot object at 0x7f8ef55c48b0>,\n",
       "        <matplotlib.axes._subplots.AxesSubplot object at 0x7f8ef55ee0d0>,\n",
       "        <matplotlib.axes._subplots.AxesSubplot object at 0x7f8ef57237f0>,\n",
       "        <matplotlib.axes._subplots.AxesSubplot object at 0x7f8ef574df70>,\n",
       "        <matplotlib.axes._subplots.AxesSubplot object at 0x7f8efc056d90>,\n",
       "        <matplotlib.axes._subplots.AxesSubplot object at 0x7f8ef4543af0>,\n",
       "        <matplotlib.axes._subplots.AxesSubplot object at 0x7f8ef468a580>],\n",
       "       [<matplotlib.axes._subplots.AxesSubplot object at 0x7f8ef47d4a60>,\n",
       "        <matplotlib.axes._subplots.AxesSubplot object at 0x7f8ef50fe3d0>,\n",
       "        <matplotlib.axes._subplots.AxesSubplot object at 0x7f8ef585f2e0>,\n",
       "        <matplotlib.axes._subplots.AxesSubplot object at 0x7f8ef588c730>,\n",
       "        <matplotlib.axes._subplots.AxesSubplot object at 0x7f8ef58bab80>,\n",
       "        <matplotlib.axes._subplots.AxesSubplot object at 0x7f8ef58e7fd0>,\n",
       "        <matplotlib.axes._subplots.AxesSubplot object at 0x7f8ef5920460>,\n",
       "        <matplotlib.axes._subplots.AxesSubplot object at 0x7f8ef594b8b0>,\n",
       "        <matplotlib.axes._subplots.AxesSubplot object at 0x7f8ef5976d00>,\n",
       "        <matplotlib.axes._subplots.AxesSubplot object at 0x7f8ef59b11f0>],\n",
       "       [<matplotlib.axes._subplots.AxesSubplot object at 0x7f8ef59dd640>,\n",
       "        <matplotlib.axes._subplots.AxesSubplot object at 0x7f8ef5a0b9d0>,\n",
       "        <matplotlib.axes._subplots.AxesSubplot object at 0x7f8ef5a3a040>,\n",
       "        <matplotlib.axes._subplots.AxesSubplot object at 0x7f8ef5a67460>,\n",
       "        <matplotlib.axes._subplots.AxesSubplot object at 0x7f8ef5a928b0>,\n",
       "        <matplotlib.axes._subplots.AxesSubplot object at 0x7f8ef5ac0d00>,\n",
       "        <matplotlib.axes._subplots.AxesSubplot object at 0x7f8ef5af9190>,\n",
       "        <matplotlib.axes._subplots.AxesSubplot object at 0x7f8ef5b265e0>,\n",
       "        <matplotlib.axes._subplots.AxesSubplot object at 0x7f8ef5b51a60>,\n",
       "        <matplotlib.axes._subplots.AxesSubplot object at 0x7f8ef5b7eeb0>]],\n",
       "      dtype=object)"
      ]
     },
     "execution_count": 11,
     "metadata": {},
     "output_type": "execute_result"
    },
    {
     "data": {
      "image/png": "[encoded data removed]",
      "text/plain": [
       "<Figure size 1152x1440 with 100 Axes>"
      ]
     },
     "metadata": {
      "needs_background": "light"
     },
     "output_type": "display_data"
    }
   ],
   "source": [
    "data.hist(figsize=(16, 20), bins=50, xlabelsize=8, ylabelsize=8)"
   ]
  },
  {
   "cell_type": "raw",
   "metadata": {},
   "source": [
    "Timbre1 is the only variable that seems to share a similar shape with our target"
   ]
  },
  {
   "cell_type": "code",
   "execution_count": 104,
   "metadata": {},
   "outputs": [],
   "source": [
    "#We normalize the data\n",
    "data.iloc[:,1:] = (data.iloc[:,1:]-data.iloc[:,1:].min())/(data.iloc[:,1:].max() - data.iloc[:,1:].min())"
   ]
  },
  {
   "cell_type": "code",
   "execution_count": 61,
   "metadata": {},
   "outputs": [
    {
     "data": {
      "text/html": [
       "<div>\n",
       "<style scoped>\n",
       "    .dataframe tbody tr th:only-of-type {\n",
       "        vertical-align: middle;\n",
       "    }\n",
       "\n",
       "    .dataframe tbody tr th {\n",
       "        vertical-align: top;\n",
       "    }\n",
       "\n",
       "    .dataframe thead th {\n",
       "        text-align: right;\n",
       "    }\n",
       "</style>\n",
       "<table border=\"1\" class=\"dataframe\">\n",
       "  <thead>\n",
       "    <tr style=\"text-align: right;\">\n",
       "      <th></th>\n",
       "      <th>year</th>\n",
       "      <th>timbre1</th>\n",
       "      <th>timbre2</th>\n",
       "      <th>timbre3</th>\n",
       "      <th>timbre4</th>\n",
       "      <th>timbre5</th>\n",
       "      <th>timbre6</th>\n",
       "      <th>timbre7</th>\n",
       "      <th>timbre8</th>\n",
       "      <th>timbre9</th>\n",
       "      <th>...</th>\n",
       "      <th>timbre81</th>\n",
       "      <th>timbre82</th>\n",
       "      <th>timbre83</th>\n",
       "      <th>timbre84</th>\n",
       "      <th>timbre85</th>\n",
       "      <th>timbre86</th>\n",
       "      <th>timbre87</th>\n",
       "      <th>timbre88</th>\n",
       "      <th>timbre89</th>\n",
       "      <th>timbre90</th>\n",
       "    </tr>\n",
       "  </thead>\n",
       "  <tbody>\n",
       "    <tr>\n",
       "      <th>count</th>\n",
       "      <td>515345.000000</td>\n",
       "      <td>515345.000000</td>\n",
       "      <td>515345.000000</td>\n",
       "      <td>515345.000000</td>\n",
       "      <td>515345.000000</td>\n",
       "      <td>515345.000000</td>\n",
       "      <td>515345.000000</td>\n",
       "      <td>515345.000000</td>\n",
       "      <td>515345.000000</td>\n",
       "      <td>515345.000000</td>\n",
       "      <td>...</td>\n",
       "      <td>515345.000000</td>\n",
       "      <td>515345.000000</td>\n",
       "      <td>515345.000000</td>\n",
       "      <td>515345.000000</td>\n",
       "      <td>515345.000000</td>\n",
       "      <td>515345.000000</td>\n",
       "      <td>515345.000000</td>\n",
       "      <td>515345.000000</td>\n",
       "      <td>515345.000000</td>\n",
       "      <td>515345.000000</td>\n",
       "    </tr>\n",
       "    <tr>\n",
       "      <th>mean</th>\n",
       "      <td>1998.397082</td>\n",
       "      <td>0.691420</td>\n",
       "      <td>0.469220</td>\n",
       "      <td>0.496370</td>\n",
       "      <td>0.317065</td>\n",
       "      <td>0.395025</td>\n",
       "      <td>0.291384</td>\n",
       "      <td>0.515292</td>\n",
       "      <td>0.354893</td>\n",
       "      <td>0.477338</td>\n",
       "      <td>...</td>\n",
       "      <td>0.354641</td>\n",
       "      <td>0.487939</td>\n",
       "      <td>0.368868</td>\n",
       "      <td>0.649008</td>\n",
       "      <td>0.567965</td>\n",
       "      <td>0.466491</td>\n",
       "      <td>0.600212</td>\n",
       "      <td>0.343834</td>\n",
       "      <td>0.503537</td>\n",
       "      <td>0.361319</td>\n",
       "    </tr>\n",
       "    <tr>\n",
       "      <th>std</th>\n",
       "      <td>10.931046</td>\n",
       "      <td>0.100755</td>\n",
       "      <td>0.071524</td>\n",
       "      <td>0.056533</td>\n",
       "      <td>0.033315</td>\n",
       "      <td>0.051486</td>\n",
       "      <td>0.051839</td>\n",
       "      <td>0.040408</td>\n",
       "      <td>0.039970</td>\n",
       "      <td>0.038797</td>\n",
       "      <td>...</td>\n",
       "      <td>0.025103</td>\n",
       "      <td>0.019795</td>\n",
       "      <td>0.024342</td>\n",
       "      <td>0.019669</td>\n",
       "      <td>0.026832</td>\n",
       "      <td>0.016751</td>\n",
       "      <td>0.024320</td>\n",
       "      <td>0.019081</td>\n",
       "      <td>0.012494</td>\n",
       "      <td>0.020852</td>\n",
       "    </tr>\n",
       "    <tr>\n",
       "      <th>min</th>\n",
       "      <td>1922.000000</td>\n",
       "      <td>0.000000</td>\n",
       "      <td>0.000000</td>\n",
       "      <td>0.000000</td>\n",
       "      <td>0.000000</td>\n",
       "      <td>0.000000</td>\n",
       "      <td>0.000000</td>\n",
       "      <td>0.000000</td>\n",
       "      <td>0.000000</td>\n",
       "      <td>0.000000</td>\n",
       "      <td>...</td>\n",
       "      <td>0.000000</td>\n",
       "      <td>0.000000</td>\n",
       "      <td>0.000000</td>\n",
       "      <td>0.000000</td>\n",
       "      <td>0.000000</td>\n",
       "      <td>0.000000</td>\n",
       "      <td>0.000000</td>\n",
       "      <td>0.000000</td>\n",
       "      <td>0.000000</td>\n",
       "      <td>0.000000</td>\n",
       "    </tr>\n",
       "    <tr>\n",
       "      <th>25%</th>\n",
       "      <td>1994.000000</td>\n",
       "      <td>0.634423</td>\n",
       "      <td>0.431296</td>\n",
       "      <td>0.464117</td>\n",
       "      <td>0.297366</td>\n",
       "      <td>0.363241</td>\n",
       "      <td>0.255425</td>\n",
       "      <td>0.492028</td>\n",
       "      <td>0.331428</td>\n",
       "      <td>0.455263</td>\n",
       "      <td>...</td>\n",
       "      <td>0.340902</td>\n",
       "      <td>0.480489</td>\n",
       "      <td>0.356416</td>\n",
       "      <td>0.640192</td>\n",
       "      <td>0.556182</td>\n",
       "      <td>0.459281</td>\n",
       "      <td>0.589698</td>\n",
       "      <td>0.333791</td>\n",
       "      <td>0.498181</td>\n",
       "      <td>0.351738</td>\n",
       "    </tr>\n",
       "    <tr>\n",
       "      <th>50%</th>\n",
       "      <td>2002.000000</td>\n",
       "      <td>0.705890</td>\n",
       "      <td>0.479105</td>\n",
       "      <td>0.499284</td>\n",
       "      <td>0.313357</td>\n",
       "      <td>0.396254</td>\n",
       "      <td>0.284665</td>\n",
       "      <td>0.516247</td>\n",
       "      <td>0.355178</td>\n",
       "      <td>0.477685</td>\n",
       "      <td>...</td>\n",
       "      <td>0.349492</td>\n",
       "      <td>0.490235</td>\n",
       "      <td>0.366329</td>\n",
       "      <td>0.648116</td>\n",
       "      <td>0.568804</td>\n",
       "      <td>0.466188</td>\n",
       "      <td>0.600926</td>\n",
       "      <td>0.341917</td>\n",
       "      <td>0.502710</td>\n",
       "      <td>0.360114</td>\n",
       "    </tr>\n",
       "    <tr>\n",
       "      <th>75%</th>\n",
       "      <td>2006.000000</td>\n",
       "      <td>0.765261</td>\n",
       "      <td>0.517524</td>\n",
       "      <td>0.530202</td>\n",
       "      <td>0.332624</td>\n",
       "      <td>0.427220</td>\n",
       "      <td>0.320143</td>\n",
       "      <td>0.539971</td>\n",
       "      <td>0.378515</td>\n",
       "      <td>0.500192</td>\n",
       "      <td>...</td>\n",
       "      <td>0.362867</td>\n",
       "      <td>0.497739</td>\n",
       "      <td>0.378451</td>\n",
       "      <td>0.657254</td>\n",
       "      <td>0.581505</td>\n",
       "      <td>0.473829</td>\n",
       "      <td>0.611214</td>\n",
       "      <td>0.351711</td>\n",
       "      <td>0.508002</td>\n",
       "      <td>0.369201</td>\n",
       "    </tr>\n",
       "    <tr>\n",
       "      <th>max</th>\n",
       "      <td>2011.000000</td>\n",
       "      <td>1.000000</td>\n",
       "      <td>1.000000</td>\n",
       "      <td>1.000000</td>\n",
       "      <td>1.000000</td>\n",
       "      <td>1.000000</td>\n",
       "      <td>1.000000</td>\n",
       "      <td>1.000000</td>\n",
       "      <td>1.000000</td>\n",
       "      <td>1.000000</td>\n",
       "      <td>...</td>\n",
       "      <td>1.000000</td>\n",
       "      <td>1.000000</td>\n",
       "      <td>1.000000</td>\n",
       "      <td>1.000000</td>\n",
       "      <td>1.000000</td>\n",
       "      <td>1.000000</td>\n",
       "      <td>1.000000</td>\n",
       "      <td>1.000000</td>\n",
       "      <td>1.000000</td>\n",
       "      <td>1.000000</td>\n",
       "    </tr>\n",
       "  </tbody>\n",
       "</table>\n",
       "<p>8 rows × 91 columns</p>\n",
       "</div>"
      ],
      "text/plain": [
       "                year        timbre1        timbre2        timbre3  \\\n",
       "count  515345.000000  515345.000000  515345.000000  515345.000000   \n",
       "mean     1998.397082       0.691420       0.469220       0.496370   \n",
       "std        10.931046       0.100755       0.071524       0.056533   \n",
       "min      1922.000000       0.000000       0.000000       0.000000   \n",
       "25%      1994.000000       0.634423       0.431296       0.464117   \n",
       "50%      2002.000000       0.705890       0.479105       0.499284   \n",
       "75%      2006.000000       0.765261       0.517524       0.530202   \n",
       "max      2011.000000       1.000000       1.000000       1.000000   \n",
       "\n",
       "             timbre4        timbre5        timbre6        timbre7  \\\n",
       "count  515345.000000  515345.000000  515345.000000  515345.000000   \n",
       "mean        0.317065       0.395025       0.291384       0.515292   \n",
       "std         0.033315       0.051486       0.051839       0.040408   \n",
       "min         0.000000       0.000000       0.000000       0.000000   \n",
       "25%         0.297366       0.363241       0.255425       0.492028   \n",
       "50%         0.313357       0.396254       0.284665       0.516247   \n",
       "75%         0.332624       0.427220       0.320143       0.539971   \n",
       "max         1.000000       1.000000       1.000000       1.000000   \n",
       "\n",
       "             timbre8        timbre9  ...       timbre81       timbre82  \\\n",
       "count  515345.000000  515345.000000  ...  515345.000000  515345.000000   \n",
       "mean        0.354893       0.477338  ...       0.354641       0.487939   \n",
       "std         0.039970       0.038797  ...       0.025103       0.019795   \n",
       "min         0.000000       0.000000  ...       0.000000       0.000000   \n",
       "25%         0.331428       0.455263  ...       0.340902       0.480489   \n",
       "50%         0.355178       0.477685  ...       0.349492       0.490235   \n",
       "75%         0.378515       0.500192  ...       0.362867       0.497739   \n",
       "max         1.000000       1.000000  ...       1.000000       1.000000   \n",
       "\n",
       "            timbre83       timbre84       timbre85       timbre86  \\\n",
       "count  515345.000000  515345.000000  515345.000000  515345.000000   \n",
       "mean        0.368868       0.649008       0.567965       0.466491   \n",
       "std         0.024342       0.019669       0.026832       0.016751   \n",
       "min         0.000000       0.000000       0.000000       0.000000   \n",
       "25%         0.356416       0.640192       0.556182       0.459281   \n",
       "50%         0.366329       0.648116       0.568804       0.466188   \n",
       "75%         0.378451       0.657254       0.581505       0.473829   \n",
       "max         1.000000       1.000000       1.000000       1.000000   \n",
       "\n",
       "            timbre87       timbre88       timbre89       timbre90  \n",
       "count  515345.000000  515345.000000  515345.000000  515345.000000  \n",
       "mean        0.600212       0.343834       0.503537       0.361319  \n",
       "std         0.024320       0.019081       0.012494       0.020852  \n",
       "min         0.000000       0.000000       0.000000       0.000000  \n",
       "25%         0.589698       0.333791       0.498181       0.351738  \n",
       "50%         0.600926       0.341917       0.502710       0.360114  \n",
       "75%         0.611214       0.351711       0.508002       0.369201  \n",
       "max         1.000000       1.000000       1.000000       1.000000  \n",
       "\n",
       "[8 rows x 91 columns]"
      ]
     },
     "execution_count": 61,
     "metadata": {},
     "output_type": "execute_result"
    }
   ],
   "source": [
    "data.describe()"
   ]
  },
  {
   "cell_type": "raw",
   "metadata": {},
   "source": [
    "The min is 0 and the max is 1 for every features"
   ]
  },
  {
   "cell_type": "raw",
   "metadata": {},
   "source": [
    "Correlation matrix"
   ]
  },
  {
   "cell_type": "code",
   "execution_count": 42,
   "metadata": {},
   "outputs": [
    {
     "data": {
      "image/png": "[encoded data removed]",
      "text/plain": [
       "<Figure size 1080x1080 with 2 Axes>"
      ]
     },
     "metadata": {
      "needs_background": "light"
     },
     "output_type": "display_data"
    }
   ],
   "source": [
    "corr = data.iloc[:,:].corr()\n",
    "fig, ax = plt.subplots(figsize=(15,15)) \n",
    "plt.title(\"Correlation\")\n",
    "sns.heatmap(corr, square=True, cmap='coolwarm', annot=False)\n",
    "plt.show()"
   ]
  },
  {
   "cell_type": "raw",
   "metadata": {},
   "source": [
    "We notice some important correlation around the variables timbre14 to timbre timbre24"
   ]
  },
  {
   "cell_type": "code",
   "execution_count": 62,
   "metadata": {},
   "outputs": [],
   "source": [
    "data.grouped=pd.read_csv('/Users/luciedrevet/Documents/S7/Python for data analysis/Projet/YearPredictionMSD.csv', names=features)\n",
    "data.grouped['year'] = data.grouped.year.apply(lambda year : year-(year%10))\n",
    "data.grouped.iloc[:,1:] = (data.grouped.iloc[:,1:]-data.grouped.iloc[:,1:].min())/(data.grouped.iloc[:,1:].max() - data.grouped.iloc[:,1:].min())"
   ]
  },
  {
   "cell_type": "raw",
   "metadata": {},
   "source": [
    "We group together by tens of years"
   ]
  },
  {
   "cell_type": "raw",
   "metadata": {},
   "source": [
    "Does the features differ by release decade ? "
   ]
  },
  {
   "cell_type": "code",
   "execution_count": 63,
   "metadata": {},
   "outputs": [
    {
     "data": {
      "image/png": "[encoded data removed]",
      "text/plain": [
       "<Figure size 1440x360 with 2 Axes>"
      ]
     },
     "metadata": {
      "needs_background": "light"
     },
     "output_type": "display_data"
    }
   ],
   "source": [
    "columns = data.grouped.groupby(['year']).mean().columns\n",
    "labels = [\"{:02d}'s\".format(l%100) for l in sorted(data.grouped.year.unique())]\n",
    "fig, ax = plt.subplots(figsize=(20,5)) \n",
    "sns.heatmap(data.grouped.groupby(['year']).mean().iloc[:,:], yticklabels=labels)\n",
    "plt.ylabel(\"Release Decade\")\n",
    "plt.xlabel(\"Features (Mean)\")\n",
    "plt.show()"
   ]
  },
  {
   "cell_type": "raw",
   "metadata": {},
   "source": [
    "We can see that exept for the variable 'timbre1', the features are pretty much the same by release decade..."
   ]
  },
  {
   "cell_type": "code",
   "execution_count": 64,
   "metadata": {},
   "outputs": [
    {
     "data": {
      "image/png": "[encoded data removed]",
      "text/plain": [
       "<Figure size 1440x1440 with 2 Axes>"
      ]
     },
     "metadata": {
      "needs_background": "light"
     },
     "output_type": "display_data"
    }
   ],
   "source": [
    "# Correlation between the release decade and the timbre1 feature\n",
    "corr = data.iloc[:,:2].corr()\n",
    "fig, ax = plt.subplots(figsize=(20,20)) \n",
    "plt.title(\"Correlation\")\n",
    "sns.heatmap(corr, square=True, cmap='coolwarm', annot=True)\n",
    "plt.show()"
   ]
  },
  {
   "cell_type": "raw",
   "metadata": {},
   "source": [
    "And the correlation is pretty low..."
   ]
  },
  {
   "cell_type": "markdown",
   "metadata": {},
   "source": [
    "## Preprocessing the data"
   ]
  },
  {
   "cell_type": "raw",
   "metadata": {},
   "source": [
    "We already scale the data"
   ]
  },
  {
   "cell_type": "code",
   "execution_count": 65,
   "metadata": {},
   "outputs": [
    {
     "name": "stdout",
     "output_type": "stream",
     "text": [
      "Train : X  (463715, 90) , Y  (463715,)\n",
      "Test : X  (51630, 90) , Y  (51630,)\n"
     ]
    }
   ],
   "source": [
    "# Separate train attributes and test into different dataframes\n",
    "X = data.iloc[:,1:]\n",
    "Y = data.iloc[:,0]\n",
    "Y = Y - Y.min()    \n",
    "\n",
    "Train = data.iloc[0:463715]\n",
    "Test = data.iloc[463715:]\n",
    "\n",
    "# Train set\n",
    "X_train = X.iloc[0:463715].values\n",
    "y_train = Y.iloc[0:463715].values\n",
    "\n",
    "# Validation set\n",
    "X_test = X.iloc[463715:].values\n",
    "y_test = Y.iloc[463715:].values\n",
    "print(\"Train : X \", X_train.shape, \", Y \", y_train.shape)\n",
    "print(\"Test : X \", X_test.shape, \", Y \", y_test.shape)\n"
   ]
  },
  {
   "cell_type": "code",
   "execution_count": 66,
   "metadata": {},
   "outputs": [
    {
     "data": {
      "text/plain": [
       "<matplotlib.legend.Legend at 0x7ff26a4ac2b0>"
      ]
     },
     "execution_count": 66,
     "metadata": {},
     "output_type": "execute_result"
    },
    {
     "data": {
      "image/png": "[encoded data removed]",
      "text/plain": [
       "<Figure size 432x288 with 1 Axes>"
      ]
     },
     "metadata": {
      "needs_background": "light"
     },
     "output_type": "display_data"
    }
   ],
   "source": [
    "for i in range(1,40):\n",
    "    plt.plot(X_train[i], label='song_' + str(i))\n",
    "    \n",
    "plt.xlabel(\"Feature\")\n",
    "plt.ylabel(\"Value\")\n",
    "plt.legend(loc='upper center', bbox_to_anchor=(0.8, 0.9), ncol=5, fancybox=True, shadow=True, fontsize=7)"
   ]
  },
  {
   "cell_type": "code",
   "execution_count": 27,
   "metadata": {},
   "outputs": [],
   "source": [
    "# PCA"
   ]
  },
  {
   "cell_type": "code",
   "execution_count": 28,
   "metadata": {},
   "outputs": [],
   "source": [
    "def c_variance(x):\n",
    "    total=0\n",
    "    clist=[]\n",
    "    for i in np.arange(0,X_train.shape[1]):\n",
    "        p=PCA(n_components=i+1)\n",
    "        p.fit(x)\n",
    "        total=total+p.explained_variance_ratio_[i]\n",
    "        clist.append(total)\n",
    "        \n",
    "    return clist\n",
    "x_train_variance=list(map(lambda x:x*100,c_variance(X_train)))"
   ]
  },
  {
   "cell_type": "code",
   "execution_count": 29,
   "metadata": {},
   "outputs": [
    {
     "data": {
      "text/plain": [
       "Text(0.5, 1.0, 'comulative variance ratio of p.c.a components')"
      ]
     },
     "execution_count": 29,
     "metadata": {},
     "output_type": "execute_result"
    },
    {
     "data": {
      "image/png": "[encoded data removed]",
      "text/plain": [
       "<Figure size 1080x720 with 1 Axes>"
      ]
     },
     "metadata": {
      "needs_background": "light"
     },
     "output_type": "display_data"
    }
   ],
   "source": [
    "plt.figure(figsize=(15,10))\n",
    "plt.plot(np.arange(1,X_train.shape[1]+1),x_train_variance,marker='o',markerfacecolor='red',lw=6)\n",
    "plt.xlabel('number of components')\n",
    "plt.ylabel('comulative variance %')\n",
    "plt.title('comulative variance ratio of p.c.a components')"
   ]
  },
  {
   "cell_type": "code",
   "execution_count": 30,
   "metadata": {},
   "outputs": [],
   "source": [
    "pca = PCA(n_components=20).fit(X_train)\n",
    "X_pca = pca.transform(X_train)"
   ]
  },
  {
   "cell_type": "code",
   "execution_count": 32,
   "metadata": {},
   "outputs": [],
   "source": [
    "p_train=pca.fit_transform(X_train)"
   ]
  },
  {
   "cell_type": "markdown",
   "metadata": {},
   "source": [
    "## MODEL"
   ]
  },
  {
   "cell_type": "raw",
   "metadata": {},
   "source": [
    "Lets train some models"
   ]
  },
  {
   "cell_type": "code",
   "execution_count": null,
   "metadata": {},
   "outputs": [],
   "source": [
    "#LOGISTIC REGRESSION"
   ]
  },
  {
   "cell_type": "code",
   "execution_count": 94,
   "metadata": {},
   "outputs": [
    {
     "name": "stderr",
     "output_type": "stream",
     "text": [
      "/Users/luciedrevet/opt/anaconda3/lib/python3.8/site-packages/sklearn/linear_model/_logistic.py:762: ConvergenceWarning: lbfgs failed to converge (status=1):\n",
      "STOP: TOTAL NO. of ITERATIONS REACHED LIMIT.\n",
      "\n",
      "Increase the number of iterations (max_iter) or scale the data as shown in:\n",
      "    https://scikit-learn.org/stable/modules/preprocessing.html\n",
      "Please also refer to the documentation for alternative solver options:\n",
      "    https://scikit-learn.org/stable/modules/linear_model.html#logistic-regression\n",
      "  n_iter_i = _check_optimize_result(\n"
     ]
    }
   ],
   "source": [
    "clf3 = LogisticRegression()\n",
    "clf3.fit(X_train, y_train)\n",
    "predicted3 = clf3.predict(X_test)"
   ]
  },
  {
   "cell_type": "code",
   "execution_count": 95,
   "metadata": {},
   "outputs": [],
   "source": [
    "predicted3=predicted3.round()\n",
    "cnf_matrix3 = metrics.confusion_matrix(y_test, predicted3)"
   ]
  },
  {
   "cell_type": "code",
   "execution_count": 105,
   "metadata": {},
   "outputs": [
    {
     "data": {
      "text/plain": [
       "0.07627348440828975"
      ]
     },
     "execution_count": 105,
     "metadata": {},
     "output_type": "execute_result"
    }
   ],
   "source": [
    "a1 = accuracy_score(y_test, predicted3)\n",
    "a1"
   ]
  },
  {
   "cell_type": "raw",
   "metadata": {},
   "source": [
    "We are gonna create a list to recuperate all the accuracy to compare the model at the end"
   ]
  },
  {
   "cell_type": "code",
   "execution_count": 142,
   "metadata": {},
   "outputs": [],
   "source": [
    "all_acc = {\"Acc_logistic\", \"Acc_DT\", \"Acc_NN\", \"Acc_NN_grouped\",\"Acc_logistic_grouped\"}"
   ]
  },
  {
   "cell_type": "code",
   "execution_count": null,
   "metadata": {},
   "outputs": [],
   "source": [
    "#DECISION TREE"
   ]
  },
  {
   "cell_type": "code",
   "execution_count": 109,
   "metadata": {},
   "outputs": [],
   "source": [
    "clf4 = DecisionTreeRegressor()\n",
    "clf4.fit(X_train, y_train)\n",
    "predicted4 = clf4.predict(X_test)"
   ]
  },
  {
   "cell_type": "code",
   "execution_count": 110,
   "metadata": {},
   "outputs": [],
   "source": [
    "predicted4 = predicted4.round()\n",
    "cnf_matrix4 = metrics.confusion_matrix(y_test, predicted4)"
   ]
  },
  {
   "cell_type": "code",
   "execution_count": 111,
   "metadata": {},
   "outputs": [
    {
     "data": {
      "text/plain": [
       "0.05556846794499322"
      ]
     },
     "execution_count": 111,
     "metadata": {},
     "output_type": "execute_result"
    }
   ],
   "source": [
    "a2 = accuracy_score(y_test, predicted4)\n",
    "a2"
   ]
  },
  {
   "cell_type": "code",
   "execution_count": 14,
   "metadata": {},
   "outputs": [],
   "source": [
    "#Neural net"
   ]
  },
  {
   "cell_type": "code",
   "execution_count": 67,
   "metadata": {},
   "outputs": [],
   "source": [
    "# Our deep learning library is Keras\n",
    "\n",
    "from keras import models\n",
    "from keras import layers\n",
    "from keras.models import Sequential\n",
    "from keras.layers.core import Dense, Dropout\n",
    "from keras.models import load_model\n",
    "from keras.regularizers import l2\n",
    "from keras.utils import np_utils\n",
    "import numpy as np\n",
    "# fixed random seed for reproducibility\n",
    "np.random.seed(0)\n",
    "import sys\n",
    "sys.path.append(\"c:/ml/lib\")\n",
    "from tensorflow.python.keras.callbacks import ReduceLROnPlateau, EarlyStopping\n",
    "from keras.optimizers import RMSprop\n",
    "from keras.wrappers.scikit_learn import KerasClassifier\n",
    "from sklearn.pipeline import Pipeline\n",
    "from sklearn.model_selection import GridSearchCV\n",
    "from sklearn.feature_extraction.text import TfidfVectorizer\n",
    "from sklearn.preprocessing import StandardScaler"
   ]
  },
  {
   "cell_type": "code",
   "execution_count": 68,
   "metadata": {},
   "outputs": [],
   "source": [
    "#X_test.shape[0]\n",
    "Y_train = np_utils.to_categorical(y_train, 90)\n",
    "Y_test = np_utils.to_categorical(y_test, 90)"
   ]
  },
  {
   "cell_type": "code",
   "execution_count": 69,
   "metadata": {},
   "outputs": [],
   "source": [
    "# Our first Keras Model\n",
    "model1 = Sequential()\n",
    "model1.add(Dense(90, input_shape=(90,), activation='tanh'))\n",
    "model1.add(Dense(110, activation='tanh'))\n",
    "model1.add(Dropout(0.2))\n",
    "model1.add(Dense(90, activation='sigmoid'))"
   ]
  },
  {
   "cell_type": "code",
   "execution_count": 70,
   "metadata": {},
   "outputs": [],
   "source": [
    "model1.compile(loss='binary_crossentropy', optimizer='Adam', metrics=['accuracy'])"
   ]
  },
  {
   "cell_type": "code",
   "execution_count": 72,
   "metadata": {},
   "outputs": [
    {
     "name": "stdout",
     "output_type": "stream",
     "text": [
      "Epoch 1/5\n",
      "7246/7246 [==============================] - 7s 921us/step - loss: 0.0506 - accuracy: 0.0704 - val_loss: 0.0477 - val_accuracy: 0.0773\n",
      "Epoch 2/5\n",
      "7246/7246 [==============================] - 6s 875us/step - loss: 0.0475 - accuracy: 0.0765 - val_loss: 0.0468 - val_accuracy: 0.0764\n",
      "Epoch 3/5\n",
      "7246/7246 [==============================] - 6s 895us/step - loss: 0.0472 - accuracy: 0.0789 - val_loss: 0.0467 - val_accuracy: 0.0741\n",
      "Epoch 4/5\n",
      "7246/7246 [==============================] - 6s 872us/step - loss: 0.0470 - accuracy: 0.0807 - val_loss: 0.0467 - val_accuracy: 0.0778\n",
      "Epoch 5/5\n",
      "7246/7246 [==============================] - 6s 890us/step - loss: 0.0469 - accuracy: 0.0802 - val_loss: 0.0466 - val_accuracy: 0.0807\n"
     ]
    }
   ],
   "source": [
    "h1=model1.fit(\n",
    "    X_train,\n",
    "    Y_train,\n",
    "    batch_size=64,\n",
    "    epochs=5,\n",
    "    validation_data=(X_test, Y_test)\n",
    ")"
   ]
  },
  {
   "cell_type": "code",
   "execution_count": 73,
   "metadata": {},
   "outputs": [
    {
     "data": {
      "image/png": "[encoded data removed]",
      "text/plain": [
       "<Figure size 432x288 with 1 Axes>"
      ]
     },
     "metadata": {
      "needs_background": "light"
     },
     "output_type": "display_data"
    }
   ],
   "source": [
    "history_dict = h1.history\n",
    "loss_values = history_dict['loss']\n",
    "val_loss_values = history_dict['val_loss']\n",
    "\n",
    "epochs = range(1, 5 + 1)\n",
    "\n",
    "plt.plot(epochs, loss_values, 'bo', label = 'Training loss')\n",
    "plt.plot(epochs, val_loss_values, 'b', label = 'Validation loss')\n",
    "plt.title('Traing and validation loss')\n",
    "plt.xlabel('Epochs')\n",
    "plt.ylabel('Loss')\n",
    "plt.legend()\n",
    "\n",
    "plt.show()"
   ]
  },
  {
   "cell_type": "code",
   "execution_count": 74,
   "metadata": {},
   "outputs": [
    {
     "data": {
      "image/png": "[encoded data removed]",
      "text/plain": [
       "<Figure size 432x288 with 1 Axes>"
      ]
     },
     "metadata": {
      "needs_background": "light"
     },
     "output_type": "display_data"
    }
   ],
   "source": [
    "plt.clf()\n",
    "acc_values = history_dict['accuracy']\n",
    "val_acc_values = history_dict['val_accuracy']\n",
    "\n",
    "epochs = range(1, 5 + 1)\n",
    "\n",
    "plt.plot(epochs, acc_values, 'bo', label = 'Training acc')\n",
    "plt.plot(epochs, val_acc_values, 'b', label = 'Validation acc')\n",
    "plt.title('Traing and validation accuracy')\n",
    "plt.xlabel('Epochs')\n",
    "plt.ylabel('Acc')\n",
    "plt.legend()\n",
    "\n",
    "plt.show()"
   ]
  },
  {
   "cell_type": "code",
   "execution_count": 75,
   "metadata": {},
   "outputs": [
    {
     "data": {
      "text/plain": [
       "array([83, 85, 85, ..., 85, 85, 85])"
      ]
     },
     "execution_count": 75,
     "metadata": {},
     "output_type": "execute_result"
    }
   ],
   "source": [
    "P = model1.predict_classes(X_test)\n",
    "P"
   ]
  },
  {
   "cell_type": "code",
   "execution_count": 113,
   "metadata": {},
   "outputs": [
    {
     "data": {
      "text/plain": [
       "0.08068952159597133"
      ]
     },
     "execution_count": 113,
     "metadata": {},
     "output_type": "execute_result"
    }
   ],
   "source": [
    "cnf_matrix8 = metrics.confusion_matrix(y_test, P)\n",
    "a3 = accuracy_score(y_test, P)\n",
    "a3"
   ]
  },
  {
   "cell_type": "code",
   "execution_count": 78,
   "metadata": {},
   "outputs": [
    {
     "data": {
      "text/plain": [
       "<Figure size 432x288 with 0 Axes>"
      ]
     },
     "metadata": {},
     "output_type": "display_data"
    },
    {
     "data": {
      "image/png": "[encoded data removed]",
      "text/plain": [
       "<Figure size 1080x1080 with 2 Axes>"
      ]
     },
     "metadata": {
      "needs_background": "light"
     },
     "output_type": "display_data"
    }
   ],
   "source": [
    "def plot_confusion_matrix(cm, classes,\n",
    "                          normalize=False,\n",
    "                          title='Confusion matrix',\n",
    "                          cmap=plt.cm.Blues):\n",
    "    \"\"\"\n",
    "    This function prints and plots the confusion matrix.\n",
    "    Normalization can be applied by setting `normalize=True`.\n",
    "    \"\"\"\n",
    "    if normalize:\n",
    "        cm = cm.astype('float') / cm.sum(axis=1)[:, np.newaxis]\n",
    "    \n",
    "    plt.imshow(cm, interpolation='nearest', cmap=cmap)\n",
    "    plt.title(title)\n",
    "    plt.colorbar()\n",
    "    tick_marks = np.arange(len(classes))\n",
    "    plt.xticks(tick_marks, classes, rotation=45)\n",
    "    plt.yticks(tick_marks, classes)\n",
    "\n",
    "    fmt = '.2f' if normalize else 'd'\n",
    "    thresh = cm.max() / 2.\n",
    "\n",
    "    plt.tight_layout()\n",
    "    plt.ylabel('True label')\n",
    "    plt.xlabel('Predicted label')\n",
    "\n",
    "# Compute confusion matrix\n",
    "np.set_printoptions(precision=2)\n",
    "\n",
    "# Plot non-normalized confusion matrix\n",
    "plt.figure()\n",
    "fig, ax = plt.subplots(figsize=(15,15)) \n",
    "labels = sorted(Test.year.unique())\n",
    "plot_confusion_matrix(cnf_matrix8, classes=[\"{:02d}'s\".format(label%100) for label in labels],\n",
    "                      title='Confusion matrix')\n",
    "\n",
    "\n",
    "plt.show()"
   ]
  },
  {
   "cell_type": "raw",
   "metadata": {},
   "source": [
    "For all the previous model, the results are pretty lame if we can say"
   ]
  },
  {
   "cell_type": "raw",
   "metadata": {},
   "source": [
    "So we are gonna try something else : prediction by group of year"
   ]
  },
  {
   "cell_type": "code",
   "execution_count": 79,
   "metadata": {},
   "outputs": [
    {
     "name": "stdout",
     "output_type": "stream",
     "text": [
      "Train grouped : X  (463715, 90) , Y  (463715,)\n",
      "Test grouped: X  (51630, 90) , Y  (51630,)\n"
     ]
    }
   ],
   "source": [
    "# separate train attributes and test into different dataframes\n",
    "Xg = data.grouped.iloc[:,1:]\n",
    "Yg = data.grouped.iloc[:,0]\n",
    "Yg = Yg - Yg.min()    \n",
    "\n",
    "Traing = data.grouped.iloc[0:463715]\n",
    "Testg = data.grouped.iloc[463715:]\n",
    "\n",
    "# Train set\n",
    "X_traing = Xg.iloc[0:463715].values\n",
    "y_traing = Yg.iloc[0:463715].values\n",
    "\n",
    "# Validation set\n",
    "X_testg = Xg.iloc[463715:].values\n",
    "y_testg = Yg.iloc[463715:].values\n",
    "print(\"Train grouped : X \", X_traing.shape, \", Y \", y_traing.shape)\n",
    "print(\"Test grouped: X \", X_testg.shape, \", Y \", y_testg.shape)"
   ]
  },
  {
   "cell_type": "code",
   "execution_count": 80,
   "metadata": {},
   "outputs": [],
   "source": [
    "Y_traing = np_utils.to_categorical(y_traing-1, 90)\n",
    "Y_testg = np_utils.to_categorical(y_testg-1, 90)"
   ]
  },
  {
   "cell_type": "raw",
   "metadata": {},
   "source": [
    "We are gonna make gridsearchs to look for the best parameters"
   ]
  },
  {
   "cell_type": "code",
   "execution_count": 93,
   "metadata": {},
   "outputs": [],
   "source": [
    "def create_model(optimizer=\"RMSprop\",loss ='binary_crossentropy' ):\n",
    "    model = Sequential()\n",
    "    model.add(Dense(90, input_shape=(90,), activation='relu'))\n",
    "    model.add(Dense(110, activation='relu'))\n",
    "    model.add(Dropout(0.2))\n",
    "    model.add(Dense(90, activation='sigmoid'))\n",
    "    model.compile(loss=loss, optimizer=optimizer,metrics=[\"accuracy\"])\n",
    "    return model"
   ]
  },
  {
   "cell_type": "code",
   "execution_count": 94,
   "metadata": {},
   "outputs": [],
   "source": [
    "kears_estimator = KerasClassifier(build_fn=create_model, verbose=1, epochs = 5, batch_size = 64)"
   ]
  },
  {
   "cell_type": "code",
   "execution_count": 95,
   "metadata": {},
   "outputs": [],
   "source": [
    "# Define the grid search parameters\n",
    "param_grid = dict(loss = ['categorical_crossentropy','binary_crossentropy','sparse_categorical_crossentropy'],\n",
    "                 optimizer = ['SGD','RMSprop','Adagrad','Adadelta','Adam'])"
   ]
  },
  {
   "cell_type": "code",
   "execution_count": 96,
   "metadata": {},
   "outputs": [],
   "source": [
    "grid = GridSearchCV(estimator=kears_estimator,  \n",
    "                    param_grid=param_grid,)"
   ]
  },
  {
   "cell_type": "code",
   "execution_count": 97,
   "metadata": {},
   "outputs": [
    {
     "name": "stdout",
     "output_type": "stream",
     "text": [
      "Epoch 1/5\n",
      "5797/5797 [==============================] - 4s 737us/step - loss: 1.4649 - accuracy: 0.5315\n",
      "Epoch 2/5\n",
      "5797/5797 [==============================] - 4s 700us/step - loss: 1.2780 - accuracy: 0.5728\n",
      "Epoch 3/5\n",
      "5797/5797 [==============================] - 4s 690us/step - loss: 1.2204 - accuracy: 0.5836\n",
      "Epoch 4/5\n",
      "5797/5797 [==============================] - 4s 692us/step - loss: 1.2169 - accuracy: 0.5836\n",
      "Epoch 5/5\n",
      "5797/5797 [==============================] - 4s 690us/step - loss: 1.2130 - accuracy: 0.5836\n",
      "1450/1450 [==============================] - 1s 446us/step - loss: 1.2392 - accuracy: 0.5674\n",
      "Epoch 1/5\n",
      "5797/5797 [==============================] - 4s 689us/step - loss: 1.4448 - accuracy: 0.5761\n",
      "Epoch 2/5\n",
      "5797/5797 [==============================] - 4s 684us/step - loss: 1.2316 - accuracy: 0.5792\n",
      "Epoch 3/5\n",
      "5797/5797 [==============================] - 4s 693us/step - loss: 1.2234 - accuracy: 0.5792\n",
      "Epoch 4/5\n",
      "5797/5797 [==============================] - 4s 686us/step - loss: 1.2205 - accuracy: 0.5792\n",
      "Epoch 5/5\n",
      "5797/5797 [==============================] - 4s 685us/step - loss: 1.2167 - accuracy: 0.5792\n",
      "1450/1450 [==============================] - 1s 443us/step - loss: 1.2236 - accuracy: 0.5851\n",
      "Epoch 1/5\n",
      "5797/5797 [==============================] - 4s 718us/step - loss: 1.5042 - accuracy: 0.4861\n",
      "Epoch 2/5\n",
      "5797/5797 [==============================] - 4s 723us/step - loss: 1.2913 - accuracy: 0.5051\n",
      "Epoch 3/5\n",
      "5797/5797 [==============================] - 4s 701us/step - loss: 1.2883 - accuracy: 0.5676\n",
      "Epoch 4/5\n",
      "5797/5797 [==============================] - 4s 691us/step - loss: 1.2244 - accuracy: 0.5776\n",
      "Epoch 5/5\n",
      "5797/5797 [==============================] - 4s 682us/step - loss: 1.2197 - accuracy: 0.5776\n",
      "1450/1450 [==============================] - 1s 446us/step - loss: 1.2249 - accuracy: 0.5913\n",
      "Epoch 1/5\n",
      "5797/5797 [==============================] - 4s 712us/step - loss: 1.5790 - accuracy: 0.4479\n",
      "Epoch 2/5\n",
      "5797/5797 [==============================] - 4s 697us/step - loss: 1.2942 - accuracy: 0.4481\n",
      "Epoch 3/5\n",
      "5797/5797 [==============================] - 4s 698us/step - loss: 1.2920 - accuracy: 0.5081\n",
      "Epoch 4/5\n",
      "5797/5797 [==============================] - 4s 698us/step - loss: 1.2908 - accuracy: 0.5611\n",
      "Epoch 5/5\n",
      "5797/5797 [==============================] - 4s 700us/step - loss: 1.2893 - accuracy: 0.5782\n",
      "1450/1450 [==============================] - 1s 459us/step - loss: 1.2774 - accuracy: 0.5852\n",
      "Epoch 1/5\n",
      "5797/5797 [==============================] - 4s 699us/step - loss: 1.4789 - accuracy: 0.5490\n",
      "Epoch 2/5\n",
      "5797/5797 [==============================] - 4s 686us/step - loss: 1.2880 - accuracy: 0.5531\n",
      "Epoch 3/5\n",
      "5797/5797 [==============================] - 4s 685us/step - loss: 1.2860 - accuracy: 0.5735\n",
      "Epoch 4/5\n",
      "5797/5797 [==============================] - 4s 686us/step - loss: 1.2845 - accuracy: 0.5803\n",
      "Epoch 5/5\n",
      "5797/5797 [==============================] - 4s 685us/step - loss: 1.2828 - accuracy: 0.5816\n",
      "1450/1450 [==============================] - 1s 449us/step - loss: 1.2935 - accuracy: 0.5728\n",
      "Epoch 1/5\n",
      "5797/5797 [==============================] - 4s 746us/step - loss: 1.1460 - accuracy: 0.5912\n",
      "Epoch 2/5\n",
      "5797/5797 [==============================] - 4s 742us/step - loss: 1.0735 - accuracy: 0.6028\n",
      "Epoch 3/5\n",
      "5797/5797 [==============================] - 4s 749us/step - loss: 1.0568 - accuracy: 0.6066\n",
      "Epoch 4/5\n",
      "5797/5797 [==============================] - 4s 749us/step - loss: 1.0480 - accuracy: 0.6096\n",
      "Epoch 5/5\n",
      "5797/5797 [==============================] - 4s 745us/step - loss: 1.0436 - accuracy: 0.6114\n",
      "1450/1450 [==============================] - 1s 449us/step - loss: 1.0212 - accuracy: 0.6098\n",
      "Epoch 1/5\n",
      "5797/5797 [==============================] - 4s 739us/step - loss: 1.1535 - accuracy: 0.5862\n",
      "Epoch 2/5\n",
      "5797/5797 [==============================] - 4s 736us/step - loss: 1.0804 - accuracy: 0.5992\n",
      "Epoch 3/5\n",
      "5797/5797 [==============================] - 4s 735us/step - loss: 1.0634 - accuracy: 0.6031\n",
      "Epoch 4/5\n",
      "5797/5797 [==============================] - 4s 760us/step - loss: 1.0571 - accuracy: 0.6061\n",
      "Epoch 5/5\n",
      "5797/5797 [==============================] - 4s 762us/step - loss: 1.0551 - accuracy: 0.6068\n",
      "1450/1450 [==============================] - 1s 460us/step - loss: 1.0112 - accuracy: 0.6205\n",
      "Epoch 1/5\n",
      "5797/5797 [==============================] - 5s 824us/step - loss: 1.1509 - accuracy: 0.5817\n",
      "Epoch 2/5\n",
      "5797/5797 [==============================] - 5s 875us/step - loss: 1.0802 - accuracy: 0.5978\n",
      "Epoch 3/5\n",
      "5797/5797 [==============================] - 5s 844us/step - loss: 1.0624 - accuracy: 0.6027\n",
      "Epoch 4/5\n",
      "5797/5797 [==============================] - 5s 876us/step - loss: 1.0533 - accuracy: 0.6071\n",
      "Epoch 5/5\n",
      "5797/5797 [==============================] - 6s 975us/step - loss: 1.0504 - accuracy: 0.6080\n",
      "1450/1450 [==============================] - 1s 574us/step - loss: 1.0610 - accuracy: 0.6045\n",
      "Epoch 1/5\n",
      "5797/5797 [==============================] - 5s 883us/step - loss: 1.1506 - accuracy: 0.5869\n",
      "Epoch 2/5\n",
      "5797/5797 [==============================] - 5s 853us/step - loss: 1.0811 - accuracy: 0.5981\n",
      "Epoch 3/5\n",
      "5797/5797 [==============================] - 5s 846us/step - loss: 1.0643 - accuracy: 0.6029\n",
      "Epoch 4/5\n",
      "5797/5797 [==============================] - 5s 837us/step - loss: 1.0576 - accuracy: 0.6056\n",
      "Epoch 5/5\n",
      "5797/5797 [==============================] - 5s 891us/step - loss: 1.0533 - accuracy: 0.6085\n",
      "1450/1450 [==============================] - 1s 565us/step - loss: 1.0922 - accuracy: 0.5919\n",
      "Epoch 1/5\n",
      "5797/5797 [==============================] - 5s 856us/step - loss: 1.1500 - accuracy: 0.5864\n",
      "Epoch 2/5\n",
      "5797/5797 [==============================] - 5s 800us/step - loss: 1.0762 - accuracy: 0.6004\n",
      "Epoch 3/5\n",
      "5797/5797 [==============================] - 5s 798us/step - loss: 1.0613 - accuracy: 0.6049\n",
      "Epoch 4/5\n",
      "5797/5797 [==============================] - 5s 806us/step - loss: 1.0546 - accuracy: 0.6074\n",
      "Epoch 5/5\n",
      "5797/5797 [==============================] - 6s 951us/step - loss: 1.0535 - accuracy: 0.6078\n",
      "1450/1450 [==============================] - 1s 560us/step - loss: 1.0962 - accuracy: 0.5943\n",
      "Epoch 1/5\n",
      "5797/5797 [==============================] - 5s 824us/step - loss: 2.0044 - accuracy: 0.5004\n",
      "Epoch 2/5\n",
      "5797/5797 [==============================] - 5s 867us/step - loss: 1.3601 - accuracy: 0.4901\n",
      "Epoch 3/5\n",
      "5797/5797 [==============================] - 5s 831us/step - loss: 1.3438 - accuracy: 0.5090\n",
      "Epoch 4/5\n",
      "5797/5797 [==============================] - 5s 828us/step - loss: 1.3325 - accuracy: 0.5351\n",
      "Epoch 5/5\n",
      "5797/5797 [==============================] - 5s 833us/step - loss: 1.3256 - accuracy: 0.5671\n",
      "1450/1450 [==============================] - 1s 545us/step - loss: 1.2806 - accuracy: 0.5674\n",
      "Epoch 1/5\n",
      "5797/5797 [==============================] - 5s 863us/step - loss: 2.0726 - accuracy: 0.5526\n",
      "Epoch 2/5\n",
      "5797/5797 [==============================] - 5s 826us/step - loss: 1.3624 - accuracy: 0.5469\n",
      "Epoch 3/5\n",
      "5797/5797 [==============================] - 5s 819us/step - loss: 1.3440 - accuracy: 0.5516\n",
      "Epoch 4/5\n",
      "5797/5797 [==============================] - 5s 795us/step - loss: 1.3347 - accuracy: 0.5641\n",
      "Epoch 5/5\n",
      "5797/5797 [==============================] - 5s 792us/step - loss: 1.3121 - accuracy: 0.5775\n",
      "1450/1450 [==============================] - 1s 526us/step - loss: 1.2114 - accuracy: 0.5851\n",
      "Epoch 1/5\n",
      "5797/5797 [==============================] - 5s 781us/step - loss: 2.0382 - accuracy: 0.5049\n",
      "Epoch 2/5\n",
      "5797/5797 [==============================] - 5s 778us/step - loss: 1.3592 - accuracy: 0.5086\n",
      "Epoch 3/5\n",
      "5797/5797 [==============================] - 5s 780us/step - loss: 1.3393 - accuracy: 0.5216\n",
      "Epoch 4/5\n",
      "5797/5797 [==============================] - 5s 779us/step - loss: 1.3297 - accuracy: 0.5412\n",
      "Epoch 5/5\n",
      "5797/5797 [==============================] - 5s 779us/step - loss: 1.3158 - accuracy: 0.5696\n",
      "1450/1450 [==============================] - 1s 510us/step - loss: 1.2345 - accuracy: 0.5913\n",
      "Epoch 1/5\n",
      "5797/5797 [==============================] - 5s 781us/step - loss: 2.0724 - accuracy: 0.5649\n",
      "Epoch 2/5\n",
      "5797/5797 [==============================] - 5s 779us/step - loss: 1.3632 - accuracy: 0.5708\n",
      "Epoch 3/5\n",
      "5797/5797 [==============================] - 4s 773us/step - loss: 1.3450 - accuracy: 0.5695\n",
      "Epoch 4/5\n",
      "5797/5797 [==============================] - 4s 773us/step - loss: 1.3348 - accuracy: 0.5714\n",
      "Epoch 5/5\n",
      "5797/5797 [==============================] - 4s 775us/step - loss: 1.3282 - accuracy: 0.5752\n",
      "1450/1450 [==============================] - 1s 478us/step - loss: 1.2765 - accuracy: 0.5852\n",
      "Epoch 1/5\n",
      "5797/5797 [==============================] - 5s 779us/step - loss: 1.9933 - accuracy: 0.5699\n",
      "Epoch 2/5\n",
      "5797/5797 [==============================] - 5s 778us/step - loss: 1.3312 - accuracy: 0.5822\n",
      "Epoch 3/5\n",
      "5797/5797 [==============================] - 5s 779us/step - loss: 1.2907 - accuracy: 0.5822\n",
      "Epoch 4/5\n",
      "5797/5797 [==============================] - 4s 762us/step - loss: 1.2740 - accuracy: 0.5822\n",
      "Epoch 5/5\n",
      "5797/5797 [==============================] - 4s 758us/step - loss: 1.2647 - accuracy: 0.5822\n",
      "1450/1450 [==============================] - 1s 481us/step - loss: 1.2297 - accuracy: 0.5728\n",
      "Epoch 1/5\n",
      "5797/5797 [==============================] - 5s 784us/step - loss: 4.1806 - accuracy: 0.3451\n",
      "Epoch 2/5\n",
      "5797/5797 [==============================] - 4s 776us/step - loss: 2.4885 - accuracy: 0.5782\n",
      "Epoch 3/5\n",
      "5797/5797 [==============================] - 4s 762us/step - loss: 1.4502 - accuracy: 0.5806\n",
      "Epoch 4/5\n",
      "5797/5797 [==============================] - 4s 767us/step - loss: 1.3882 - accuracy: 0.5827\n",
      "Epoch 5/5\n",
      "5797/5797 [==============================] - 4s 765us/step - loss: 1.3749 - accuracy: 0.5833\n",
      "1450/1450 [==============================] - 1s 465us/step - loss: 1.2853 - accuracy: 0.5674\n",
      "Epoch 1/5\n",
      "5797/5797 [==============================] - 4s 776us/step - loss: 3.9823 - accuracy: 0.4405\n",
      "Epoch 2/5\n",
      "5797/5797 [==============================] - 5s 797us/step - loss: 1.9990 - accuracy: 0.5699\n",
      "Epoch 3/5\n",
      "5797/5797 [==============================] - 5s 825us/step - loss: 1.4273 - accuracy: 0.5691\n",
      "Epoch 4/5\n",
      "5797/5797 [==============================] - 5s 812us/step - loss: 1.3754 - accuracy: 0.5762\n",
      "Epoch 5/5\n",
      "5797/5797 [==============================] - 5s 825us/step - loss: 1.3639 - accuracy: 0.5787\n",
      "1450/1450 [==============================] - 1s 506us/step - loss: 1.2697 - accuracy: 0.5851\n",
      "Epoch 1/5\n",
      "5797/5797 [==============================] - 5s 820us/step - loss: 4.0077 - accuracy: 0.3919\n",
      "Epoch 2/5\n",
      "5797/5797 [==============================] - 5s 800us/step - loss: 2.1533 - accuracy: 0.5450\n",
      "Epoch 3/5\n",
      "5797/5797 [==============================] - 5s 786us/step - loss: 1.5017 - accuracy: 0.5515\n",
      "Epoch 4/5\n",
      "5797/5797 [==============================] - 4s 758us/step - loss: 1.3912 - accuracy: 0.5564\n",
      "Epoch 5/5\n",
      "5797/5797 [==============================] - 5s 805us/step - loss: 1.3744 - accuracy: 0.5634\n",
      "1450/1450 [==============================] - 1s 491us/step - loss: 1.2949 - accuracy: 0.5913\n",
      "Epoch 1/5\n",
      "5797/5797 [==============================] - 4s 775us/step - loss: 4.1543 - accuracy: 0.3487\n",
      "Epoch 2/5\n",
      "5797/5797 [==============================] - 4s 749us/step - loss: 2.4771 - accuracy: 0.5740\n",
      "Epoch 3/5\n",
      "5797/5797 [==============================] - 5s 795us/step - loss: 1.5504 - accuracy: 0.5737\n",
      "Epoch 4/5\n",
      "5797/5797 [==============================] - 5s 803us/step - loss: 1.3780 - accuracy: 0.5750\n",
      "Epoch 5/5\n",
      "5797/5797 [==============================] - 5s 806us/step - loss: 1.3574 - accuracy: 0.5760\n",
      "1450/1450 [==============================] - 1s 480us/step - loss: 1.2794 - accuracy: 0.5852\n",
      "Epoch 1/5\n",
      "5797/5797 [==============================] - 5s 802us/step - loss: 4.0741 - accuracy: 0.4158\n",
      "Epoch 2/5\n",
      "5797/5797 [==============================] - 5s 932us/step - loss: 2.3040 - accuracy: 0.5693\n",
      "Epoch 3/5\n",
      "5797/5797 [==============================] - 5s 830us/step - loss: 1.5010 - accuracy: 0.5642\n",
      "Epoch 4/5\n",
      "5797/5797 [==============================] - 5s 818us/step - loss: 1.3826 - accuracy: 0.5628\n",
      "Epoch 5/5\n",
      "5797/5797 [==============================] - 5s 825us/step - loss: 1.3669 - accuracy: 0.5687\n",
      "1450/1450 [==============================] - 1s 519us/step - loss: 1.2987 - accuracy: 0.5728\n",
      "Epoch 1/5\n",
      "5797/5797 [==============================] - 6s 989us/step - loss: 1.1514 - accuracy: 0.5923\n",
      "Epoch 2/5\n",
      "5797/5797 [==============================] - 5s 936us/step - loss: 1.0400 - accuracy: 0.6126\n",
      "Epoch 3/5\n",
      "5797/5797 [==============================] - 5s 936us/step - loss: 1.0238 - accuracy: 0.6157\n",
      "Epoch 4/5\n",
      "5797/5797 [==============================] - 5s 941us/step - loss: 1.0153 - accuracy: 0.6182\n",
      "Epoch 5/5\n",
      "5797/5797 [==============================] - 5s 945us/step - loss: 1.0107 - accuracy: 0.6200\n",
      "1450/1450 [==============================] - 1s 523us/step - loss: 1.0342 - accuracy: 0.6060\n",
      "Epoch 1/5\n",
      "5797/5797 [==============================] - 6s 991us/step - loss: 1.1638 - accuracy: 0.5819\n",
      "Epoch 2/5\n",
      "5797/5797 [==============================] - 5s 931us/step - loss: 1.0495 - accuracy: 0.6076\n",
      "Epoch 3/5\n",
      "5797/5797 [==============================] - 5s 932us/step - loss: 1.0329 - accuracy: 0.6112\n",
      "Epoch 4/5\n",
      "5797/5797 [==============================] - 5s 930us/step - loss: 1.0242 - accuracy: 0.6129\n",
      "Epoch 5/5\n",
      "5797/5797 [==============================] - 5s 932us/step - loss: 1.0181 - accuracy: 0.6157\n",
      "1450/1450 [==============================] - 1s 523us/step - loss: 0.9970 - accuracy: 0.6264\n",
      "Epoch 1/5\n",
      "5797/5797 [==============================] - 5s 936us/step - loss: 1.1593 - accuracy: 0.5882\n",
      "Epoch 2/5\n",
      "5797/5797 [==============================] - 5s 905us/step - loss: 1.0523 - accuracy: 0.6072\n",
      "Epoch 3/5\n",
      "5797/5797 [==============================] - 5s 905us/step - loss: 1.0339 - accuracy: 0.6106\n",
      "Epoch 4/5\n",
      "5797/5797 [==============================] - 6s 969us/step - loss: 1.0223 - accuracy: 0.6137\n",
      "Epoch 5/5\n",
      "5797/5797 [==============================] - 6s 991us/step - loss: 1.0163 - accuracy: 0.6163\n",
      "1450/1450 [==============================] - 1s 512us/step - loss: 0.9936 - accuracy: 0.6244\n",
      "Epoch 1/5\n",
      "5797/5797 [==============================] - 6s 991us/step - loss: 1.1714 - accuracy: 0.5868\n",
      "Epoch 2/5\n",
      "5797/5797 [==============================] - 6s 965us/step - loss: 1.0514 - accuracy: 0.6076\n",
      "Epoch 3/5\n",
      "5797/5797 [==============================] - 6s 967us/step - loss: 1.0328 - accuracy: 0.6113\n",
      "Epoch 4/5\n",
      "5797/5797 [==============================] - 6s 967us/step - loss: 1.0222 - accuracy: 0.6147\n",
      "Epoch 5/5\n",
      "5797/5797 [==============================] - 6s 963us/step - loss: 1.0158 - accuracy: 0.6167\n",
      "1450/1450 [==============================] - 1s 546us/step - loss: 0.9864 - accuracy: 0.6282\n",
      "Epoch 1/5\n",
      "5797/5797 [==============================] - 6s 981us/step - loss: 1.1627 - accuracy: 0.5905\n",
      "Epoch 2/5\n",
      "5797/5797 [==============================] - 6s 977us/step - loss: 1.0470 - accuracy: 0.6105\n",
      "Epoch 3/5\n",
      "5797/5797 [==============================] - 6s 999us/step - loss: 1.0299 - accuracy: 0.6132\n",
      "Epoch 4/5\n",
      "5797/5797 [==============================] - 6s 980us/step - loss: 1.0199 - accuracy: 0.6158\n",
      "Epoch 5/5\n",
      "5797/5797 [==============================] - 6s 1ms/step - loss: 1.0134 - accuracy: 0.6166\n",
      "1450/1450 [==============================] - 1s 573us/step - loss: 1.0046 - accuracy: 0.6161\n",
      "Epoch 1/5\n",
      "5797/5797 [==============================] - 5s 806us/step - loss: 0.0984 - accuracy: 0.4645\n",
      "Epoch 2/5\n",
      "5797/5797 [==============================] - 5s 814us/step - loss: 0.0249 - accuracy: 0.5644\n",
      "Epoch 3/5\n",
      "5797/5797 [==============================] - 5s 799us/step - loss: 0.0237 - accuracy: 0.5786\n",
      "Epoch 4/5\n",
      "5797/5797 [==============================] - 5s 810us/step - loss: 0.0231 - accuracy: 0.5829\n",
      "Epoch 5/5\n",
      "5797/5797 [==============================] - 4s 759us/step - loss: 0.0228 - accuracy: 0.5835\n",
      "1450/1450 [==============================] - 1s 508us/step - loss: 0.0220 - accuracy: 0.5674\n",
      "Epoch 1/5\n",
      "5797/5797 [==============================] - 4s 723us/step - loss: 0.0980 - accuracy: 0.4876\n",
      "Epoch 2/5\n",
      "5797/5797 [==============================] - 4s 723us/step - loss: 0.0246 - accuracy: 0.5713\n",
      "Epoch 3/5\n",
      "5797/5797 [==============================] - 4s 719us/step - loss: 0.0235 - accuracy: 0.5785\n",
      "Epoch 4/5\n",
      "5797/5797 [==============================] - 4s 724us/step - loss: 0.0230 - accuracy: 0.5791\n",
      "Epoch 5/5\n"
     ]
    },
    {
     "name": "stdout",
     "output_type": "stream",
     "text": [
      "5797/5797 [==============================] - 4s 728us/step - loss: 0.0227 - accuracy: 0.5791\n",
      "1450/1450 [==============================] - 1s 505us/step - loss: 0.0216 - accuracy: 0.5851\n",
      "Epoch 1/5\n",
      "5797/5797 [==============================] - 4s 729us/step - loss: 0.0881 - accuracy: 0.4941\n",
      "Epoch 2/5\n",
      "5797/5797 [==============================] - 4s 747us/step - loss: 0.0250 - accuracy: 0.5675\n",
      "Epoch 3/5\n",
      "5797/5797 [==============================] - 4s 737us/step - loss: 0.0238 - accuracy: 0.5758\n",
      "Epoch 4/5\n",
      "5797/5797 [==============================] - 5s 837us/step - loss: 0.0232 - accuracy: 0.5773\n",
      "Epoch 5/5\n",
      "5797/5797 [==============================] - 5s 789us/step - loss: 0.0229 - accuracy: 0.5775\n",
      "1450/1450 [==============================] - 1s 581us/step - loss: 0.0218 - accuracy: 0.5913\n",
      "Epoch 1/5\n",
      "5797/5797 [==============================] - 5s 798us/step - loss: 0.0965 - accuracy: 0.4975\n",
      "Epoch 2/5\n",
      "5797/5797 [==============================] - 5s 792us/step - loss: 0.0249 - accuracy: 0.5672\n",
      "Epoch 3/5\n",
      "5797/5797 [==============================] - 5s 797us/step - loss: 0.0236 - accuracy: 0.5763\n",
      "Epoch 4/5\n",
      "5797/5797 [==============================] - 4s 769us/step - loss: 0.0231 - accuracy: 0.5786\n",
      "Epoch 5/5\n",
      "5797/5797 [==============================] - 4s 760us/step - loss: 0.0228 - accuracy: 0.5790\n",
      "1450/1450 [==============================] - 1s 502us/step - loss: 0.0217 - accuracy: 0.5852\n",
      "Epoch 1/5\n",
      "5797/5797 [==============================] - 4s 715us/step - loss: 0.0889 - accuracy: 0.4899\n",
      "Epoch 2/5\n",
      "5797/5797 [==============================] - 4s 710us/step - loss: 0.0248 - accuracy: 0.5674\n",
      "Epoch 3/5\n",
      "5797/5797 [==============================] - 4s 709us/step - loss: 0.0236 - accuracy: 0.5793\n",
      "Epoch 4/5\n",
      "5797/5797 [==============================] - 4s 737us/step - loss: 0.0231 - accuracy: 0.5817\n",
      "Epoch 5/5\n",
      "5797/5797 [==============================] - 4s 728us/step - loss: 0.0227 - accuracy: 0.5822\n",
      "1450/1450 [==============================] - 1s 508us/step - loss: 0.0221 - accuracy: 0.5728\n",
      "Epoch 1/5\n",
      "5797/5797 [==============================] - 4s 776us/step - loss: 0.0218 - accuracy: 0.5876\n",
      "Epoch 2/5\n",
      "5797/5797 [==============================] - 5s 799us/step - loss: 0.0196 - accuracy: 0.6036\n",
      "Epoch 3/5\n",
      "5797/5797 [==============================] - 6s 964us/step - loss: 0.0192 - accuracy: 0.6081\n",
      "Epoch 4/5\n",
      "5797/5797 [==============================] - 5s 892us/step - loss: 0.0190 - accuracy: 0.6116\n",
      "Epoch 5/5\n",
      "5797/5797 [==============================] - 6s 1ms/step - loss: 0.0189 - accuracy: 0.6144\n",
      "1450/1450 [==============================] - 1s 701us/step - loss: 0.0187 - accuracy: 0.6123\n",
      "Epoch 1/5\n",
      "5797/5797 [==============================] - 7s 1ms/step - loss: 0.0217 - accuracy: 0.5849\n",
      "Epoch 2/5\n",
      "5797/5797 [==============================] - 5s 928us/step - loss: 0.0197 - accuracy: 0.5998\n",
      "Epoch 3/5\n",
      "5797/5797 [==============================] - 5s 905us/step - loss: 0.0193 - accuracy: 0.6051\n",
      "Epoch 4/5\n",
      "5797/5797 [==============================] - 5s 872us/step - loss: 0.0191 - accuracy: 0.6085\n",
      "Epoch 5/5\n",
      "5797/5797 [==============================] - 5s 848us/step - loss: 0.0190 - accuracy: 0.6106\n",
      "1450/1450 [==============================] - 1s 573us/step - loss: 0.0204 - accuracy: 0.5911\n",
      "Epoch 1/5\n",
      "5797/5797 [==============================] - 5s 941us/step - loss: 0.0219 - accuracy: 0.5838\n",
      "Epoch 2/5\n",
      "5797/5797 [==============================] - 5s 873us/step - loss: 0.0196 - accuracy: 0.5990\n",
      "Epoch 3/5\n",
      "5797/5797 [==============================] - 5s 881us/step - loss: 0.0193 - accuracy: 0.6038\n",
      "Epoch 4/5\n",
      "5797/5797 [==============================] - 5s 942us/step - loss: 0.0192 - accuracy: 0.6080\n",
      "Epoch 5/5\n",
      "5797/5797 [==============================] - 5s 851us/step - loss: 0.0191 - accuracy: 0.6097\n",
      "1450/1450 [==============================] - 1s 544us/step - loss: 0.0185 - accuracy: 0.6235\n",
      "Epoch 1/5\n",
      "5797/5797 [==============================] - 5s 846us/step - loss: 0.0222 - accuracy: 0.5836\n",
      "Epoch 2/5\n",
      "5797/5797 [==============================] - 6s 965us/step - loss: 0.0197 - accuracy: 0.5994\n",
      "Epoch 3/5\n",
      "5797/5797 [==============================] - 5s 856us/step - loss: 0.0194 - accuracy: 0.6038\n",
      "Epoch 4/5\n",
      "5797/5797 [==============================] - 5s 832us/step - loss: 0.0191 - accuracy: 0.6078\n",
      "Epoch 5/5\n",
      "5797/5797 [==============================] - 5s 832us/step - loss: 0.0190 - accuracy: 0.6103\n",
      "1450/1450 [==============================] - 1s 547us/step - loss: 0.0196 - accuracy: 0.6115\n",
      "Epoch 1/5\n",
      "5797/5797 [==============================] - 5s 839us/step - loss: 0.0217 - accuracy: 0.5867\n",
      "Epoch 2/5\n",
      "5797/5797 [==============================] - 5s 833us/step - loss: 0.0196 - accuracy: 0.6009\n",
      "Epoch 3/5\n",
      "5797/5797 [==============================] - 5s 839us/step - loss: 0.0193 - accuracy: 0.6063\n",
      "Epoch 4/5\n",
      "5797/5797 [==============================] - 5s 841us/step - loss: 0.0191 - accuracy: 0.6091\n",
      "Epoch 5/5\n",
      "5797/5797 [==============================] - 5s 833us/step - loss: 0.0190 - accuracy: 0.6123\n",
      "1450/1450 [==============================] - 1s 540us/step - loss: 0.0217 - accuracy: 0.5865\n",
      "Epoch 1/5\n",
      "5797/5797 [==============================] - 4s 766us/step - loss: 0.2794 - accuracy: 0.2572\n",
      "Epoch 2/5\n",
      "5797/5797 [==============================] - 4s 750us/step - loss: 0.0350 - accuracy: 0.5365\n",
      "Epoch 3/5\n",
      "5797/5797 [==============================] - 4s 749us/step - loss: 0.0287 - accuracy: 0.5429\n",
      "Epoch 4/5\n",
      "5797/5797 [==============================] - 4s 757us/step - loss: 0.0268 - accuracy: 0.5505\n",
      "Epoch 5/5\n",
      "5797/5797 [==============================] - 4s 772us/step - loss: 0.0258 - accuracy: 0.5568\n",
      "1450/1450 [==============================] - 1s 518us/step - loss: 0.0226 - accuracy: 0.5674\n",
      "Epoch 1/5\n",
      "5797/5797 [==============================] - 4s 764us/step - loss: 0.2667 - accuracy: 0.2803\n",
      "Epoch 2/5\n",
      "5797/5797 [==============================] - 4s 749us/step - loss: 0.0334 - accuracy: 0.5399\n",
      "Epoch 3/5\n",
      "5797/5797 [==============================] - 4s 752us/step - loss: 0.0281 - accuracy: 0.5400\n",
      "Epoch 4/5\n",
      "5797/5797 [==============================] - 4s 771us/step - loss: 0.0267 - accuracy: 0.5426\n",
      "Epoch 5/5\n",
      "5797/5797 [==============================] - 5s 801us/step - loss: 0.0259 - accuracy: 0.5478\n",
      "1450/1450 [==============================] - 1s 529us/step - loss: 0.0223 - accuracy: 0.5851\n",
      "Epoch 1/5\n",
      "5797/5797 [==============================] - 5s 799us/step - loss: 0.2317 - accuracy: 0.2996\n",
      "Epoch 2/5\n",
      "5797/5797 [==============================] - 5s 802us/step - loss: 0.0338 - accuracy: 0.5296\n",
      "Epoch 3/5\n",
      "5797/5797 [==============================] - 5s 941us/step - loss: 0.0285 - accuracy: 0.5340\n",
      "Epoch 4/5\n",
      "5797/5797 [==============================] - 5s 922us/step - loss: 0.0269 - accuracy: 0.5403\n",
      "Epoch 5/5\n",
      "5797/5797 [==============================] - 5s 860us/step - loss: 0.0260 - accuracy: 0.5460\n",
      "1450/1450 [==============================] - 1s 615us/step - loss: 0.0223 - accuracy: 0.5913\n",
      "Epoch 1/5\n",
      "5797/5797 [==============================] - 6s 980us/step - loss: 0.2574 - accuracy: 0.3293\n",
      "Epoch 2/5\n",
      "5797/5797 [==============================] - 5s 861us/step - loss: 0.0337 - accuracy: 0.5420\n",
      "Epoch 3/5\n",
      "5797/5797 [==============================] - 5s 853us/step - loss: 0.0285 - accuracy: 0.5445\n",
      "Epoch 4/5\n",
      "5797/5797 [==============================] - 5s 822us/step - loss: 0.0269 - accuracy: 0.5468\n",
      "Epoch 5/5\n",
      "5797/5797 [==============================] - 5s 823us/step - loss: 0.0260 - accuracy: 0.5520\n",
      "1450/1450 [==============================] - 1s 549us/step - loss: 0.0223 - accuracy: 0.5852\n",
      "Epoch 1/5\n",
      "5797/5797 [==============================] - 5s 789us/step - loss: 0.2928 - accuracy: 0.3068\n",
      "Epoch 2/5\n",
      "5797/5797 [==============================] - 5s 800us/step - loss: 0.0345 - accuracy: 0.5399\n",
      "Epoch 3/5\n",
      "5797/5797 [==============================] - 5s 818us/step - loss: 0.0287 - accuracy: 0.5396\n",
      "Epoch 4/5\n",
      "5797/5797 [==============================] - 5s 781us/step - loss: 0.0271 - accuracy: 0.5437\n",
      "Epoch 5/5\n",
      "5797/5797 [==============================] - 5s 789us/step - loss: 0.0262 - accuracy: 0.5481\n",
      "1450/1450 [==============================] - 1s 533us/step - loss: 0.0228 - accuracy: 0.5728\n",
      "Epoch 1/5\n",
      "5797/5797 [==============================] - 5s 926us/step - loss: 0.5562 - accuracy: 0.0154\n",
      "Epoch 2/5\n"
     ]
    },
    {
     "name": "stdout",
     "output_type": "stream",
     "text": [
      "5797/5797 [==============================] - 5s 918us/step - loss: 0.1612 - accuracy: 0.3786\n",
      "Epoch 3/5\n",
      "5797/5797 [==============================] - 5s 894us/step - loss: 0.0491 - accuracy: 0.5365\n",
      "Epoch 4/5\n",
      "5797/5797 [==============================] - 5s 867us/step - loss: 0.0356 - accuracy: 0.5418\n",
      "Epoch 5/5\n",
      "5797/5797 [==============================] - 5s 854us/step - loss: 0.0317 - accuracy: 0.5392\n",
      "1450/1450 [==============================] - 1s 551us/step - loss: 0.0249 - accuracy: 0.5674\n",
      "Epoch 1/5\n",
      "5797/5797 [==============================] - 5s 823us/step - loss: 0.5351 - accuracy: 0.0471\n",
      "Epoch 2/5\n",
      "5797/5797 [==============================] - 5s 803us/step - loss: 0.1568 - accuracy: 0.4459\n",
      "Epoch 3/5\n",
      "5797/5797 [==============================] - 5s 807us/step - loss: 0.0503 - accuracy: 0.5444\n",
      "Epoch 4/5\n",
      "5797/5797 [==============================] - 5s 803us/step - loss: 0.0366 - accuracy: 0.5457\n",
      "Epoch 5/5\n",
      "5797/5797 [==============================] - 5s 816us/step - loss: 0.0325 - accuracy: 0.5449\n",
      "1450/1450 [==============================] - 1s 514us/step - loss: 0.0245 - accuracy: 0.5851\n",
      "Epoch 1/5\n",
      "5797/5797 [==============================] - 5s 779us/step - loss: 0.5584 - accuracy: 0.2220\n",
      "Epoch 2/5\n",
      "5797/5797 [==============================] - 4s 755us/step - loss: 0.1660 - accuracy: 0.5119\n",
      "Epoch 3/5\n",
      "5797/5797 [==============================] - 4s 754us/step - loss: 0.0515 - accuracy: 0.5397\n",
      "Epoch 4/5\n",
      "5797/5797 [==============================] - 5s 784us/step - loss: 0.0367 - accuracy: 0.5305\n",
      "Epoch 5/5\n",
      "5797/5797 [==============================] - 5s 804us/step - loss: 0.0325 - accuracy: 0.5276\n",
      "1450/1450 [==============================] - 1s 523us/step - loss: 0.0244 - accuracy: 0.5913\n",
      "Epoch 1/5\n",
      "5797/5797 [==============================] - 5s 819us/step - loss: 0.5809 - accuracy: 6.3617e-04\n",
      "Epoch 2/5\n",
      "5797/5797 [==============================] - 5s 818us/step - loss: 0.1939 - accuracy: 0.2443\n",
      "Epoch 3/5\n",
      "5797/5797 [==============================] - 5s 834us/step - loss: 0.0530 - accuracy: 0.5208\n",
      "Epoch 4/5\n",
      "5797/5797 [==============================] - 5s 821us/step - loss: 0.0364 - accuracy: 0.5360\n",
      "Epoch 5/5\n",
      "5797/5797 [==============================] - 5s 823us/step - loss: 0.0319 - accuracy: 0.5349\n",
      "1450/1450 [==============================] - 1s 528us/step - loss: 0.0246 - accuracy: 0.5852\n",
      "Epoch 1/5\n",
      "5797/5797 [==============================] - 5s 823us/step - loss: 0.6277 - accuracy: 0.0384\n",
      "Epoch 2/5\n",
      "5797/5797 [==============================] - 5s 807us/step - loss: 0.2594 - accuracy: 0.2638\n",
      "Epoch 3/5\n",
      "5797/5797 [==============================] - 5s 795us/step - loss: 0.0613 - accuracy: 0.5134\n",
      "Epoch 4/5\n",
      "5797/5797 [==============================] - 5s 795us/step - loss: 0.0380 - accuracy: 0.5392\n",
      "Epoch 5/5\n",
      "5797/5797 [==============================] - 5s 790us/step - loss: 0.0325 - accuracy: 0.5435\n",
      "1450/1450 [==============================] - 1s 503us/step - loss: 0.0250 - accuracy: 0.5728\n",
      "Epoch 1/5\n",
      "5797/5797 [==============================] - 5s 895us/step - loss: 0.0235 - accuracy: 0.5844\n",
      "Epoch 2/5\n",
      "5797/5797 [==============================] - 5s 902us/step - loss: 0.0193 - accuracy: 0.6083\n",
      "Epoch 3/5\n",
      "5797/5797 [==============================] - 5s 924us/step - loss: 0.0189 - accuracy: 0.6130\n",
      "Epoch 4/5\n",
      "5797/5797 [==============================] - 6s 954us/step - loss: 0.0187 - accuracy: 0.6159\n",
      "Epoch 5/5\n",
      "5797/5797 [==============================] - 6s 1ms/step - loss: 0.0186 - accuracy: 0.6179\n",
      "1450/1450 [==============================] - 1s 613us/step - loss: 0.0188 - accuracy: 0.6124\n",
      "Epoch 1/5\n",
      "5797/5797 [==============================] - 6s 985us/step - loss: 0.0231 - accuracy: 0.5800\n",
      "Epoch 2/5\n",
      "5797/5797 [==============================] - 5s 935us/step - loss: 0.0194 - accuracy: 0.6040\n",
      "Epoch 3/5\n",
      "5797/5797 [==============================] - 5s 908us/step - loss: 0.0190 - accuracy: 0.6102\n",
      "Epoch 4/5\n",
      "5797/5797 [==============================] - 5s 879us/step - loss: 0.0188 - accuracy: 0.6131\n",
      "Epoch 5/5\n",
      "5797/5797 [==============================] - 5s 911us/step - loss: 0.0187 - accuracy: 0.6158\n",
      "1450/1450 [==============================] - 1s 536us/step - loss: 0.0182 - accuracy: 0.6241\n",
      "Epoch 1/5\n",
      "5797/5797 [==============================] - 6s 1ms/step - loss: 0.0240 - accuracy: 0.5736\n",
      "Epoch 2/5\n",
      "5797/5797 [==============================] - 6s 950us/step - loss: 0.0196 - accuracy: 0.5977\n",
      "Epoch 3/5\n",
      "5797/5797 [==============================] - 5s 941us/step - loss: 0.0191 - accuracy: 0.6075\n",
      "Epoch 4/5\n",
      "5797/5797 [==============================] - 6s 1ms/step - loss: 0.0189 - accuracy: 0.6112\n",
      "Epoch 5/5\n",
      "5797/5797 [==============================] - 6s 989us/step - loss: 0.0188 - accuracy: 0.6134\n",
      "1450/1450 [==============================] - 1s 575us/step - loss: 0.0183 - accuracy: 0.6224\n",
      "Epoch 1/5\n",
      "5797/5797 [==============================] - 6s 1ms/step - loss: 0.0236 - accuracy: 0.5791\n",
      "Epoch 2/5\n",
      "5797/5797 [==============================] - 6s 1ms/step - loss: 0.0195 - accuracy: 0.6023\n",
      "Epoch 3/5\n",
      "5797/5797 [==============================] - 6s 983us/step - loss: 0.0191 - accuracy: 0.6095\n",
      "Epoch 4/5\n",
      "5797/5797 [==============================] - 6s 994us/step - loss: 0.0189 - accuracy: 0.6124\n",
      "Epoch 5/5\n",
      "5797/5797 [==============================] - 6s 982us/step - loss: 0.0187 - accuracy: 0.6144\n",
      "1450/1450 [==============================] - 1s 527us/step - loss: 0.0182 - accuracy: 0.6248\n",
      "Epoch 1/5\n",
      "5797/5797 [==============================] - 5s 911us/step - loss: 0.0233 - accuracy: 0.5827\n",
      "Epoch 2/5\n",
      "5797/5797 [==============================] - 6s 988us/step - loss: 0.0193 - accuracy: 0.6069\n",
      "Epoch 3/5\n",
      "5797/5797 [==============================] - 5s 921us/step - loss: 0.0189 - accuracy: 0.6133\n",
      "Epoch 4/5\n",
      "5797/5797 [==============================] - 5s 898us/step - loss: 0.0187 - accuracy: 0.6173\n",
      "Epoch 5/5\n",
      "5797/5797 [==============================] - 5s 915us/step - loss: 0.0186 - accuracy: 0.6179\n",
      "1450/1450 [==============================] - 1s 513us/step - loss: 0.0186 - accuracy: 0.6206\n",
      "Epoch 1/5\n"
     ]
    },
    {
     "name": "stderr",
     "output_type": "stream",
     "text": [
      "/Users/luciedrevet/opt/anaconda3/lib/python3.8/site-packages/sklearn/model_selection/_validation.py:548: FitFailedWarning: Estimator fit failed. The score on this train-test partition for these parameters will be set to nan. Details: \n",
      "Traceback (most recent call last):\n",
      "  File \"/Users/luciedrevet/opt/anaconda3/lib/python3.8/site-packages/sklearn/model_selection/_validation.py\", line 531, in _fit_and_score\n",
      "    estimator.fit(X_train, y_train, **fit_params)\n",
      "  File \"/Users/luciedrevet/opt/anaconda3/lib/python3.8/site-packages/tensorflow/python/keras/wrappers/scikit_learn.py\", line 223, in fit\n",
      "    return super(KerasClassifier, self).fit(x, y, **kwargs)\n",
      "  File \"/Users/luciedrevet/opt/anaconda3/lib/python3.8/site-packages/tensorflow/python/keras/wrappers/scikit_learn.py\", line 166, in fit\n",
      "    history = self.model.fit(x, y, **fit_args)\n",
      "  File \"/Users/luciedrevet/opt/anaconda3/lib/python3.8/site-packages/tensorflow/python/keras/engine/training.py\", line 108, in _method_wrapper\n",
      "    return method(self, *args, **kwargs)\n",
      "  File \"/Users/luciedrevet/opt/anaconda3/lib/python3.8/site-packages/tensorflow/python/keras/engine/training.py\", line 1098, in fit\n",
      "    tmp_logs = train_function(iterator)\n",
      "  File \"/Users/luciedrevet/opt/anaconda3/lib/python3.8/site-packages/tensorflow/python/eager/def_function.py\", line 780, in __call__\n",
      "    result = self._call(*args, **kwds)\n",
      "  File \"/Users/luciedrevet/opt/anaconda3/lib/python3.8/site-packages/tensorflow/python/eager/def_function.py\", line 840, in _call\n",
      "    return self._stateless_fn(*args, **kwds)\n",
      "  File \"/Users/luciedrevet/opt/anaconda3/lib/python3.8/site-packages/tensorflow/python/eager/function.py\", line 2829, in __call__\n",
      "    return graph_function._filtered_call(args, kwargs)  # pylint: disable=protected-access\n",
      "  File \"/Users/luciedrevet/opt/anaconda3/lib/python3.8/site-packages/tensorflow/python/eager/function.py\", line 1843, in _filtered_call\n",
      "    return self._call_flat(\n",
      "  File \"/Users/luciedrevet/opt/anaconda3/lib/python3.8/site-packages/tensorflow/python/eager/function.py\", line 1923, in _call_flat\n",
      "    return self._build_call_outputs(self._inference_function.call(\n",
      "  File \"/Users/luciedrevet/opt/anaconda3/lib/python3.8/site-packages/tensorflow/python/eager/function.py\", line 545, in call\n",
      "    outputs = execute.execute(\n",
      "  File \"/Users/luciedrevet/opt/anaconda3/lib/python3.8/site-packages/tensorflow/python/eager/execute.py\", line 59, in quick_execute\n",
      "    tensors = pywrap_tfe.TFE_Py_Execute(ctx._handle, device_name, op_name,\n",
      "tensorflow.python.framework.errors_impl.InvalidArgumentError:  logits and labels must have the same first dimension, got logits shape [64,90] and labels shape [5760]\n",
      "\t [[node sparse_categorical_crossentropy/SparseSoftmaxCrossEntropyWithLogits/SparseSoftmaxCrossEntropyWithLogits (defined at /Users/luciedrevet/opt/anaconda3/lib/python3.8/site-packages/sklearn/model_selection/_validation.py:531) ]] [Op:__inference_train_function_38637587]\n",
      "\n",
      "Function call stack:\n",
      "train_function\n",
      "\n",
      "\n",
      "  warnings.warn(\"Estimator fit failed. The score on this train-test\"\n"
     ]
    },
    {
     "name": "stdout",
     "output_type": "stream",
     "text": [
      "Epoch 1/5\n"
     ]
    },
    {
     "name": "stderr",
     "output_type": "stream",
     "text": [
      "/Users/luciedrevet/opt/anaconda3/lib/python3.8/site-packages/sklearn/model_selection/_validation.py:548: FitFailedWarning: Estimator fit failed. The score on this train-test partition for these parameters will be set to nan. Details: \n",
      "Traceback (most recent call last):\n",
      "  File \"/Users/luciedrevet/opt/anaconda3/lib/python3.8/site-packages/sklearn/model_selection/_validation.py\", line 531, in _fit_and_score\n",
      "    estimator.fit(X_train, y_train, **fit_params)\n",
      "  File \"/Users/luciedrevet/opt/anaconda3/lib/python3.8/site-packages/tensorflow/python/keras/wrappers/scikit_learn.py\", line 223, in fit\n",
      "    return super(KerasClassifier, self).fit(x, y, **kwargs)\n",
      "  File \"/Users/luciedrevet/opt/anaconda3/lib/python3.8/site-packages/tensorflow/python/keras/wrappers/scikit_learn.py\", line 166, in fit\n",
      "    history = self.model.fit(x, y, **fit_args)\n",
      "  File \"/Users/luciedrevet/opt/anaconda3/lib/python3.8/site-packages/tensorflow/python/keras/engine/training.py\", line 108, in _method_wrapper\n",
      "    return method(self, *args, **kwargs)\n",
      "  File \"/Users/luciedrevet/opt/anaconda3/lib/python3.8/site-packages/tensorflow/python/keras/engine/training.py\", line 1098, in fit\n",
      "    tmp_logs = train_function(iterator)\n",
      "  File \"/Users/luciedrevet/opt/anaconda3/lib/python3.8/site-packages/tensorflow/python/eager/def_function.py\", line 780, in __call__\n",
      "    result = self._call(*args, **kwds)\n",
      "  File \"/Users/luciedrevet/opt/anaconda3/lib/python3.8/site-packages/tensorflow/python/eager/def_function.py\", line 840, in _call\n",
      "    return self._stateless_fn(*args, **kwds)\n",
      "  File \"/Users/luciedrevet/opt/anaconda3/lib/python3.8/site-packages/tensorflow/python/eager/function.py\", line 2829, in __call__\n",
      "    return graph_function._filtered_call(args, kwargs)  # pylint: disable=protected-access\n",
      "  File \"/Users/luciedrevet/opt/anaconda3/lib/python3.8/site-packages/tensorflow/python/eager/function.py\", line 1843, in _filtered_call\n",
      "    return self._call_flat(\n",
      "  File \"/Users/luciedrevet/opt/anaconda3/lib/python3.8/site-packages/tensorflow/python/eager/function.py\", line 1923, in _call_flat\n",
      "    return self._build_call_outputs(self._inference_function.call(\n",
      "  File \"/Users/luciedrevet/opt/anaconda3/lib/python3.8/site-packages/tensorflow/python/eager/function.py\", line 545, in call\n",
      "    outputs = execute.execute(\n",
      "  File \"/Users/luciedrevet/opt/anaconda3/lib/python3.8/site-packages/tensorflow/python/eager/execute.py\", line 59, in quick_execute\n",
      "    tensors = pywrap_tfe.TFE_Py_Execute(ctx._handle, device_name, op_name,\n",
      "tensorflow.python.framework.errors_impl.InvalidArgumentError:  logits and labels must have the same first dimension, got logits shape [64,90] and labels shape [5760]\n",
      "\t [[node sparse_categorical_crossentropy/SparseSoftmaxCrossEntropyWithLogits/SparseSoftmaxCrossEntropyWithLogits (defined at /Users/luciedrevet/opt/anaconda3/lib/python3.8/site-packages/sklearn/model_selection/_validation.py:531) ]] [Op:__inference_train_function_38638154]\n",
      "\n",
      "Function call stack:\n",
      "train_function\n",
      "\n",
      "\n",
      "  warnings.warn(\"Estimator fit failed. The score on this train-test\"\n"
     ]
    },
    {
     "name": "stdout",
     "output_type": "stream",
     "text": [
      "Epoch 1/5\n"
     ]
    },
    {
     "name": "stderr",
     "output_type": "stream",
     "text": [
      "/Users/luciedrevet/opt/anaconda3/lib/python3.8/site-packages/sklearn/model_selection/_validation.py:548: FitFailedWarning: Estimator fit failed. The score on this train-test partition for these parameters will be set to nan. Details: \n",
      "Traceback (most recent call last):\n",
      "  File \"/Users/luciedrevet/opt/anaconda3/lib/python3.8/site-packages/sklearn/model_selection/_validation.py\", line 531, in _fit_and_score\n",
      "    estimator.fit(X_train, y_train, **fit_params)\n",
      "  File \"/Users/luciedrevet/opt/anaconda3/lib/python3.8/site-packages/tensorflow/python/keras/wrappers/scikit_learn.py\", line 223, in fit\n",
      "    return super(KerasClassifier, self).fit(x, y, **kwargs)\n",
      "  File \"/Users/luciedrevet/opt/anaconda3/lib/python3.8/site-packages/tensorflow/python/keras/wrappers/scikit_learn.py\", line 166, in fit\n",
      "    history = self.model.fit(x, y, **fit_args)\n",
      "  File \"/Users/luciedrevet/opt/anaconda3/lib/python3.8/site-packages/tensorflow/python/keras/engine/training.py\", line 108, in _method_wrapper\n",
      "    return method(self, *args, **kwargs)\n",
      "  File \"/Users/luciedrevet/opt/anaconda3/lib/python3.8/site-packages/tensorflow/python/keras/engine/training.py\", line 1098, in fit\n",
      "    tmp_logs = train_function(iterator)\n",
      "  File \"/Users/luciedrevet/opt/anaconda3/lib/python3.8/site-packages/tensorflow/python/eager/def_function.py\", line 780, in __call__\n",
      "    result = self._call(*args, **kwds)\n",
      "  File \"/Users/luciedrevet/opt/anaconda3/lib/python3.8/site-packages/tensorflow/python/eager/def_function.py\", line 840, in _call\n",
      "    return self._stateless_fn(*args, **kwds)\n",
      "  File \"/Users/luciedrevet/opt/anaconda3/lib/python3.8/site-packages/tensorflow/python/eager/function.py\", line 2829, in __call__\n",
      "    return graph_function._filtered_call(args, kwargs)  # pylint: disable=protected-access\n",
      "  File \"/Users/luciedrevet/opt/anaconda3/lib/python3.8/site-packages/tensorflow/python/eager/function.py\", line 1843, in _filtered_call\n",
      "    return self._call_flat(\n",
      "  File \"/Users/luciedrevet/opt/anaconda3/lib/python3.8/site-packages/tensorflow/python/eager/function.py\", line 1923, in _call_flat\n",
      "    return self._build_call_outputs(self._inference_function.call(\n",
      "  File \"/Users/luciedrevet/opt/anaconda3/lib/python3.8/site-packages/tensorflow/python/eager/function.py\", line 545, in call\n",
      "    outputs = execute.execute(\n",
      "  File \"/Users/luciedrevet/opt/anaconda3/lib/python3.8/site-packages/tensorflow/python/eager/execute.py\", line 59, in quick_execute\n",
      "    tensors = pywrap_tfe.TFE_Py_Execute(ctx._handle, device_name, op_name,\n",
      "tensorflow.python.framework.errors_impl.InvalidArgumentError:  logits and labels must have the same first dimension, got logits shape [64,90] and labels shape [5760]\n",
      "\t [[node sparse_categorical_crossentropy/SparseSoftmaxCrossEntropyWithLogits/SparseSoftmaxCrossEntropyWithLogits (defined at /Users/luciedrevet/opt/anaconda3/lib/python3.8/site-packages/sklearn/model_selection/_validation.py:531) ]] [Op:__inference_train_function_38638721]\n",
      "\n",
      "Function call stack:\n",
      "train_function\n",
      "\n",
      "\n",
      "  warnings.warn(\"Estimator fit failed. The score on this train-test\"\n"
     ]
    },
    {
     "name": "stdout",
     "output_type": "stream",
     "text": [
      "Epoch 1/5\n"
     ]
    },
    {
     "name": "stderr",
     "output_type": "stream",
     "text": [
      "/Users/luciedrevet/opt/anaconda3/lib/python3.8/site-packages/sklearn/model_selection/_validation.py:548: FitFailedWarning: Estimator fit failed. The score on this train-test partition for these parameters will be set to nan. Details: \n",
      "Traceback (most recent call last):\n",
      "  File \"/Users/luciedrevet/opt/anaconda3/lib/python3.8/site-packages/sklearn/model_selection/_validation.py\", line 531, in _fit_and_score\n",
      "    estimator.fit(X_train, y_train, **fit_params)\n",
      "  File \"/Users/luciedrevet/opt/anaconda3/lib/python3.8/site-packages/tensorflow/python/keras/wrappers/scikit_learn.py\", line 223, in fit\n",
      "    return super(KerasClassifier, self).fit(x, y, **kwargs)\n",
      "  File \"/Users/luciedrevet/opt/anaconda3/lib/python3.8/site-packages/tensorflow/python/keras/wrappers/scikit_learn.py\", line 166, in fit\n",
      "    history = self.model.fit(x, y, **fit_args)\n",
      "  File \"/Users/luciedrevet/opt/anaconda3/lib/python3.8/site-packages/tensorflow/python/keras/engine/training.py\", line 108, in _method_wrapper\n",
      "    return method(self, *args, **kwargs)\n",
      "  File \"/Users/luciedrevet/opt/anaconda3/lib/python3.8/site-packages/tensorflow/python/keras/engine/training.py\", line 1098, in fit\n",
      "    tmp_logs = train_function(iterator)\n",
      "  File \"/Users/luciedrevet/opt/anaconda3/lib/python3.8/site-packages/tensorflow/python/eager/def_function.py\", line 780, in __call__\n",
      "    result = self._call(*args, **kwds)\n",
      "  File \"/Users/luciedrevet/opt/anaconda3/lib/python3.8/site-packages/tensorflow/python/eager/def_function.py\", line 840, in _call\n",
      "    return self._stateless_fn(*args, **kwds)\n",
      "  File \"/Users/luciedrevet/opt/anaconda3/lib/python3.8/site-packages/tensorflow/python/eager/function.py\", line 2829, in __call__\n",
      "    return graph_function._filtered_call(args, kwargs)  # pylint: disable=protected-access\n",
      "  File \"/Users/luciedrevet/opt/anaconda3/lib/python3.8/site-packages/tensorflow/python/eager/function.py\", line 1843, in _filtered_call\n",
      "    return self._call_flat(\n",
      "  File \"/Users/luciedrevet/opt/anaconda3/lib/python3.8/site-packages/tensorflow/python/eager/function.py\", line 1923, in _call_flat\n",
      "    return self._build_call_outputs(self._inference_function.call(\n",
      "  File \"/Users/luciedrevet/opt/anaconda3/lib/python3.8/site-packages/tensorflow/python/eager/function.py\", line 545, in call\n",
      "    outputs = execute.execute(\n",
      "  File \"/Users/luciedrevet/opt/anaconda3/lib/python3.8/site-packages/tensorflow/python/eager/execute.py\", line 59, in quick_execute\n",
      "    tensors = pywrap_tfe.TFE_Py_Execute(ctx._handle, device_name, op_name,\n",
      "tensorflow.python.framework.errors_impl.InvalidArgumentError:  logits and labels must have the same first dimension, got logits shape [64,90] and labels shape [5760]\n",
      "\t [[node sparse_categorical_crossentropy/SparseSoftmaxCrossEntropyWithLogits/SparseSoftmaxCrossEntropyWithLogits (defined at /Users/luciedrevet/opt/anaconda3/lib/python3.8/site-packages/sklearn/model_selection/_validation.py:531) ]] [Op:__inference_train_function_38639288]\n",
      "\n",
      "Function call stack:\n",
      "train_function\n",
      "\n",
      "\n",
      "  warnings.warn(\"Estimator fit failed. The score on this train-test\"\n"
     ]
    },
    {
     "name": "stdout",
     "output_type": "stream",
     "text": [
      "Epoch 1/5\n"
     ]
    },
    {
     "name": "stderr",
     "output_type": "stream",
     "text": [
      "/Users/luciedrevet/opt/anaconda3/lib/python3.8/site-packages/sklearn/model_selection/_validation.py:548: FitFailedWarning: Estimator fit failed. The score on this train-test partition for these parameters will be set to nan. Details: \n",
      "Traceback (most recent call last):\n",
      "  File \"/Users/luciedrevet/opt/anaconda3/lib/python3.8/site-packages/sklearn/model_selection/_validation.py\", line 531, in _fit_and_score\n",
      "    estimator.fit(X_train, y_train, **fit_params)\n",
      "  File \"/Users/luciedrevet/opt/anaconda3/lib/python3.8/site-packages/tensorflow/python/keras/wrappers/scikit_learn.py\", line 223, in fit\n",
      "    return super(KerasClassifier, self).fit(x, y, **kwargs)\n",
      "  File \"/Users/luciedrevet/opt/anaconda3/lib/python3.8/site-packages/tensorflow/python/keras/wrappers/scikit_learn.py\", line 166, in fit\n",
      "    history = self.model.fit(x, y, **fit_args)\n",
      "  File \"/Users/luciedrevet/opt/anaconda3/lib/python3.8/site-packages/tensorflow/python/keras/engine/training.py\", line 108, in _method_wrapper\n",
      "    return method(self, *args, **kwargs)\n",
      "  File \"/Users/luciedrevet/opt/anaconda3/lib/python3.8/site-packages/tensorflow/python/keras/engine/training.py\", line 1098, in fit\n",
      "    tmp_logs = train_function(iterator)\n",
      "  File \"/Users/luciedrevet/opt/anaconda3/lib/python3.8/site-packages/tensorflow/python/eager/def_function.py\", line 780, in __call__\n",
      "    result = self._call(*args, **kwds)\n",
      "  File \"/Users/luciedrevet/opt/anaconda3/lib/python3.8/site-packages/tensorflow/python/eager/def_function.py\", line 840, in _call\n",
      "    return self._stateless_fn(*args, **kwds)\n",
      "  File \"/Users/luciedrevet/opt/anaconda3/lib/python3.8/site-packages/tensorflow/python/eager/function.py\", line 2829, in __call__\n",
      "    return graph_function._filtered_call(args, kwargs)  # pylint: disable=protected-access\n",
      "  File \"/Users/luciedrevet/opt/anaconda3/lib/python3.8/site-packages/tensorflow/python/eager/function.py\", line 1843, in _filtered_call\n",
      "    return self._call_flat(\n",
      "  File \"/Users/luciedrevet/opt/anaconda3/lib/python3.8/site-packages/tensorflow/python/eager/function.py\", line 1923, in _call_flat\n",
      "    return self._build_call_outputs(self._inference_function.call(\n",
      "  File \"/Users/luciedrevet/opt/anaconda3/lib/python3.8/site-packages/tensorflow/python/eager/function.py\", line 545, in call\n",
      "    outputs = execute.execute(\n",
      "  File \"/Users/luciedrevet/opt/anaconda3/lib/python3.8/site-packages/tensorflow/python/eager/execute.py\", line 59, in quick_execute\n",
      "    tensors = pywrap_tfe.TFE_Py_Execute(ctx._handle, device_name, op_name,\n",
      "tensorflow.python.framework.errors_impl.InvalidArgumentError:  logits and labels must have the same first dimension, got logits shape [64,90] and labels shape [5760]\n",
      "\t [[node sparse_categorical_crossentropy/SparseSoftmaxCrossEntropyWithLogits/SparseSoftmaxCrossEntropyWithLogits (defined at /Users/luciedrevet/opt/anaconda3/lib/python3.8/site-packages/sklearn/model_selection/_validation.py:531) ]] [Op:__inference_train_function_38639855]\n",
      "\n",
      "Function call stack:\n",
      "train_function\n",
      "\n",
      "\n",
      "  warnings.warn(\"Estimator fit failed. The score on this train-test\"\n"
     ]
    },
    {
     "name": "stdout",
     "output_type": "stream",
     "text": [
      "Epoch 1/5\n"
     ]
    },
    {
     "name": "stderr",
     "output_type": "stream",
     "text": [
      "/Users/luciedrevet/opt/anaconda3/lib/python3.8/site-packages/sklearn/model_selection/_validation.py:548: FitFailedWarning: Estimator fit failed. The score on this train-test partition for these parameters will be set to nan. Details: \n",
      "Traceback (most recent call last):\n",
      "  File \"/Users/luciedrevet/opt/anaconda3/lib/python3.8/site-packages/sklearn/model_selection/_validation.py\", line 531, in _fit_and_score\n",
      "    estimator.fit(X_train, y_train, **fit_params)\n",
      "  File \"/Users/luciedrevet/opt/anaconda3/lib/python3.8/site-packages/tensorflow/python/keras/wrappers/scikit_learn.py\", line 223, in fit\n",
      "    return super(KerasClassifier, self).fit(x, y, **kwargs)\n",
      "  File \"/Users/luciedrevet/opt/anaconda3/lib/python3.8/site-packages/tensorflow/python/keras/wrappers/scikit_learn.py\", line 166, in fit\n",
      "    history = self.model.fit(x, y, **fit_args)\n",
      "  File \"/Users/luciedrevet/opt/anaconda3/lib/python3.8/site-packages/tensorflow/python/keras/engine/training.py\", line 108, in _method_wrapper\n",
      "    return method(self, *args, **kwargs)\n",
      "  File \"/Users/luciedrevet/opt/anaconda3/lib/python3.8/site-packages/tensorflow/python/keras/engine/training.py\", line 1098, in fit\n",
      "    tmp_logs = train_function(iterator)\n",
      "  File \"/Users/luciedrevet/opt/anaconda3/lib/python3.8/site-packages/tensorflow/python/eager/def_function.py\", line 780, in __call__\n",
      "    result = self._call(*args, **kwds)\n",
      "  File \"/Users/luciedrevet/opt/anaconda3/lib/python3.8/site-packages/tensorflow/python/eager/def_function.py\", line 840, in _call\n",
      "    return self._stateless_fn(*args, **kwds)\n",
      "  File \"/Users/luciedrevet/opt/anaconda3/lib/python3.8/site-packages/tensorflow/python/eager/function.py\", line 2829, in __call__\n",
      "    return graph_function._filtered_call(args, kwargs)  # pylint: disable=protected-access\n",
      "  File \"/Users/luciedrevet/opt/anaconda3/lib/python3.8/site-packages/tensorflow/python/eager/function.py\", line 1843, in _filtered_call\n",
      "    return self._call_flat(\n",
      "  File \"/Users/luciedrevet/opt/anaconda3/lib/python3.8/site-packages/tensorflow/python/eager/function.py\", line 1923, in _call_flat\n",
      "    return self._build_call_outputs(self._inference_function.call(\n",
      "  File \"/Users/luciedrevet/opt/anaconda3/lib/python3.8/site-packages/tensorflow/python/eager/function.py\", line 545, in call\n",
      "    outputs = execute.execute(\n",
      "  File \"/Users/luciedrevet/opt/anaconda3/lib/python3.8/site-packages/tensorflow/python/eager/execute.py\", line 59, in quick_execute\n",
      "    tensors = pywrap_tfe.TFE_Py_Execute(ctx._handle, device_name, op_name,\n",
      "tensorflow.python.framework.errors_impl.InvalidArgumentError:  logits and labels must have the same first dimension, got logits shape [64,90] and labels shape [5760]\n",
      "\t [[node sparse_categorical_crossentropy/SparseSoftmaxCrossEntropyWithLogits/SparseSoftmaxCrossEntropyWithLogits (defined at /Users/luciedrevet/opt/anaconda3/lib/python3.8/site-packages/sklearn/model_selection/_validation.py:531) ]] [Op:__inference_train_function_38640639]\n",
      "\n",
      "Function call stack:\n",
      "train_function\n",
      "\n",
      "\n",
      "  warnings.warn(\"Estimator fit failed. The score on this train-test\"\n"
     ]
    },
    {
     "name": "stdout",
     "output_type": "stream",
     "text": [
      "Epoch 1/5\n"
     ]
    },
    {
     "name": "stderr",
     "output_type": "stream",
     "text": [
      "/Users/luciedrevet/opt/anaconda3/lib/python3.8/site-packages/sklearn/model_selection/_validation.py:548: FitFailedWarning: Estimator fit failed. The score on this train-test partition for these parameters will be set to nan. Details: \n",
      "Traceback (most recent call last):\n",
      "  File \"/Users/luciedrevet/opt/anaconda3/lib/python3.8/site-packages/sklearn/model_selection/_validation.py\", line 531, in _fit_and_score\n",
      "    estimator.fit(X_train, y_train, **fit_params)\n",
      "  File \"/Users/luciedrevet/opt/anaconda3/lib/python3.8/site-packages/tensorflow/python/keras/wrappers/scikit_learn.py\", line 223, in fit\n",
      "    return super(KerasClassifier, self).fit(x, y, **kwargs)\n",
      "  File \"/Users/luciedrevet/opt/anaconda3/lib/python3.8/site-packages/tensorflow/python/keras/wrappers/scikit_learn.py\", line 166, in fit\n",
      "    history = self.model.fit(x, y, **fit_args)\n",
      "  File \"/Users/luciedrevet/opt/anaconda3/lib/python3.8/site-packages/tensorflow/python/keras/engine/training.py\", line 108, in _method_wrapper\n",
      "    return method(self, *args, **kwargs)\n",
      "  File \"/Users/luciedrevet/opt/anaconda3/lib/python3.8/site-packages/tensorflow/python/keras/engine/training.py\", line 1098, in fit\n",
      "    tmp_logs = train_function(iterator)\n",
      "  File \"/Users/luciedrevet/opt/anaconda3/lib/python3.8/site-packages/tensorflow/python/eager/def_function.py\", line 780, in __call__\n",
      "    result = self._call(*args, **kwds)\n",
      "  File \"/Users/luciedrevet/opt/anaconda3/lib/python3.8/site-packages/tensorflow/python/eager/def_function.py\", line 840, in _call\n",
      "    return self._stateless_fn(*args, **kwds)\n",
      "  File \"/Users/luciedrevet/opt/anaconda3/lib/python3.8/site-packages/tensorflow/python/eager/function.py\", line 2829, in __call__\n",
      "    return graph_function._filtered_call(args, kwargs)  # pylint: disable=protected-access\n",
      "  File \"/Users/luciedrevet/opt/anaconda3/lib/python3.8/site-packages/tensorflow/python/eager/function.py\", line 1843, in _filtered_call\n",
      "    return self._call_flat(\n",
      "  File \"/Users/luciedrevet/opt/anaconda3/lib/python3.8/site-packages/tensorflow/python/eager/function.py\", line 1923, in _call_flat\n",
      "    return self._build_call_outputs(self._inference_function.call(\n",
      "  File \"/Users/luciedrevet/opt/anaconda3/lib/python3.8/site-packages/tensorflow/python/eager/function.py\", line 545, in call\n",
      "    outputs = execute.execute(\n",
      "  File \"/Users/luciedrevet/opt/anaconda3/lib/python3.8/site-packages/tensorflow/python/eager/execute.py\", line 59, in quick_execute\n",
      "    tensors = pywrap_tfe.TFE_Py_Execute(ctx._handle, device_name, op_name,\n",
      "tensorflow.python.framework.errors_impl.InvalidArgumentError:  logits and labels must have the same first dimension, got logits shape [64,90] and labels shape [5760]\n",
      "\t [[node sparse_categorical_crossentropy/SparseSoftmaxCrossEntropyWithLogits/SparseSoftmaxCrossEntropyWithLogits (defined at /Users/luciedrevet/opt/anaconda3/lib/python3.8/site-packages/sklearn/model_selection/_validation.py:531) ]] [Op:__inference_train_function_38641423]\n",
      "\n",
      "Function call stack:\n",
      "train_function\n",
      "\n",
      "\n",
      "  warnings.warn(\"Estimator fit failed. The score on this train-test\"\n"
     ]
    },
    {
     "name": "stdout",
     "output_type": "stream",
     "text": [
      "Epoch 1/5\n"
     ]
    },
    {
     "name": "stderr",
     "output_type": "stream",
     "text": [
      "/Users/luciedrevet/opt/anaconda3/lib/python3.8/site-packages/sklearn/model_selection/_validation.py:548: FitFailedWarning: Estimator fit failed. The score on this train-test partition for these parameters will be set to nan. Details: \n",
      "Traceback (most recent call last):\n",
      "  File \"/Users/luciedrevet/opt/anaconda3/lib/python3.8/site-packages/sklearn/model_selection/_validation.py\", line 531, in _fit_and_score\n",
      "    estimator.fit(X_train, y_train, **fit_params)\n",
      "  File \"/Users/luciedrevet/opt/anaconda3/lib/python3.8/site-packages/tensorflow/python/keras/wrappers/scikit_learn.py\", line 223, in fit\n",
      "    return super(KerasClassifier, self).fit(x, y, **kwargs)\n",
      "  File \"/Users/luciedrevet/opt/anaconda3/lib/python3.8/site-packages/tensorflow/python/keras/wrappers/scikit_learn.py\", line 166, in fit\n",
      "    history = self.model.fit(x, y, **fit_args)\n",
      "  File \"/Users/luciedrevet/opt/anaconda3/lib/python3.8/site-packages/tensorflow/python/keras/engine/training.py\", line 108, in _method_wrapper\n",
      "    return method(self, *args, **kwargs)\n",
      "  File \"/Users/luciedrevet/opt/anaconda3/lib/python3.8/site-packages/tensorflow/python/keras/engine/training.py\", line 1098, in fit\n",
      "    tmp_logs = train_function(iterator)\n",
      "  File \"/Users/luciedrevet/opt/anaconda3/lib/python3.8/site-packages/tensorflow/python/eager/def_function.py\", line 780, in __call__\n",
      "    result = self._call(*args, **kwds)\n",
      "  File \"/Users/luciedrevet/opt/anaconda3/lib/python3.8/site-packages/tensorflow/python/eager/def_function.py\", line 840, in _call\n",
      "    return self._stateless_fn(*args, **kwds)\n",
      "  File \"/Users/luciedrevet/opt/anaconda3/lib/python3.8/site-packages/tensorflow/python/eager/function.py\", line 2829, in __call__\n",
      "    return graph_function._filtered_call(args, kwargs)  # pylint: disable=protected-access\n",
      "  File \"/Users/luciedrevet/opt/anaconda3/lib/python3.8/site-packages/tensorflow/python/eager/function.py\", line 1843, in _filtered_call\n",
      "    return self._call_flat(\n",
      "  File \"/Users/luciedrevet/opt/anaconda3/lib/python3.8/site-packages/tensorflow/python/eager/function.py\", line 1923, in _call_flat\n",
      "    return self._build_call_outputs(self._inference_function.call(\n",
      "  File \"/Users/luciedrevet/opt/anaconda3/lib/python3.8/site-packages/tensorflow/python/eager/function.py\", line 545, in call\n",
      "    outputs = execute.execute(\n",
      "  File \"/Users/luciedrevet/opt/anaconda3/lib/python3.8/site-packages/tensorflow/python/eager/execute.py\", line 59, in quick_execute\n",
      "    tensors = pywrap_tfe.TFE_Py_Execute(ctx._handle, device_name, op_name,\n",
      "tensorflow.python.framework.errors_impl.InvalidArgumentError:  logits and labels must have the same first dimension, got logits shape [64,90] and labels shape [5760]\n",
      "\t [[node sparse_categorical_crossentropy/SparseSoftmaxCrossEntropyWithLogits/SparseSoftmaxCrossEntropyWithLogits (defined at /Users/luciedrevet/opt/anaconda3/lib/python3.8/site-packages/sklearn/model_selection/_validation.py:531) ]] [Op:__inference_train_function_38642207]\n",
      "\n",
      "Function call stack:\n",
      "train_function\n",
      "\n",
      "\n",
      "  warnings.warn(\"Estimator fit failed. The score on this train-test\"\n"
     ]
    },
    {
     "name": "stdout",
     "output_type": "stream",
     "text": [
      "Epoch 1/5\n"
     ]
    },
    {
     "name": "stderr",
     "output_type": "stream",
     "text": [
      "/Users/luciedrevet/opt/anaconda3/lib/python3.8/site-packages/sklearn/model_selection/_validation.py:548: FitFailedWarning: Estimator fit failed. The score on this train-test partition for these parameters will be set to nan. Details: \n",
      "Traceback (most recent call last):\n",
      "  File \"/Users/luciedrevet/opt/anaconda3/lib/python3.8/site-packages/sklearn/model_selection/_validation.py\", line 531, in _fit_and_score\n",
      "    estimator.fit(X_train, y_train, **fit_params)\n",
      "  File \"/Users/luciedrevet/opt/anaconda3/lib/python3.8/site-packages/tensorflow/python/keras/wrappers/scikit_learn.py\", line 223, in fit\n",
      "    return super(KerasClassifier, self).fit(x, y, **kwargs)\n",
      "  File \"/Users/luciedrevet/opt/anaconda3/lib/python3.8/site-packages/tensorflow/python/keras/wrappers/scikit_learn.py\", line 166, in fit\n",
      "    history = self.model.fit(x, y, **fit_args)\n",
      "  File \"/Users/luciedrevet/opt/anaconda3/lib/python3.8/site-packages/tensorflow/python/keras/engine/training.py\", line 108, in _method_wrapper\n",
      "    return method(self, *args, **kwargs)\n",
      "  File \"/Users/luciedrevet/opt/anaconda3/lib/python3.8/site-packages/tensorflow/python/keras/engine/training.py\", line 1098, in fit\n",
      "    tmp_logs = train_function(iterator)\n",
      "  File \"/Users/luciedrevet/opt/anaconda3/lib/python3.8/site-packages/tensorflow/python/eager/def_function.py\", line 780, in __call__\n",
      "    result = self._call(*args, **kwds)\n",
      "  File \"/Users/luciedrevet/opt/anaconda3/lib/python3.8/site-packages/tensorflow/python/eager/def_function.py\", line 840, in _call\n",
      "    return self._stateless_fn(*args, **kwds)\n",
      "  File \"/Users/luciedrevet/opt/anaconda3/lib/python3.8/site-packages/tensorflow/python/eager/function.py\", line 2829, in __call__\n",
      "    return graph_function._filtered_call(args, kwargs)  # pylint: disable=protected-access\n",
      "  File \"/Users/luciedrevet/opt/anaconda3/lib/python3.8/site-packages/tensorflow/python/eager/function.py\", line 1843, in _filtered_call\n",
      "    return self._call_flat(\n",
      "  File \"/Users/luciedrevet/opt/anaconda3/lib/python3.8/site-packages/tensorflow/python/eager/function.py\", line 1923, in _call_flat\n",
      "    return self._build_call_outputs(self._inference_function.call(\n",
      "  File \"/Users/luciedrevet/opt/anaconda3/lib/python3.8/site-packages/tensorflow/python/eager/function.py\", line 545, in call\n",
      "    outputs = execute.execute(\n",
      "  File \"/Users/luciedrevet/opt/anaconda3/lib/python3.8/site-packages/tensorflow/python/eager/execute.py\", line 59, in quick_execute\n",
      "    tensors = pywrap_tfe.TFE_Py_Execute(ctx._handle, device_name, op_name,\n",
      "tensorflow.python.framework.errors_impl.InvalidArgumentError:  logits and labels must have the same first dimension, got logits shape [64,90] and labels shape [5760]\n",
      "\t [[node sparse_categorical_crossentropy/SparseSoftmaxCrossEntropyWithLogits/SparseSoftmaxCrossEntropyWithLogits (defined at /Users/luciedrevet/opt/anaconda3/lib/python3.8/site-packages/sklearn/model_selection/_validation.py:531) ]] [Op:__inference_train_function_38642991]\n",
      "\n",
      "Function call stack:\n",
      "train_function\n",
      "\n",
      "\n",
      "  warnings.warn(\"Estimator fit failed. The score on this train-test\"\n"
     ]
    },
    {
     "name": "stdout",
     "output_type": "stream",
     "text": [
      "Epoch 1/5\n"
     ]
    },
    {
     "name": "stderr",
     "output_type": "stream",
     "text": [
      "/Users/luciedrevet/opt/anaconda3/lib/python3.8/site-packages/sklearn/model_selection/_validation.py:548: FitFailedWarning: Estimator fit failed. The score on this train-test partition for these parameters will be set to nan. Details: \n",
      "Traceback (most recent call last):\n",
      "  File \"/Users/luciedrevet/opt/anaconda3/lib/python3.8/site-packages/sklearn/model_selection/_validation.py\", line 531, in _fit_and_score\n",
      "    estimator.fit(X_train, y_train, **fit_params)\n",
      "  File \"/Users/luciedrevet/opt/anaconda3/lib/python3.8/site-packages/tensorflow/python/keras/wrappers/scikit_learn.py\", line 223, in fit\n",
      "    return super(KerasClassifier, self).fit(x, y, **kwargs)\n",
      "  File \"/Users/luciedrevet/opt/anaconda3/lib/python3.8/site-packages/tensorflow/python/keras/wrappers/scikit_learn.py\", line 166, in fit\n",
      "    history = self.model.fit(x, y, **fit_args)\n",
      "  File \"/Users/luciedrevet/opt/anaconda3/lib/python3.8/site-packages/tensorflow/python/keras/engine/training.py\", line 108, in _method_wrapper\n",
      "    return method(self, *args, **kwargs)\n",
      "  File \"/Users/luciedrevet/opt/anaconda3/lib/python3.8/site-packages/tensorflow/python/keras/engine/training.py\", line 1098, in fit\n",
      "    tmp_logs = train_function(iterator)\n",
      "  File \"/Users/luciedrevet/opt/anaconda3/lib/python3.8/site-packages/tensorflow/python/eager/def_function.py\", line 780, in __call__\n",
      "    result = self._call(*args, **kwds)\n",
      "  File \"/Users/luciedrevet/opt/anaconda3/lib/python3.8/site-packages/tensorflow/python/eager/def_function.py\", line 840, in _call\n",
      "    return self._stateless_fn(*args, **kwds)\n",
      "  File \"/Users/luciedrevet/opt/anaconda3/lib/python3.8/site-packages/tensorflow/python/eager/function.py\", line 2829, in __call__\n",
      "    return graph_function._filtered_call(args, kwargs)  # pylint: disable=protected-access\n",
      "  File \"/Users/luciedrevet/opt/anaconda3/lib/python3.8/site-packages/tensorflow/python/eager/function.py\", line 1843, in _filtered_call\n",
      "    return self._call_flat(\n",
      "  File \"/Users/luciedrevet/opt/anaconda3/lib/python3.8/site-packages/tensorflow/python/eager/function.py\", line 1923, in _call_flat\n",
      "    return self._build_call_outputs(self._inference_function.call(\n",
      "  File \"/Users/luciedrevet/opt/anaconda3/lib/python3.8/site-packages/tensorflow/python/eager/function.py\", line 545, in call\n",
      "    outputs = execute.execute(\n",
      "  File \"/Users/luciedrevet/opt/anaconda3/lib/python3.8/site-packages/tensorflow/python/eager/execute.py\", line 59, in quick_execute\n",
      "    tensors = pywrap_tfe.TFE_Py_Execute(ctx._handle, device_name, op_name,\n",
      "tensorflow.python.framework.errors_impl.InvalidArgumentError:  logits and labels must have the same first dimension, got logits shape [64,90] and labels shape [5760]\n",
      "\t [[node sparse_categorical_crossentropy/SparseSoftmaxCrossEntropyWithLogits/SparseSoftmaxCrossEntropyWithLogits (defined at /Users/luciedrevet/opt/anaconda3/lib/python3.8/site-packages/sklearn/model_selection/_validation.py:531) ]] [Op:__inference_train_function_38643775]\n",
      "\n",
      "Function call stack:\n",
      "train_function\n",
      "\n",
      "\n",
      "  warnings.warn(\"Estimator fit failed. The score on this train-test\"\n"
     ]
    },
    {
     "name": "stdout",
     "output_type": "stream",
     "text": [
      "Epoch 1/5\n"
     ]
    },
    {
     "name": "stderr",
     "output_type": "stream",
     "text": [
      "/Users/luciedrevet/opt/anaconda3/lib/python3.8/site-packages/sklearn/model_selection/_validation.py:548: FitFailedWarning: Estimator fit failed. The score on this train-test partition for these parameters will be set to nan. Details: \n",
      "Traceback (most recent call last):\n",
      "  File \"/Users/luciedrevet/opt/anaconda3/lib/python3.8/site-packages/sklearn/model_selection/_validation.py\", line 531, in _fit_and_score\n",
      "    estimator.fit(X_train, y_train, **fit_params)\n",
      "  File \"/Users/luciedrevet/opt/anaconda3/lib/python3.8/site-packages/tensorflow/python/keras/wrappers/scikit_learn.py\", line 223, in fit\n",
      "    return super(KerasClassifier, self).fit(x, y, **kwargs)\n",
      "  File \"/Users/luciedrevet/opt/anaconda3/lib/python3.8/site-packages/tensorflow/python/keras/wrappers/scikit_learn.py\", line 166, in fit\n",
      "    history = self.model.fit(x, y, **fit_args)\n",
      "  File \"/Users/luciedrevet/opt/anaconda3/lib/python3.8/site-packages/tensorflow/python/keras/engine/training.py\", line 108, in _method_wrapper\n",
      "    return method(self, *args, **kwargs)\n",
      "  File \"/Users/luciedrevet/opt/anaconda3/lib/python3.8/site-packages/tensorflow/python/keras/engine/training.py\", line 1098, in fit\n",
      "    tmp_logs = train_function(iterator)\n",
      "  File \"/Users/luciedrevet/opt/anaconda3/lib/python3.8/site-packages/tensorflow/python/eager/def_function.py\", line 780, in __call__\n",
      "    result = self._call(*args, **kwds)\n",
      "  File \"/Users/luciedrevet/opt/anaconda3/lib/python3.8/site-packages/tensorflow/python/eager/def_function.py\", line 840, in _call\n",
      "    return self._stateless_fn(*args, **kwds)\n",
      "  File \"/Users/luciedrevet/opt/anaconda3/lib/python3.8/site-packages/tensorflow/python/eager/function.py\", line 2829, in __call__\n",
      "    return graph_function._filtered_call(args, kwargs)  # pylint: disable=protected-access\n",
      "  File \"/Users/luciedrevet/opt/anaconda3/lib/python3.8/site-packages/tensorflow/python/eager/function.py\", line 1843, in _filtered_call\n",
      "    return self._call_flat(\n",
      "  File \"/Users/luciedrevet/opt/anaconda3/lib/python3.8/site-packages/tensorflow/python/eager/function.py\", line 1923, in _call_flat\n",
      "    return self._build_call_outputs(self._inference_function.call(\n",
      "  File \"/Users/luciedrevet/opt/anaconda3/lib/python3.8/site-packages/tensorflow/python/eager/function.py\", line 545, in call\n",
      "    outputs = execute.execute(\n",
      "  File \"/Users/luciedrevet/opt/anaconda3/lib/python3.8/site-packages/tensorflow/python/eager/execute.py\", line 59, in quick_execute\n",
      "    tensors = pywrap_tfe.TFE_Py_Execute(ctx._handle, device_name, op_name,\n",
      "tensorflow.python.framework.errors_impl.InvalidArgumentError:  logits and labels must have the same first dimension, got logits shape [64,90] and labels shape [5760]\n",
      "\t [[node sparse_categorical_crossentropy/SparseSoftmaxCrossEntropyWithLogits/SparseSoftmaxCrossEntropyWithLogits (defined at /Users/luciedrevet/opt/anaconda3/lib/python3.8/site-packages/sklearn/model_selection/_validation.py:531) ]] [Op:__inference_train_function_38644391]\n",
      "\n",
      "Function call stack:\n",
      "train_function\n",
      "\n",
      "\n",
      "  warnings.warn(\"Estimator fit failed. The score on this train-test\"\n"
     ]
    },
    {
     "name": "stdout",
     "output_type": "stream",
     "text": [
      "Epoch 1/5\n"
     ]
    },
    {
     "name": "stderr",
     "output_type": "stream",
     "text": [
      "/Users/luciedrevet/opt/anaconda3/lib/python3.8/site-packages/sklearn/model_selection/_validation.py:548: FitFailedWarning: Estimator fit failed. The score on this train-test partition for these parameters will be set to nan. Details: \n",
      "Traceback (most recent call last):\n",
      "  File \"/Users/luciedrevet/opt/anaconda3/lib/python3.8/site-packages/sklearn/model_selection/_validation.py\", line 531, in _fit_and_score\n",
      "    estimator.fit(X_train, y_train, **fit_params)\n",
      "  File \"/Users/luciedrevet/opt/anaconda3/lib/python3.8/site-packages/tensorflow/python/keras/wrappers/scikit_learn.py\", line 223, in fit\n",
      "    return super(KerasClassifier, self).fit(x, y, **kwargs)\n",
      "  File \"/Users/luciedrevet/opt/anaconda3/lib/python3.8/site-packages/tensorflow/python/keras/wrappers/scikit_learn.py\", line 166, in fit\n",
      "    history = self.model.fit(x, y, **fit_args)\n",
      "  File \"/Users/luciedrevet/opt/anaconda3/lib/python3.8/site-packages/tensorflow/python/keras/engine/training.py\", line 108, in _method_wrapper\n",
      "    return method(self, *args, **kwargs)\n",
      "  File \"/Users/luciedrevet/opt/anaconda3/lib/python3.8/site-packages/tensorflow/python/keras/engine/training.py\", line 1098, in fit\n",
      "    tmp_logs = train_function(iterator)\n",
      "  File \"/Users/luciedrevet/opt/anaconda3/lib/python3.8/site-packages/tensorflow/python/eager/def_function.py\", line 780, in __call__\n",
      "    result = self._call(*args, **kwds)\n",
      "  File \"/Users/luciedrevet/opt/anaconda3/lib/python3.8/site-packages/tensorflow/python/eager/def_function.py\", line 840, in _call\n",
      "    return self._stateless_fn(*args, **kwds)\n",
      "  File \"/Users/luciedrevet/opt/anaconda3/lib/python3.8/site-packages/tensorflow/python/eager/function.py\", line 2829, in __call__\n",
      "    return graph_function._filtered_call(args, kwargs)  # pylint: disable=protected-access\n",
      "  File \"/Users/luciedrevet/opt/anaconda3/lib/python3.8/site-packages/tensorflow/python/eager/function.py\", line 1843, in _filtered_call\n",
      "    return self._call_flat(\n",
      "  File \"/Users/luciedrevet/opt/anaconda3/lib/python3.8/site-packages/tensorflow/python/eager/function.py\", line 1923, in _call_flat\n",
      "    return self._build_call_outputs(self._inference_function.call(\n",
      "  File \"/Users/luciedrevet/opt/anaconda3/lib/python3.8/site-packages/tensorflow/python/eager/function.py\", line 545, in call\n",
      "    outputs = execute.execute(\n",
      "  File \"/Users/luciedrevet/opt/anaconda3/lib/python3.8/site-packages/tensorflow/python/eager/execute.py\", line 59, in quick_execute\n",
      "    tensors = pywrap_tfe.TFE_Py_Execute(ctx._handle, device_name, op_name,\n",
      "tensorflow.python.framework.errors_impl.InvalidArgumentError:  logits and labels must have the same first dimension, got logits shape [64,90] and labels shape [5760]\n",
      "\t [[node sparse_categorical_crossentropy/SparseSoftmaxCrossEntropyWithLogits/SparseSoftmaxCrossEntropyWithLogits (defined at /Users/luciedrevet/opt/anaconda3/lib/python3.8/site-packages/sklearn/model_selection/_validation.py:531) ]] [Op:__inference_train_function_38645007]\n",
      "\n",
      "Function call stack:\n",
      "train_function\n",
      "\n",
      "\n",
      "  warnings.warn(\"Estimator fit failed. The score on this train-test\"\n"
     ]
    },
    {
     "name": "stdout",
     "output_type": "stream",
     "text": [
      "Epoch 1/5\n"
     ]
    },
    {
     "name": "stderr",
     "output_type": "stream",
     "text": [
      "/Users/luciedrevet/opt/anaconda3/lib/python3.8/site-packages/sklearn/model_selection/_validation.py:548: FitFailedWarning: Estimator fit failed. The score on this train-test partition for these parameters will be set to nan. Details: \n",
      "Traceback (most recent call last):\n",
      "  File \"/Users/luciedrevet/opt/anaconda3/lib/python3.8/site-packages/sklearn/model_selection/_validation.py\", line 531, in _fit_and_score\n",
      "    estimator.fit(X_train, y_train, **fit_params)\n",
      "  File \"/Users/luciedrevet/opt/anaconda3/lib/python3.8/site-packages/tensorflow/python/keras/wrappers/scikit_learn.py\", line 223, in fit\n",
      "    return super(KerasClassifier, self).fit(x, y, **kwargs)\n",
      "  File \"/Users/luciedrevet/opt/anaconda3/lib/python3.8/site-packages/tensorflow/python/keras/wrappers/scikit_learn.py\", line 166, in fit\n",
      "    history = self.model.fit(x, y, **fit_args)\n",
      "  File \"/Users/luciedrevet/opt/anaconda3/lib/python3.8/site-packages/tensorflow/python/keras/engine/training.py\", line 108, in _method_wrapper\n",
      "    return method(self, *args, **kwargs)\n",
      "  File \"/Users/luciedrevet/opt/anaconda3/lib/python3.8/site-packages/tensorflow/python/keras/engine/training.py\", line 1098, in fit\n",
      "    tmp_logs = train_function(iterator)\n",
      "  File \"/Users/luciedrevet/opt/anaconda3/lib/python3.8/site-packages/tensorflow/python/eager/def_function.py\", line 780, in __call__\n",
      "    result = self._call(*args, **kwds)\n",
      "  File \"/Users/luciedrevet/opt/anaconda3/lib/python3.8/site-packages/tensorflow/python/eager/def_function.py\", line 840, in _call\n",
      "    return self._stateless_fn(*args, **kwds)\n",
      "  File \"/Users/luciedrevet/opt/anaconda3/lib/python3.8/site-packages/tensorflow/python/eager/function.py\", line 2829, in __call__\n",
      "    return graph_function._filtered_call(args, kwargs)  # pylint: disable=protected-access\n",
      "  File \"/Users/luciedrevet/opt/anaconda3/lib/python3.8/site-packages/tensorflow/python/eager/function.py\", line 1843, in _filtered_call\n",
      "    return self._call_flat(\n",
      "  File \"/Users/luciedrevet/opt/anaconda3/lib/python3.8/site-packages/tensorflow/python/eager/function.py\", line 1923, in _call_flat\n",
      "    return self._build_call_outputs(self._inference_function.call(\n",
      "  File \"/Users/luciedrevet/opt/anaconda3/lib/python3.8/site-packages/tensorflow/python/eager/function.py\", line 545, in call\n",
      "    outputs = execute.execute(\n",
      "  File \"/Users/luciedrevet/opt/anaconda3/lib/python3.8/site-packages/tensorflow/python/eager/execute.py\", line 59, in quick_execute\n",
      "    tensors = pywrap_tfe.TFE_Py_Execute(ctx._handle, device_name, op_name,\n",
      "tensorflow.python.framework.errors_impl.InvalidArgumentError:  logits and labels must have the same first dimension, got logits shape [64,90] and labels shape [5760]\n",
      "\t [[node sparse_categorical_crossentropy/SparseSoftmaxCrossEntropyWithLogits/SparseSoftmaxCrossEntropyWithLogits (defined at /Users/luciedrevet/opt/anaconda3/lib/python3.8/site-packages/sklearn/model_selection/_validation.py:531) ]] [Op:__inference_train_function_38645623]\n",
      "\n",
      "Function call stack:\n",
      "train_function\n",
      "\n",
      "\n",
      "  warnings.warn(\"Estimator fit failed. The score on this train-test\"\n"
     ]
    },
    {
     "name": "stdout",
     "output_type": "stream",
     "text": [
      "Epoch 1/5\n"
     ]
    },
    {
     "name": "stderr",
     "output_type": "stream",
     "text": [
      "/Users/luciedrevet/opt/anaconda3/lib/python3.8/site-packages/sklearn/model_selection/_validation.py:548: FitFailedWarning: Estimator fit failed. The score on this train-test partition for these parameters will be set to nan. Details: \n",
      "Traceback (most recent call last):\n",
      "  File \"/Users/luciedrevet/opt/anaconda3/lib/python3.8/site-packages/sklearn/model_selection/_validation.py\", line 531, in _fit_and_score\n",
      "    estimator.fit(X_train, y_train, **fit_params)\n",
      "  File \"/Users/luciedrevet/opt/anaconda3/lib/python3.8/site-packages/tensorflow/python/keras/wrappers/scikit_learn.py\", line 223, in fit\n",
      "    return super(KerasClassifier, self).fit(x, y, **kwargs)\n",
      "  File \"/Users/luciedrevet/opt/anaconda3/lib/python3.8/site-packages/tensorflow/python/keras/wrappers/scikit_learn.py\", line 166, in fit\n",
      "    history = self.model.fit(x, y, **fit_args)\n",
      "  File \"/Users/luciedrevet/opt/anaconda3/lib/python3.8/site-packages/tensorflow/python/keras/engine/training.py\", line 108, in _method_wrapper\n",
      "    return method(self, *args, **kwargs)\n",
      "  File \"/Users/luciedrevet/opt/anaconda3/lib/python3.8/site-packages/tensorflow/python/keras/engine/training.py\", line 1098, in fit\n",
      "    tmp_logs = train_function(iterator)\n",
      "  File \"/Users/luciedrevet/opt/anaconda3/lib/python3.8/site-packages/tensorflow/python/eager/def_function.py\", line 780, in __call__\n",
      "    result = self._call(*args, **kwds)\n",
      "  File \"/Users/luciedrevet/opt/anaconda3/lib/python3.8/site-packages/tensorflow/python/eager/def_function.py\", line 840, in _call\n",
      "    return self._stateless_fn(*args, **kwds)\n",
      "  File \"/Users/luciedrevet/opt/anaconda3/lib/python3.8/site-packages/tensorflow/python/eager/function.py\", line 2829, in __call__\n",
      "    return graph_function._filtered_call(args, kwargs)  # pylint: disable=protected-access\n",
      "  File \"/Users/luciedrevet/opt/anaconda3/lib/python3.8/site-packages/tensorflow/python/eager/function.py\", line 1843, in _filtered_call\n",
      "    return self._call_flat(\n",
      "  File \"/Users/luciedrevet/opt/anaconda3/lib/python3.8/site-packages/tensorflow/python/eager/function.py\", line 1923, in _call_flat\n",
      "    return self._build_call_outputs(self._inference_function.call(\n",
      "  File \"/Users/luciedrevet/opt/anaconda3/lib/python3.8/site-packages/tensorflow/python/eager/function.py\", line 545, in call\n",
      "    outputs = execute.execute(\n",
      "  File \"/Users/luciedrevet/opt/anaconda3/lib/python3.8/site-packages/tensorflow/python/eager/execute.py\", line 59, in quick_execute\n",
      "    tensors = pywrap_tfe.TFE_Py_Execute(ctx._handle, device_name, op_name,\n",
      "tensorflow.python.framework.errors_impl.InvalidArgumentError:  logits and labels must have the same first dimension, got logits shape [64,90] and labels shape [5760]\n",
      "\t [[node sparse_categorical_crossentropy/SparseSoftmaxCrossEntropyWithLogits/SparseSoftmaxCrossEntropyWithLogits (defined at /Users/luciedrevet/opt/anaconda3/lib/python3.8/site-packages/sklearn/model_selection/_validation.py:531) ]] [Op:__inference_train_function_38646239]\n",
      "\n",
      "Function call stack:\n",
      "train_function\n",
      "\n",
      "\n",
      "  warnings.warn(\"Estimator fit failed. The score on this train-test\"\n"
     ]
    },
    {
     "name": "stdout",
     "output_type": "stream",
     "text": [
      "Epoch 1/5\n"
     ]
    },
    {
     "name": "stderr",
     "output_type": "stream",
     "text": [
      "/Users/luciedrevet/opt/anaconda3/lib/python3.8/site-packages/sklearn/model_selection/_validation.py:548: FitFailedWarning: Estimator fit failed. The score on this train-test partition for these parameters will be set to nan. Details: \n",
      "Traceback (most recent call last):\n",
      "  File \"/Users/luciedrevet/opt/anaconda3/lib/python3.8/site-packages/sklearn/model_selection/_validation.py\", line 531, in _fit_and_score\n",
      "    estimator.fit(X_train, y_train, **fit_params)\n",
      "  File \"/Users/luciedrevet/opt/anaconda3/lib/python3.8/site-packages/tensorflow/python/keras/wrappers/scikit_learn.py\", line 223, in fit\n",
      "    return super(KerasClassifier, self).fit(x, y, **kwargs)\n",
      "  File \"/Users/luciedrevet/opt/anaconda3/lib/python3.8/site-packages/tensorflow/python/keras/wrappers/scikit_learn.py\", line 166, in fit\n",
      "    history = self.model.fit(x, y, **fit_args)\n",
      "  File \"/Users/luciedrevet/opt/anaconda3/lib/python3.8/site-packages/tensorflow/python/keras/engine/training.py\", line 108, in _method_wrapper\n",
      "    return method(self, *args, **kwargs)\n",
      "  File \"/Users/luciedrevet/opt/anaconda3/lib/python3.8/site-packages/tensorflow/python/keras/engine/training.py\", line 1098, in fit\n",
      "    tmp_logs = train_function(iterator)\n",
      "  File \"/Users/luciedrevet/opt/anaconda3/lib/python3.8/site-packages/tensorflow/python/eager/def_function.py\", line 780, in __call__\n",
      "    result = self._call(*args, **kwds)\n",
      "  File \"/Users/luciedrevet/opt/anaconda3/lib/python3.8/site-packages/tensorflow/python/eager/def_function.py\", line 840, in _call\n",
      "    return self._stateless_fn(*args, **kwds)\n",
      "  File \"/Users/luciedrevet/opt/anaconda3/lib/python3.8/site-packages/tensorflow/python/eager/function.py\", line 2829, in __call__\n",
      "    return graph_function._filtered_call(args, kwargs)  # pylint: disable=protected-access\n",
      "  File \"/Users/luciedrevet/opt/anaconda3/lib/python3.8/site-packages/tensorflow/python/eager/function.py\", line 1843, in _filtered_call\n",
      "    return self._call_flat(\n",
      "  File \"/Users/luciedrevet/opt/anaconda3/lib/python3.8/site-packages/tensorflow/python/eager/function.py\", line 1923, in _call_flat\n",
      "    return self._build_call_outputs(self._inference_function.call(\n",
      "  File \"/Users/luciedrevet/opt/anaconda3/lib/python3.8/site-packages/tensorflow/python/eager/function.py\", line 545, in call\n",
      "    outputs = execute.execute(\n",
      "  File \"/Users/luciedrevet/opt/anaconda3/lib/python3.8/site-packages/tensorflow/python/eager/execute.py\", line 59, in quick_execute\n",
      "    tensors = pywrap_tfe.TFE_Py_Execute(ctx._handle, device_name, op_name,\n",
      "tensorflow.python.framework.errors_impl.InvalidArgumentError:  logits and labels must have the same first dimension, got logits shape [64,90] and labels shape [5760]\n",
      "\t [[node sparse_categorical_crossentropy/SparseSoftmaxCrossEntropyWithLogits/SparseSoftmaxCrossEntropyWithLogits (defined at /Users/luciedrevet/opt/anaconda3/lib/python3.8/site-packages/sklearn/model_selection/_validation.py:531) ]] [Op:__inference_train_function_38646855]\n",
      "\n",
      "Function call stack:\n",
      "train_function\n",
      "\n",
      "\n",
      "  warnings.warn(\"Estimator fit failed. The score on this train-test\"\n"
     ]
    },
    {
     "name": "stdout",
     "output_type": "stream",
     "text": [
      "Epoch 1/5\n"
     ]
    },
    {
     "name": "stderr",
     "output_type": "stream",
     "text": [
      "/Users/luciedrevet/opt/anaconda3/lib/python3.8/site-packages/sklearn/model_selection/_validation.py:548: FitFailedWarning: Estimator fit failed. The score on this train-test partition for these parameters will be set to nan. Details: \n",
      "Traceback (most recent call last):\n",
      "  File \"/Users/luciedrevet/opt/anaconda3/lib/python3.8/site-packages/sklearn/model_selection/_validation.py\", line 531, in _fit_and_score\n",
      "    estimator.fit(X_train, y_train, **fit_params)\n",
      "  File \"/Users/luciedrevet/opt/anaconda3/lib/python3.8/site-packages/tensorflow/python/keras/wrappers/scikit_learn.py\", line 223, in fit\n",
      "    return super(KerasClassifier, self).fit(x, y, **kwargs)\n",
      "  File \"/Users/luciedrevet/opt/anaconda3/lib/python3.8/site-packages/tensorflow/python/keras/wrappers/scikit_learn.py\", line 166, in fit\n",
      "    history = self.model.fit(x, y, **fit_args)\n",
      "  File \"/Users/luciedrevet/opt/anaconda3/lib/python3.8/site-packages/tensorflow/python/keras/engine/training.py\", line 108, in _method_wrapper\n",
      "    return method(self, *args, **kwargs)\n",
      "  File \"/Users/luciedrevet/opt/anaconda3/lib/python3.8/site-packages/tensorflow/python/keras/engine/training.py\", line 1098, in fit\n",
      "    tmp_logs = train_function(iterator)\n",
      "  File \"/Users/luciedrevet/opt/anaconda3/lib/python3.8/site-packages/tensorflow/python/eager/def_function.py\", line 780, in __call__\n",
      "    result = self._call(*args, **kwds)\n",
      "  File \"/Users/luciedrevet/opt/anaconda3/lib/python3.8/site-packages/tensorflow/python/eager/def_function.py\", line 840, in _call\n",
      "    return self._stateless_fn(*args, **kwds)\n",
      "  File \"/Users/luciedrevet/opt/anaconda3/lib/python3.8/site-packages/tensorflow/python/eager/function.py\", line 2829, in __call__\n",
      "    return graph_function._filtered_call(args, kwargs)  # pylint: disable=protected-access\n",
      "  File \"/Users/luciedrevet/opt/anaconda3/lib/python3.8/site-packages/tensorflow/python/eager/function.py\", line 1843, in _filtered_call\n",
      "    return self._call_flat(\n",
      "  File \"/Users/luciedrevet/opt/anaconda3/lib/python3.8/site-packages/tensorflow/python/eager/function.py\", line 1923, in _call_flat\n",
      "    return self._build_call_outputs(self._inference_function.call(\n",
      "  File \"/Users/luciedrevet/opt/anaconda3/lib/python3.8/site-packages/tensorflow/python/eager/function.py\", line 545, in call\n",
      "    outputs = execute.execute(\n",
      "  File \"/Users/luciedrevet/opt/anaconda3/lib/python3.8/site-packages/tensorflow/python/eager/execute.py\", line 59, in quick_execute\n",
      "    tensors = pywrap_tfe.TFE_Py_Execute(ctx._handle, device_name, op_name,\n",
      "tensorflow.python.framework.errors_impl.InvalidArgumentError:  logits and labels must have the same first dimension, got logits shape [64,90] and labels shape [5760]\n",
      "\t [[node sparse_categorical_crossentropy/SparseSoftmaxCrossEntropyWithLogits/SparseSoftmaxCrossEntropyWithLogits (defined at /Users/luciedrevet/opt/anaconda3/lib/python3.8/site-packages/sklearn/model_selection/_validation.py:531) ]] [Op:__inference_train_function_38647532]\n",
      "\n",
      "Function call stack:\n",
      "train_function\n",
      "\n",
      "\n",
      "  warnings.warn(\"Estimator fit failed. The score on this train-test\"\n"
     ]
    },
    {
     "name": "stdout",
     "output_type": "stream",
     "text": [
      "Epoch 1/5\n"
     ]
    },
    {
     "name": "stderr",
     "output_type": "stream",
     "text": [
      "/Users/luciedrevet/opt/anaconda3/lib/python3.8/site-packages/sklearn/model_selection/_validation.py:548: FitFailedWarning: Estimator fit failed. The score on this train-test partition for these parameters will be set to nan. Details: \n",
      "Traceback (most recent call last):\n",
      "  File \"/Users/luciedrevet/opt/anaconda3/lib/python3.8/site-packages/sklearn/model_selection/_validation.py\", line 531, in _fit_and_score\n",
      "    estimator.fit(X_train, y_train, **fit_params)\n",
      "  File \"/Users/luciedrevet/opt/anaconda3/lib/python3.8/site-packages/tensorflow/python/keras/wrappers/scikit_learn.py\", line 223, in fit\n",
      "    return super(KerasClassifier, self).fit(x, y, **kwargs)\n",
      "  File \"/Users/luciedrevet/opt/anaconda3/lib/python3.8/site-packages/tensorflow/python/keras/wrappers/scikit_learn.py\", line 166, in fit\n",
      "    history = self.model.fit(x, y, **fit_args)\n",
      "  File \"/Users/luciedrevet/opt/anaconda3/lib/python3.8/site-packages/tensorflow/python/keras/engine/training.py\", line 108, in _method_wrapper\n",
      "    return method(self, *args, **kwargs)\n",
      "  File \"/Users/luciedrevet/opt/anaconda3/lib/python3.8/site-packages/tensorflow/python/keras/engine/training.py\", line 1098, in fit\n",
      "    tmp_logs = train_function(iterator)\n",
      "  File \"/Users/luciedrevet/opt/anaconda3/lib/python3.8/site-packages/tensorflow/python/eager/def_function.py\", line 780, in __call__\n",
      "    result = self._call(*args, **kwds)\n",
      "  File \"/Users/luciedrevet/opt/anaconda3/lib/python3.8/site-packages/tensorflow/python/eager/def_function.py\", line 840, in _call\n",
      "    return self._stateless_fn(*args, **kwds)\n",
      "  File \"/Users/luciedrevet/opt/anaconda3/lib/python3.8/site-packages/tensorflow/python/eager/function.py\", line 2829, in __call__\n",
      "    return graph_function._filtered_call(args, kwargs)  # pylint: disable=protected-access\n",
      "  File \"/Users/luciedrevet/opt/anaconda3/lib/python3.8/site-packages/tensorflow/python/eager/function.py\", line 1843, in _filtered_call\n",
      "    return self._call_flat(\n",
      "  File \"/Users/luciedrevet/opt/anaconda3/lib/python3.8/site-packages/tensorflow/python/eager/function.py\", line 1923, in _call_flat\n",
      "    return self._build_call_outputs(self._inference_function.call(\n",
      "  File \"/Users/luciedrevet/opt/anaconda3/lib/python3.8/site-packages/tensorflow/python/eager/function.py\", line 545, in call\n",
      "    outputs = execute.execute(\n",
      "  File \"/Users/luciedrevet/opt/anaconda3/lib/python3.8/site-packages/tensorflow/python/eager/execute.py\", line 59, in quick_execute\n",
      "    tensors = pywrap_tfe.TFE_Py_Execute(ctx._handle, device_name, op_name,\n",
      "tensorflow.python.framework.errors_impl.InvalidArgumentError:  logits and labels must have the same first dimension, got logits shape [64,90] and labels shape [5760]\n",
      "\t [[node sparse_categorical_crossentropy/SparseSoftmaxCrossEntropyWithLogits/SparseSoftmaxCrossEntropyWithLogits (defined at /Users/luciedrevet/opt/anaconda3/lib/python3.8/site-packages/sklearn/model_selection/_validation.py:531) ]] [Op:__inference_train_function_38648209]\n",
      "\n",
      "Function call stack:\n",
      "train_function\n",
      "\n",
      "\n",
      "  warnings.warn(\"Estimator fit failed. The score on this train-test\"\n"
     ]
    },
    {
     "name": "stdout",
     "output_type": "stream",
     "text": [
      "Epoch 1/5\n"
     ]
    },
    {
     "name": "stderr",
     "output_type": "stream",
     "text": [
      "/Users/luciedrevet/opt/anaconda3/lib/python3.8/site-packages/sklearn/model_selection/_validation.py:548: FitFailedWarning: Estimator fit failed. The score on this train-test partition for these parameters will be set to nan. Details: \n",
      "Traceback (most recent call last):\n",
      "  File \"/Users/luciedrevet/opt/anaconda3/lib/python3.8/site-packages/sklearn/model_selection/_validation.py\", line 531, in _fit_and_score\n",
      "    estimator.fit(X_train, y_train, **fit_params)\n",
      "  File \"/Users/luciedrevet/opt/anaconda3/lib/python3.8/site-packages/tensorflow/python/keras/wrappers/scikit_learn.py\", line 223, in fit\n",
      "    return super(KerasClassifier, self).fit(x, y, **kwargs)\n",
      "  File \"/Users/luciedrevet/opt/anaconda3/lib/python3.8/site-packages/tensorflow/python/keras/wrappers/scikit_learn.py\", line 166, in fit\n",
      "    history = self.model.fit(x, y, **fit_args)\n",
      "  File \"/Users/luciedrevet/opt/anaconda3/lib/python3.8/site-packages/tensorflow/python/keras/engine/training.py\", line 108, in _method_wrapper\n",
      "    return method(self, *args, **kwargs)\n",
      "  File \"/Users/luciedrevet/opt/anaconda3/lib/python3.8/site-packages/tensorflow/python/keras/engine/training.py\", line 1098, in fit\n",
      "    tmp_logs = train_function(iterator)\n",
      "  File \"/Users/luciedrevet/opt/anaconda3/lib/python3.8/site-packages/tensorflow/python/eager/def_function.py\", line 780, in __call__\n",
      "    result = self._call(*args, **kwds)\n",
      "  File \"/Users/luciedrevet/opt/anaconda3/lib/python3.8/site-packages/tensorflow/python/eager/def_function.py\", line 840, in _call\n",
      "    return self._stateless_fn(*args, **kwds)\n",
      "  File \"/Users/luciedrevet/opt/anaconda3/lib/python3.8/site-packages/tensorflow/python/eager/function.py\", line 2829, in __call__\n",
      "    return graph_function._filtered_call(args, kwargs)  # pylint: disable=protected-access\n",
      "  File \"/Users/luciedrevet/opt/anaconda3/lib/python3.8/site-packages/tensorflow/python/eager/function.py\", line 1843, in _filtered_call\n",
      "    return self._call_flat(\n",
      "  File \"/Users/luciedrevet/opt/anaconda3/lib/python3.8/site-packages/tensorflow/python/eager/function.py\", line 1923, in _call_flat\n",
      "    return self._build_call_outputs(self._inference_function.call(\n",
      "  File \"/Users/luciedrevet/opt/anaconda3/lib/python3.8/site-packages/tensorflow/python/eager/function.py\", line 545, in call\n",
      "    outputs = execute.execute(\n",
      "  File \"/Users/luciedrevet/opt/anaconda3/lib/python3.8/site-packages/tensorflow/python/eager/execute.py\", line 59, in quick_execute\n",
      "    tensors = pywrap_tfe.TFE_Py_Execute(ctx._handle, device_name, op_name,\n",
      "tensorflow.python.framework.errors_impl.InvalidArgumentError:  logits and labels must have the same first dimension, got logits shape [64,90] and labels shape [5760]\n",
      "\t [[node sparse_categorical_crossentropy/SparseSoftmaxCrossEntropyWithLogits/SparseSoftmaxCrossEntropyWithLogits (defined at /Users/luciedrevet/opt/anaconda3/lib/python3.8/site-packages/sklearn/model_selection/_validation.py:531) ]] [Op:__inference_train_function_38648886]\n",
      "\n",
      "Function call stack:\n",
      "train_function\n",
      "\n",
      "\n",
      "  warnings.warn(\"Estimator fit failed. The score on this train-test\"\n"
     ]
    },
    {
     "name": "stdout",
     "output_type": "stream",
     "text": [
      "Epoch 1/5\n"
     ]
    },
    {
     "name": "stderr",
     "output_type": "stream",
     "text": [
      "/Users/luciedrevet/opt/anaconda3/lib/python3.8/site-packages/sklearn/model_selection/_validation.py:548: FitFailedWarning: Estimator fit failed. The score on this train-test partition for these parameters will be set to nan. Details: \n",
      "Traceback (most recent call last):\n",
      "  File \"/Users/luciedrevet/opt/anaconda3/lib/python3.8/site-packages/sklearn/model_selection/_validation.py\", line 531, in _fit_and_score\n",
      "    estimator.fit(X_train, y_train, **fit_params)\n",
      "  File \"/Users/luciedrevet/opt/anaconda3/lib/python3.8/site-packages/tensorflow/python/keras/wrappers/scikit_learn.py\", line 223, in fit\n",
      "    return super(KerasClassifier, self).fit(x, y, **kwargs)\n",
      "  File \"/Users/luciedrevet/opt/anaconda3/lib/python3.8/site-packages/tensorflow/python/keras/wrappers/scikit_learn.py\", line 166, in fit\n",
      "    history = self.model.fit(x, y, **fit_args)\n",
      "  File \"/Users/luciedrevet/opt/anaconda3/lib/python3.8/site-packages/tensorflow/python/keras/engine/training.py\", line 108, in _method_wrapper\n",
      "    return method(self, *args, **kwargs)\n",
      "  File \"/Users/luciedrevet/opt/anaconda3/lib/python3.8/site-packages/tensorflow/python/keras/engine/training.py\", line 1098, in fit\n",
      "    tmp_logs = train_function(iterator)\n",
      "  File \"/Users/luciedrevet/opt/anaconda3/lib/python3.8/site-packages/tensorflow/python/eager/def_function.py\", line 780, in __call__\n",
      "    result = self._call(*args, **kwds)\n",
      "  File \"/Users/luciedrevet/opt/anaconda3/lib/python3.8/site-packages/tensorflow/python/eager/def_function.py\", line 840, in _call\n",
      "    return self._stateless_fn(*args, **kwds)\n",
      "  File \"/Users/luciedrevet/opt/anaconda3/lib/python3.8/site-packages/tensorflow/python/eager/function.py\", line 2829, in __call__\n",
      "    return graph_function._filtered_call(args, kwargs)  # pylint: disable=protected-access\n",
      "  File \"/Users/luciedrevet/opt/anaconda3/lib/python3.8/site-packages/tensorflow/python/eager/function.py\", line 1843, in _filtered_call\n",
      "    return self._call_flat(\n",
      "  File \"/Users/luciedrevet/opt/anaconda3/lib/python3.8/site-packages/tensorflow/python/eager/function.py\", line 1923, in _call_flat\n",
      "    return self._build_call_outputs(self._inference_function.call(\n",
      "  File \"/Users/luciedrevet/opt/anaconda3/lib/python3.8/site-packages/tensorflow/python/eager/function.py\", line 545, in call\n",
      "    outputs = execute.execute(\n",
      "  File \"/Users/luciedrevet/opt/anaconda3/lib/python3.8/site-packages/tensorflow/python/eager/execute.py\", line 59, in quick_execute\n",
      "    tensors = pywrap_tfe.TFE_Py_Execute(ctx._handle, device_name, op_name,\n",
      "tensorflow.python.framework.errors_impl.InvalidArgumentError:  logits and labels must have the same first dimension, got logits shape [64,90] and labels shape [5760]\n",
      "\t [[node sparse_categorical_crossentropy/SparseSoftmaxCrossEntropyWithLogits/SparseSoftmaxCrossEntropyWithLogits (defined at /Users/luciedrevet/opt/anaconda3/lib/python3.8/site-packages/sklearn/model_selection/_validation.py:531) ]] [Op:__inference_train_function_38649563]\n",
      "\n",
      "Function call stack:\n",
      "train_function\n",
      "\n",
      "\n",
      "  warnings.warn(\"Estimator fit failed. The score on this train-test\"\n"
     ]
    },
    {
     "name": "stdout",
     "output_type": "stream",
     "text": [
      "Epoch 1/5\n"
     ]
    },
    {
     "name": "stderr",
     "output_type": "stream",
     "text": [
      "/Users/luciedrevet/opt/anaconda3/lib/python3.8/site-packages/sklearn/model_selection/_validation.py:548: FitFailedWarning: Estimator fit failed. The score on this train-test partition for these parameters will be set to nan. Details: \n",
      "Traceback (most recent call last):\n",
      "  File \"/Users/luciedrevet/opt/anaconda3/lib/python3.8/site-packages/sklearn/model_selection/_validation.py\", line 531, in _fit_and_score\n",
      "    estimator.fit(X_train, y_train, **fit_params)\n",
      "  File \"/Users/luciedrevet/opt/anaconda3/lib/python3.8/site-packages/tensorflow/python/keras/wrappers/scikit_learn.py\", line 223, in fit\n",
      "    return super(KerasClassifier, self).fit(x, y, **kwargs)\n",
      "  File \"/Users/luciedrevet/opt/anaconda3/lib/python3.8/site-packages/tensorflow/python/keras/wrappers/scikit_learn.py\", line 166, in fit\n",
      "    history = self.model.fit(x, y, **fit_args)\n",
      "  File \"/Users/luciedrevet/opt/anaconda3/lib/python3.8/site-packages/tensorflow/python/keras/engine/training.py\", line 108, in _method_wrapper\n",
      "    return method(self, *args, **kwargs)\n",
      "  File \"/Users/luciedrevet/opt/anaconda3/lib/python3.8/site-packages/tensorflow/python/keras/engine/training.py\", line 1098, in fit\n",
      "    tmp_logs = train_function(iterator)\n",
      "  File \"/Users/luciedrevet/opt/anaconda3/lib/python3.8/site-packages/tensorflow/python/eager/def_function.py\", line 780, in __call__\n",
      "    result = self._call(*args, **kwds)\n",
      "  File \"/Users/luciedrevet/opt/anaconda3/lib/python3.8/site-packages/tensorflow/python/eager/def_function.py\", line 840, in _call\n",
      "    return self._stateless_fn(*args, **kwds)\n",
      "  File \"/Users/luciedrevet/opt/anaconda3/lib/python3.8/site-packages/tensorflow/python/eager/function.py\", line 2829, in __call__\n",
      "    return graph_function._filtered_call(args, kwargs)  # pylint: disable=protected-access\n",
      "  File \"/Users/luciedrevet/opt/anaconda3/lib/python3.8/site-packages/tensorflow/python/eager/function.py\", line 1843, in _filtered_call\n",
      "    return self._call_flat(\n",
      "  File \"/Users/luciedrevet/opt/anaconda3/lib/python3.8/site-packages/tensorflow/python/eager/function.py\", line 1923, in _call_flat\n",
      "    return self._build_call_outputs(self._inference_function.call(\n",
      "  File \"/Users/luciedrevet/opt/anaconda3/lib/python3.8/site-packages/tensorflow/python/eager/function.py\", line 545, in call\n",
      "    outputs = execute.execute(\n",
      "  File \"/Users/luciedrevet/opt/anaconda3/lib/python3.8/site-packages/tensorflow/python/eager/execute.py\", line 59, in quick_execute\n",
      "    tensors = pywrap_tfe.TFE_Py_Execute(ctx._handle, device_name, op_name,\n",
      "tensorflow.python.framework.errors_impl.InvalidArgumentError:  logits and labels must have the same first dimension, got logits shape [64,90] and labels shape [5760]\n",
      "\t [[node sparse_categorical_crossentropy/SparseSoftmaxCrossEntropyWithLogits/SparseSoftmaxCrossEntropyWithLogits (defined at /Users/luciedrevet/opt/anaconda3/lib/python3.8/site-packages/sklearn/model_selection/_validation.py:531) ]] [Op:__inference_train_function_38650240]\n",
      "\n",
      "Function call stack:\n",
      "train_function\n",
      "\n",
      "\n",
      "  warnings.warn(\"Estimator fit failed. The score on this train-test\"\n"
     ]
    },
    {
     "name": "stdout",
     "output_type": "stream",
     "text": [
      "Epoch 1/5\n"
     ]
    },
    {
     "name": "stderr",
     "output_type": "stream",
     "text": [
      "/Users/luciedrevet/opt/anaconda3/lib/python3.8/site-packages/sklearn/model_selection/_validation.py:548: FitFailedWarning: Estimator fit failed. The score on this train-test partition for these parameters will be set to nan. Details: \n",
      "Traceback (most recent call last):\n",
      "  File \"/Users/luciedrevet/opt/anaconda3/lib/python3.8/site-packages/sklearn/model_selection/_validation.py\", line 531, in _fit_and_score\n",
      "    estimator.fit(X_train, y_train, **fit_params)\n",
      "  File \"/Users/luciedrevet/opt/anaconda3/lib/python3.8/site-packages/tensorflow/python/keras/wrappers/scikit_learn.py\", line 223, in fit\n",
      "    return super(KerasClassifier, self).fit(x, y, **kwargs)\n",
      "  File \"/Users/luciedrevet/opt/anaconda3/lib/python3.8/site-packages/tensorflow/python/keras/wrappers/scikit_learn.py\", line 166, in fit\n",
      "    history = self.model.fit(x, y, **fit_args)\n",
      "  File \"/Users/luciedrevet/opt/anaconda3/lib/python3.8/site-packages/tensorflow/python/keras/engine/training.py\", line 108, in _method_wrapper\n",
      "    return method(self, *args, **kwargs)\n",
      "  File \"/Users/luciedrevet/opt/anaconda3/lib/python3.8/site-packages/tensorflow/python/keras/engine/training.py\", line 1098, in fit\n",
      "    tmp_logs = train_function(iterator)\n",
      "  File \"/Users/luciedrevet/opt/anaconda3/lib/python3.8/site-packages/tensorflow/python/eager/def_function.py\", line 780, in __call__\n",
      "    result = self._call(*args, **kwds)\n",
      "  File \"/Users/luciedrevet/opt/anaconda3/lib/python3.8/site-packages/tensorflow/python/eager/def_function.py\", line 840, in _call\n",
      "    return self._stateless_fn(*args, **kwds)\n",
      "  File \"/Users/luciedrevet/opt/anaconda3/lib/python3.8/site-packages/tensorflow/python/eager/function.py\", line 2829, in __call__\n",
      "    return graph_function._filtered_call(args, kwargs)  # pylint: disable=protected-access\n",
      "  File \"/Users/luciedrevet/opt/anaconda3/lib/python3.8/site-packages/tensorflow/python/eager/function.py\", line 1843, in _filtered_call\n",
      "    return self._call_flat(\n",
      "  File \"/Users/luciedrevet/opt/anaconda3/lib/python3.8/site-packages/tensorflow/python/eager/function.py\", line 1923, in _call_flat\n",
      "    return self._build_call_outputs(self._inference_function.call(\n",
      "  File \"/Users/luciedrevet/opt/anaconda3/lib/python3.8/site-packages/tensorflow/python/eager/function.py\", line 545, in call\n",
      "    outputs = execute.execute(\n",
      "  File \"/Users/luciedrevet/opt/anaconda3/lib/python3.8/site-packages/tensorflow/python/eager/execute.py\", line 59, in quick_execute\n",
      "    tensors = pywrap_tfe.TFE_Py_Execute(ctx._handle, device_name, op_name,\n",
      "tensorflow.python.framework.errors_impl.InvalidArgumentError:  logits and labels must have the same first dimension, got logits shape [64,90] and labels shape [5760]\n",
      "\t [[node sparse_categorical_crossentropy/SparseSoftmaxCrossEntropyWithLogits/SparseSoftmaxCrossEntropyWithLogits (defined at /Users/luciedrevet/opt/anaconda3/lib/python3.8/site-packages/sklearn/model_selection/_validation.py:531) ]] [Op:__inference_train_function_38650962]\n",
      "\n",
      "Function call stack:\n",
      "train_function\n",
      "\n",
      "\n",
      "  warnings.warn(\"Estimator fit failed. The score on this train-test\"\n"
     ]
    },
    {
     "name": "stdout",
     "output_type": "stream",
     "text": [
      "Epoch 1/5\n"
     ]
    },
    {
     "name": "stderr",
     "output_type": "stream",
     "text": [
      "/Users/luciedrevet/opt/anaconda3/lib/python3.8/site-packages/sklearn/model_selection/_validation.py:548: FitFailedWarning: Estimator fit failed. The score on this train-test partition for these parameters will be set to nan. Details: \n",
      "Traceback (most recent call last):\n",
      "  File \"/Users/luciedrevet/opt/anaconda3/lib/python3.8/site-packages/sklearn/model_selection/_validation.py\", line 531, in _fit_and_score\n",
      "    estimator.fit(X_train, y_train, **fit_params)\n",
      "  File \"/Users/luciedrevet/opt/anaconda3/lib/python3.8/site-packages/tensorflow/python/keras/wrappers/scikit_learn.py\", line 223, in fit\n",
      "    return super(KerasClassifier, self).fit(x, y, **kwargs)\n",
      "  File \"/Users/luciedrevet/opt/anaconda3/lib/python3.8/site-packages/tensorflow/python/keras/wrappers/scikit_learn.py\", line 166, in fit\n",
      "    history = self.model.fit(x, y, **fit_args)\n",
      "  File \"/Users/luciedrevet/opt/anaconda3/lib/python3.8/site-packages/tensorflow/python/keras/engine/training.py\", line 108, in _method_wrapper\n",
      "    return method(self, *args, **kwargs)\n",
      "  File \"/Users/luciedrevet/opt/anaconda3/lib/python3.8/site-packages/tensorflow/python/keras/engine/training.py\", line 1098, in fit\n",
      "    tmp_logs = train_function(iterator)\n",
      "  File \"/Users/luciedrevet/opt/anaconda3/lib/python3.8/site-packages/tensorflow/python/eager/def_function.py\", line 780, in __call__\n",
      "    result = self._call(*args, **kwds)\n",
      "  File \"/Users/luciedrevet/opt/anaconda3/lib/python3.8/site-packages/tensorflow/python/eager/def_function.py\", line 840, in _call\n",
      "    return self._stateless_fn(*args, **kwds)\n",
      "  File \"/Users/luciedrevet/opt/anaconda3/lib/python3.8/site-packages/tensorflow/python/eager/function.py\", line 2829, in __call__\n",
      "    return graph_function._filtered_call(args, kwargs)  # pylint: disable=protected-access\n",
      "  File \"/Users/luciedrevet/opt/anaconda3/lib/python3.8/site-packages/tensorflow/python/eager/function.py\", line 1843, in _filtered_call\n",
      "    return self._call_flat(\n",
      "  File \"/Users/luciedrevet/opt/anaconda3/lib/python3.8/site-packages/tensorflow/python/eager/function.py\", line 1923, in _call_flat\n",
      "    return self._build_call_outputs(self._inference_function.call(\n",
      "  File \"/Users/luciedrevet/opt/anaconda3/lib/python3.8/site-packages/tensorflow/python/eager/function.py\", line 545, in call\n",
      "    outputs = execute.execute(\n",
      "  File \"/Users/luciedrevet/opt/anaconda3/lib/python3.8/site-packages/tensorflow/python/eager/execute.py\", line 59, in quick_execute\n",
      "    tensors = pywrap_tfe.TFE_Py_Execute(ctx._handle, device_name, op_name,\n",
      "tensorflow.python.framework.errors_impl.InvalidArgumentError:  logits and labels must have the same first dimension, got logits shape [64,90] and labels shape [5760]\n",
      "\t [[node sparse_categorical_crossentropy/SparseSoftmaxCrossEntropyWithLogits/SparseSoftmaxCrossEntropyWithLogits (defined at /Users/luciedrevet/opt/anaconda3/lib/python3.8/site-packages/sklearn/model_selection/_validation.py:531) ]] [Op:__inference_train_function_38651684]\n",
      "\n",
      "Function call stack:\n",
      "train_function\n",
      "\n",
      "\n",
      "  warnings.warn(\"Estimator fit failed. The score on this train-test\"\n"
     ]
    },
    {
     "name": "stdout",
     "output_type": "stream",
     "text": [
      "Epoch 1/5\n"
     ]
    },
    {
     "name": "stderr",
     "output_type": "stream",
     "text": [
      "/Users/luciedrevet/opt/anaconda3/lib/python3.8/site-packages/sklearn/model_selection/_validation.py:548: FitFailedWarning: Estimator fit failed. The score on this train-test partition for these parameters will be set to nan. Details: \n",
      "Traceback (most recent call last):\n",
      "  File \"/Users/luciedrevet/opt/anaconda3/lib/python3.8/site-packages/sklearn/model_selection/_validation.py\", line 531, in _fit_and_score\n",
      "    estimator.fit(X_train, y_train, **fit_params)\n",
      "  File \"/Users/luciedrevet/opt/anaconda3/lib/python3.8/site-packages/tensorflow/python/keras/wrappers/scikit_learn.py\", line 223, in fit\n",
      "    return super(KerasClassifier, self).fit(x, y, **kwargs)\n",
      "  File \"/Users/luciedrevet/opt/anaconda3/lib/python3.8/site-packages/tensorflow/python/keras/wrappers/scikit_learn.py\", line 166, in fit\n",
      "    history = self.model.fit(x, y, **fit_args)\n",
      "  File \"/Users/luciedrevet/opt/anaconda3/lib/python3.8/site-packages/tensorflow/python/keras/engine/training.py\", line 108, in _method_wrapper\n",
      "    return method(self, *args, **kwargs)\n",
      "  File \"/Users/luciedrevet/opt/anaconda3/lib/python3.8/site-packages/tensorflow/python/keras/engine/training.py\", line 1098, in fit\n",
      "    tmp_logs = train_function(iterator)\n",
      "  File \"/Users/luciedrevet/opt/anaconda3/lib/python3.8/site-packages/tensorflow/python/eager/def_function.py\", line 780, in __call__\n",
      "    result = self._call(*args, **kwds)\n",
      "  File \"/Users/luciedrevet/opt/anaconda3/lib/python3.8/site-packages/tensorflow/python/eager/def_function.py\", line 840, in _call\n",
      "    return self._stateless_fn(*args, **kwds)\n",
      "  File \"/Users/luciedrevet/opt/anaconda3/lib/python3.8/site-packages/tensorflow/python/eager/function.py\", line 2829, in __call__\n",
      "    return graph_function._filtered_call(args, kwargs)  # pylint: disable=protected-access\n",
      "  File \"/Users/luciedrevet/opt/anaconda3/lib/python3.8/site-packages/tensorflow/python/eager/function.py\", line 1843, in _filtered_call\n",
      "    return self._call_flat(\n",
      "  File \"/Users/luciedrevet/opt/anaconda3/lib/python3.8/site-packages/tensorflow/python/eager/function.py\", line 1923, in _call_flat\n",
      "    return self._build_call_outputs(self._inference_function.call(\n",
      "  File \"/Users/luciedrevet/opt/anaconda3/lib/python3.8/site-packages/tensorflow/python/eager/function.py\", line 545, in call\n",
      "    outputs = execute.execute(\n",
      "  File \"/Users/luciedrevet/opt/anaconda3/lib/python3.8/site-packages/tensorflow/python/eager/execute.py\", line 59, in quick_execute\n",
      "    tensors = pywrap_tfe.TFE_Py_Execute(ctx._handle, device_name, op_name,\n",
      "tensorflow.python.framework.errors_impl.InvalidArgumentError:  logits and labels must have the same first dimension, got logits shape [64,90] and labels shape [5760]\n",
      "\t [[node sparse_categorical_crossentropy/SparseSoftmaxCrossEntropyWithLogits/SparseSoftmaxCrossEntropyWithLogits (defined at /Users/luciedrevet/opt/anaconda3/lib/python3.8/site-packages/sklearn/model_selection/_validation.py:531) ]] [Op:__inference_train_function_38652406]\n",
      "\n",
      "Function call stack:\n",
      "train_function\n",
      "\n",
      "\n",
      "  warnings.warn(\"Estimator fit failed. The score on this train-test\"\n"
     ]
    },
    {
     "name": "stdout",
     "output_type": "stream",
     "text": [
      "Epoch 1/5\n"
     ]
    },
    {
     "name": "stderr",
     "output_type": "stream",
     "text": [
      "/Users/luciedrevet/opt/anaconda3/lib/python3.8/site-packages/sklearn/model_selection/_validation.py:548: FitFailedWarning: Estimator fit failed. The score on this train-test partition for these parameters will be set to nan. Details: \n",
      "Traceback (most recent call last):\n",
      "  File \"/Users/luciedrevet/opt/anaconda3/lib/python3.8/site-packages/sklearn/model_selection/_validation.py\", line 531, in _fit_and_score\n",
      "    estimator.fit(X_train, y_train, **fit_params)\n",
      "  File \"/Users/luciedrevet/opt/anaconda3/lib/python3.8/site-packages/tensorflow/python/keras/wrappers/scikit_learn.py\", line 223, in fit\n",
      "    return super(KerasClassifier, self).fit(x, y, **kwargs)\n",
      "  File \"/Users/luciedrevet/opt/anaconda3/lib/python3.8/site-packages/tensorflow/python/keras/wrappers/scikit_learn.py\", line 166, in fit\n",
      "    history = self.model.fit(x, y, **fit_args)\n",
      "  File \"/Users/luciedrevet/opt/anaconda3/lib/python3.8/site-packages/tensorflow/python/keras/engine/training.py\", line 108, in _method_wrapper\n",
      "    return method(self, *args, **kwargs)\n",
      "  File \"/Users/luciedrevet/opt/anaconda3/lib/python3.8/site-packages/tensorflow/python/keras/engine/training.py\", line 1098, in fit\n",
      "    tmp_logs = train_function(iterator)\n",
      "  File \"/Users/luciedrevet/opt/anaconda3/lib/python3.8/site-packages/tensorflow/python/eager/def_function.py\", line 780, in __call__\n",
      "    result = self._call(*args, **kwds)\n",
      "  File \"/Users/luciedrevet/opt/anaconda3/lib/python3.8/site-packages/tensorflow/python/eager/def_function.py\", line 840, in _call\n",
      "    return self._stateless_fn(*args, **kwds)\n",
      "  File \"/Users/luciedrevet/opt/anaconda3/lib/python3.8/site-packages/tensorflow/python/eager/function.py\", line 2829, in __call__\n",
      "    return graph_function._filtered_call(args, kwargs)  # pylint: disable=protected-access\n",
      "  File \"/Users/luciedrevet/opt/anaconda3/lib/python3.8/site-packages/tensorflow/python/eager/function.py\", line 1843, in _filtered_call\n",
      "    return self._call_flat(\n",
      "  File \"/Users/luciedrevet/opt/anaconda3/lib/python3.8/site-packages/tensorflow/python/eager/function.py\", line 1923, in _call_flat\n",
      "    return self._build_call_outputs(self._inference_function.call(\n",
      "  File \"/Users/luciedrevet/opt/anaconda3/lib/python3.8/site-packages/tensorflow/python/eager/function.py\", line 545, in call\n",
      "    outputs = execute.execute(\n",
      "  File \"/Users/luciedrevet/opt/anaconda3/lib/python3.8/site-packages/tensorflow/python/eager/execute.py\", line 59, in quick_execute\n",
      "    tensors = pywrap_tfe.TFE_Py_Execute(ctx._handle, device_name, op_name,\n",
      "tensorflow.python.framework.errors_impl.InvalidArgumentError:  logits and labels must have the same first dimension, got logits shape [64,90] and labels shape [5760]\n",
      "\t [[node sparse_categorical_crossentropy/SparseSoftmaxCrossEntropyWithLogits/SparseSoftmaxCrossEntropyWithLogits (defined at /Users/luciedrevet/opt/anaconda3/lib/python3.8/site-packages/sklearn/model_selection/_validation.py:531) ]] [Op:__inference_train_function_38653128]\n",
      "\n",
      "Function call stack:\n",
      "train_function\n",
      "\n",
      "\n",
      "  warnings.warn(\"Estimator fit failed. The score on this train-test\"\n"
     ]
    },
    {
     "name": "stdout",
     "output_type": "stream",
     "text": [
      "Epoch 1/5\n"
     ]
    },
    {
     "name": "stderr",
     "output_type": "stream",
     "text": [
      "/Users/luciedrevet/opt/anaconda3/lib/python3.8/site-packages/sklearn/model_selection/_validation.py:548: FitFailedWarning: Estimator fit failed. The score on this train-test partition for these parameters will be set to nan. Details: \n",
      "Traceback (most recent call last):\n",
      "  File \"/Users/luciedrevet/opt/anaconda3/lib/python3.8/site-packages/sklearn/model_selection/_validation.py\", line 531, in _fit_and_score\n",
      "    estimator.fit(X_train, y_train, **fit_params)\n",
      "  File \"/Users/luciedrevet/opt/anaconda3/lib/python3.8/site-packages/tensorflow/python/keras/wrappers/scikit_learn.py\", line 223, in fit\n",
      "    return super(KerasClassifier, self).fit(x, y, **kwargs)\n",
      "  File \"/Users/luciedrevet/opt/anaconda3/lib/python3.8/site-packages/tensorflow/python/keras/wrappers/scikit_learn.py\", line 166, in fit\n",
      "    history = self.model.fit(x, y, **fit_args)\n",
      "  File \"/Users/luciedrevet/opt/anaconda3/lib/python3.8/site-packages/tensorflow/python/keras/engine/training.py\", line 108, in _method_wrapper\n",
      "    return method(self, *args, **kwargs)\n",
      "  File \"/Users/luciedrevet/opt/anaconda3/lib/python3.8/site-packages/tensorflow/python/keras/engine/training.py\", line 1098, in fit\n",
      "    tmp_logs = train_function(iterator)\n",
      "  File \"/Users/luciedrevet/opt/anaconda3/lib/python3.8/site-packages/tensorflow/python/eager/def_function.py\", line 780, in __call__\n",
      "    result = self._call(*args, **kwds)\n",
      "  File \"/Users/luciedrevet/opt/anaconda3/lib/python3.8/site-packages/tensorflow/python/eager/def_function.py\", line 840, in _call\n",
      "    return self._stateless_fn(*args, **kwds)\n",
      "  File \"/Users/luciedrevet/opt/anaconda3/lib/python3.8/site-packages/tensorflow/python/eager/function.py\", line 2829, in __call__\n",
      "    return graph_function._filtered_call(args, kwargs)  # pylint: disable=protected-access\n",
      "  File \"/Users/luciedrevet/opt/anaconda3/lib/python3.8/site-packages/tensorflow/python/eager/function.py\", line 1843, in _filtered_call\n",
      "    return self._call_flat(\n",
      "  File \"/Users/luciedrevet/opt/anaconda3/lib/python3.8/site-packages/tensorflow/python/eager/function.py\", line 1923, in _call_flat\n",
      "    return self._build_call_outputs(self._inference_function.call(\n",
      "  File \"/Users/luciedrevet/opt/anaconda3/lib/python3.8/site-packages/tensorflow/python/eager/function.py\", line 545, in call\n",
      "    outputs = execute.execute(\n",
      "  File \"/Users/luciedrevet/opt/anaconda3/lib/python3.8/site-packages/tensorflow/python/eager/execute.py\", line 59, in quick_execute\n",
      "    tensors = pywrap_tfe.TFE_Py_Execute(ctx._handle, device_name, op_name,\n",
      "tensorflow.python.framework.errors_impl.InvalidArgumentError:  logits and labels must have the same first dimension, got logits shape [64,90] and labels shape [5760]\n",
      "\t [[node sparse_categorical_crossentropy/SparseSoftmaxCrossEntropyWithLogits/SparseSoftmaxCrossEntropyWithLogits (defined at /Users/luciedrevet/opt/anaconda3/lib/python3.8/site-packages/sklearn/model_selection/_validation.py:531) ]] [Op:__inference_train_function_38653850]\n",
      "\n",
      "Function call stack:\n",
      "train_function\n",
      "\n",
      "\n",
      "  warnings.warn(\"Estimator fit failed. The score on this train-test\"\n"
     ]
    },
    {
     "name": "stdout",
     "output_type": "stream",
     "text": [
      "Epoch 1/5\n",
      "7246/7246 [==============================] - 6s 818us/step - loss: 0.0225 - accuracy: 0.5858\n",
      "Epoch 2/5\n",
      "7246/7246 [==============================] - 6s 837us/step - loss: 0.0192 - accuracy: 0.6082\n",
      "Epoch 3/5\n",
      "7246/7246 [==============================] - 6s 807us/step - loss: 0.0189 - accuracy: 0.6129\n",
      "Epoch 4/5\n",
      "7246/7246 [==============================] - 6s 805us/step - loss: 0.0187 - accuracy: 0.6163\n",
      "Epoch 5/5\n",
      "7246/7246 [==============================] - 6s 810us/step - loss: 0.0186 - accuracy: 0.6182\n",
      "Best: 0.620853 using {'loss': 'binary_crossentropy', 'optimizer': 'Adam'}\n"
     ]
    }
   ],
   "source": [
    "grid_result = grid.fit(X_traing, Y_traing )\n",
    "\n",
    "# summarize results\n",
    "print(\"Best: %f using %s\" % (grid_result.best_score_, grid_result.best_params_))"
   ]
  },
  {
   "cell_type": "code",
   "execution_count": 98,
   "metadata": {},
   "outputs": [],
   "source": [
    "def create_model2(activation='relu'):\n",
    "    model = Sequential()\n",
    "    model.add(Dense(90, input_shape=(90,), activation=activation))\n",
    "    model.add(Dense(110, activation=activation))\n",
    "    model.add(Dropout(0.2))\n",
    "    model.add(Dense(90, activation='sigmoid'))\n",
    "    model.compile(loss='binary_crossentropy', optimizer='Adam',metrics=[\"accuracy\"])\n",
    "    return model"
   ]
  },
  {
   "cell_type": "code",
   "execution_count": 99,
   "metadata": {},
   "outputs": [],
   "source": [
    "kears_estimator2 = KerasClassifier(build_fn=create_model2, verbose=1, epochs = 5, batch_size = 64)"
   ]
  },
  {
   "cell_type": "code",
   "execution_count": 100,
   "metadata": {},
   "outputs": [],
   "source": [
    "# Define the grid search parameters\n",
    "param_grid2 = dict(activation = ['softmax', 'softplus', 'softsign', 'relu', 'tanh', 'sigmoid', 'hard_sigmoid', 'linear'])"
   ]
  },
  {
   "cell_type": "code",
   "execution_count": 101,
   "metadata": {},
   "outputs": [],
   "source": [
    "grid2 = GridSearchCV(estimator=kears_estimator2,  \n",
    "                    param_grid=param_grid2,)"
   ]
  },
  {
   "cell_type": "code",
   "execution_count": 103,
   "metadata": {},
   "outputs": [
    {
     "name": "stdout",
     "output_type": "stream",
     "text": [
      "Epoch 1/5\n",
      "5797/5797 [==============================] - 5s 891us/step - loss: 0.1042 - accuracy: 0.5828\n",
      "Epoch 2/5\n",
      "5797/5797 [==============================] - 6s 957us/step - loss: 0.0236 - accuracy: 0.5836\n",
      "Epoch 3/5\n",
      "5797/5797 [==============================] - 5s 903us/step - loss: 0.0219 - accuracy: 0.5836\n",
      "Epoch 4/5\n",
      "5797/5797 [==============================] - 5s 944us/step - loss: 0.0218 - accuracy: 0.5836\n",
      "Epoch 5/5\n",
      "5797/5797 [==============================] - 5s 921us/step - loss: 0.0217 - accuracy: 0.5836\n",
      "1450/1450 [==============================] - 1s 509us/step - loss: 0.0219 - accuracy: 0.5674\n",
      "Epoch 1/5\n",
      "5797/5797 [==============================] - 5s 878us/step - loss: 0.1047 - accuracy: 0.5783\n",
      "Epoch 2/5\n",
      "5797/5797 [==============================] - 5s 876us/step - loss: 0.0236 - accuracy: 0.5792\n",
      "Epoch 3/5\n",
      "5797/5797 [==============================] - 5s 877us/step - loss: 0.0220 - accuracy: 0.5792\n",
      "Epoch 4/5\n",
      "5797/5797 [==============================] - 5s 884us/step - loss: 0.0219 - accuracy: 0.5792\n",
      "Epoch 5/5\n",
      "5797/5797 [==============================] - 6s 949us/step - loss: 0.0218 - accuracy: 0.5792\n",
      "1450/1450 [==============================] - 1s 521us/step - loss: 0.0216 - accuracy: 0.5851\n",
      "Epoch 1/5\n",
      "5797/5797 [==============================] - 5s 889us/step - loss: 0.1048 - accuracy: 0.5773\n",
      "Epoch 2/5\n",
      "5797/5797 [==============================] - 5s 906us/step - loss: 0.0236 - accuracy: 0.5776\n",
      "Epoch 3/5\n",
      "5797/5797 [==============================] - 6s 959us/step - loss: 0.0220 - accuracy: 0.5776\n",
      "Epoch 4/5\n",
      "5797/5797 [==============================] - 6s 974us/step - loss: 0.0218 - accuracy: 0.5776\n",
      "Epoch 5/5\n",
      "5797/5797 [==============================] - 6s 1ms/step - loss: 0.0218 - accuracy: 0.5776\n",
      "1450/1450 [==============================] - 1s 721us/step - loss: 0.0216 - accuracy: 0.5913\n",
      "Epoch 1/5\n",
      "5797/5797 [==============================] - 5s 903us/step - loss: 0.1050 - accuracy: 0.5781\n",
      "Epoch 2/5\n",
      "5797/5797 [==============================] - 5s 945us/step - loss: 0.0236 - accuracy: 0.5791\n",
      "Epoch 3/5\n",
      "5797/5797 [==============================] - 6s 1ms/step - loss: 0.0220 - accuracy: 0.5791\n",
      "Epoch 4/5\n",
      "5797/5797 [==============================] - 6s 1ms/step - loss: 0.0218 - accuracy: 0.5791\n",
      "Epoch 5/5\n",
      "5797/5797 [==============================] - 6s 1ms/step - loss: 0.0218 - accuracy: 0.5791\n",
      "1450/1450 [==============================] - 1s 600us/step - loss: 0.0216 - accuracy: 0.5852\n",
      "Epoch 1/5\n",
      "5797/5797 [==============================] - 5s 915us/step - loss: 0.1051 - accuracy: 0.5812\n",
      "Epoch 2/5\n",
      "5797/5797 [==============================] - 6s 972us/step - loss: 0.0235 - accuracy: 0.5822\n",
      "Epoch 3/5\n",
      "5797/5797 [==============================] - 6s 981us/step - loss: 0.0219 - accuracy: 0.5822\n",
      "Epoch 4/5\n",
      "5797/5797 [==============================] - 6s 1ms/step - loss: 0.0217 - accuracy: 0.5822\n",
      "Epoch 5/5\n",
      "5797/5797 [==============================] - 5s 947us/step - loss: 0.0217 - accuracy: 0.5822\n",
      "1450/1450 [==============================] - 1s 501us/step - loss: 0.0220 - accuracy: 0.5728\n",
      "Epoch 1/5\n",
      "5797/5797 [==============================] - 5s 921us/step - loss: 0.0233 - accuracy: 0.5810\n",
      "Epoch 2/5\n",
      "5797/5797 [==============================] - 5s 917us/step - loss: 0.0199 - accuracy: 0.5975\n",
      "Epoch 3/5\n",
      "5797/5797 [==============================] - 6s 977us/step - loss: 0.0194 - accuracy: 0.6039\n",
      "Epoch 4/5\n",
      "5797/5797 [==============================] - 6s 1ms/step - loss: 0.0192 - accuracy: 0.6081\n",
      "Epoch 5/5\n",
      "5797/5797 [==============================] - 5s 946us/step - loss: 0.0191 - accuracy: 0.6090\n",
      "1450/1450 [==============================] - 1s 570us/step - loss: 0.0194 - accuracy: 0.5931\n",
      "Epoch 1/5\n",
      "5797/5797 [==============================] - 5s 908us/step - loss: 0.0231 - accuracy: 0.5765\n",
      "Epoch 2/5\n",
      "5797/5797 [==============================] - 5s 917us/step - loss: 0.0200 - accuracy: 0.5926\n",
      "Epoch 3/5\n",
      "5797/5797 [==============================] - 5s 927us/step - loss: 0.0196 - accuracy: 0.5991\n",
      "Epoch 4/5\n",
      "5797/5797 [==============================] - 6s 1ms/step - loss: 0.0193 - accuracy: 0.6043\n",
      "Epoch 5/5\n",
      "5797/5797 [==============================] - 6s 1ms/step - loss: 0.0192 - accuracy: 0.6063\n",
      "1450/1450 [==============================] - 1s 549us/step - loss: 0.0188 - accuracy: 0.6106\n",
      "Epoch 1/5\n",
      "5797/5797 [==============================] - 5s 925us/step - loss: 0.0232 - accuracy: 0.5755\n",
      "Epoch 2/5\n",
      "5797/5797 [==============================] - 5s 929us/step - loss: 0.0200 - accuracy: 0.5924\n",
      "Epoch 3/5\n",
      "5797/5797 [==============================] - 6s 950us/step - loss: 0.0195 - accuracy: 0.5998\n",
      "Epoch 4/5\n",
      "5797/5797 [==============================] - 6s 963us/step - loss: 0.0193 - accuracy: 0.6036\n",
      "Epoch 5/5\n",
      "5797/5797 [==============================] - 5s 940us/step - loss: 0.0192 - accuracy: 0.6054\n",
      "1450/1450 [==============================] - 1s 534us/step - loss: 0.0187 - accuracy: 0.6188\n",
      "Epoch 1/5\n",
      "5797/5797 [==============================] - 5s 896us/step - loss: 0.0233 - accuracy: 0.5764\n",
      "Epoch 2/5\n",
      "5797/5797 [==============================] - 5s 912us/step - loss: 0.0200 - accuracy: 0.5933\n",
      "Epoch 3/5\n",
      "5797/5797 [==============================] - 5s 938us/step - loss: 0.0195 - accuracy: 0.6009\n",
      "Epoch 4/5\n",
      "5797/5797 [==============================] - 5s 948us/step - loss: 0.0193 - accuracy: 0.6041\n",
      "Epoch 5/5\n",
      "5797/5797 [==============================] - 5s 929us/step - loss: 0.0192 - accuracy: 0.6061\n",
      "1450/1450 [==============================] - 1s 535us/step - loss: 0.0190 - accuracy: 0.6078\n",
      "Epoch 1/5\n",
      "5797/5797 [==============================] - 5s 895us/step - loss: 0.0230 - accuracy: 0.5785\n",
      "Epoch 2/5\n",
      "5797/5797 [==============================] - 5s 908us/step - loss: 0.0199 - accuracy: 0.5948\n",
      "Epoch 3/5\n",
      "5797/5797 [==============================] - 6s 966us/step - loss: 0.0195 - accuracy: 0.6019\n",
      "Epoch 4/5\n",
      "5797/5797 [==============================] - 6s 990us/step - loss: 0.0193 - accuracy: 0.6067\n",
      "Epoch 5/5\n",
      "5797/5797 [==============================] - 6s 958us/step - loss: 0.0192 - accuracy: 0.6078\n",
      "1450/1450 [==============================] - 1s 587us/step - loss: 0.0191 - accuracy: 0.6049\n",
      "Epoch 1/5\n",
      "5797/5797 [==============================] - 5s 849us/step - loss: 0.0244 - accuracy: 0.5817\n",
      "Epoch 2/5\n",
      "5797/5797 [==============================] - 5s 886us/step - loss: 0.0207 - accuracy: 0.5897\n",
      "Epoch 3/5\n",
      "5797/5797 [==============================] - 5s 928us/step - loss: 0.0192 - accuracy: 0.6056\n",
      "Epoch 4/5\n",
      "5797/5797 [==============================] - 5s 903us/step - loss: 0.0189 - accuracy: 0.6113\n",
      "Epoch 5/5\n",
      "5797/5797 [==============================] - 5s 871us/step - loss: 0.0188 - accuracy: 0.6138\n",
      "1450/1450 [==============================] - 1s 502us/step - loss: 0.0191 - accuracy: 0.6035\n",
      "Epoch 1/5\n",
      "5797/5797 [==============================] - 5s 828us/step - loss: 0.0247 - accuracy: 0.5771\n",
      "Epoch 2/5\n",
      "5797/5797 [==============================] - 5s 858us/step - loss: 0.0207 - accuracy: 0.5855\n",
      "Epoch 3/5\n",
      "5797/5797 [==============================] - 6s 982us/step - loss: 0.0193 - accuracy: 0.6036\n",
      "Epoch 4/5\n",
      "5797/5797 [==============================] - 5s 918us/step - loss: 0.0191 - accuracy: 0.6078\n",
      "Epoch 5/5\n",
      "5797/5797 [==============================] - 6s 956us/step - loss: 0.0189 - accuracy: 0.6106\n",
      "1450/1450 [==============================] - 1s 758us/step - loss: 0.0187 - accuracy: 0.6111\n",
      "Epoch 1/5\n",
      "5797/5797 [==============================] - 6s 1ms/step - loss: 0.0245 - accuracy: 0.5762\n",
      "Epoch 2/5\n",
      "5797/5797 [==============================] - 7s 1ms/step - loss: 0.0207 - accuracy: 0.5842\n",
      "Epoch 3/5\n",
      "5797/5797 [==============================] - 5s 904us/step - loss: 0.0193 - accuracy: 0.6022\n",
      "Epoch 4/5\n",
      "5797/5797 [==============================] - 5s 893us/step - loss: 0.0190 - accuracy: 0.6065\n",
      "Epoch 5/5\n",
      "5797/5797 [==============================] - 5s 908us/step - loss: 0.0189 - accuracy: 0.6096\n",
      "1450/1450 [==============================] - 1s 520us/step - loss: 0.0186 - accuracy: 0.6239\n",
      "Epoch 1/5\n",
      "5797/5797 [==============================] - 5s 920us/step - loss: 0.0247 - accuracy: 0.5772\n",
      "Epoch 2/5\n",
      "5797/5797 [==============================] - 5s 911us/step - loss: 0.0208 - accuracy: 0.5856\n",
      "Epoch 3/5\n",
      "5797/5797 [==============================] - 5s 945us/step - loss: 0.0193 - accuracy: 0.6033\n"
     ]
    },
    {
     "name": "stdout",
     "output_type": "stream",
     "text": [
      "Epoch 4/5\n",
      "5797/5797 [==============================] - 5s 935us/step - loss: 0.0190 - accuracy: 0.6072\n",
      "Epoch 5/5\n",
      "5797/5797 [==============================] - 6s 986us/step - loss: 0.0189 - accuracy: 0.6100\n",
      "1450/1450 [==============================] - 1s 683us/step - loss: 0.0187 - accuracy: 0.6110\n",
      "Epoch 1/5\n",
      "5797/5797 [==============================] - 7s 1ms/step - loss: 0.0244 - accuracy: 0.5811\n",
      "Epoch 2/5\n",
      "5797/5797 [==============================] - 6s 1ms/step - loss: 0.0208 - accuracy: 0.5868\n",
      "Epoch 3/5\n",
      "5797/5797 [==============================] - 6s 1ms/step - loss: 0.0193 - accuracy: 0.6048\n",
      "Epoch 4/5\n",
      "5797/5797 [==============================] - 6s 1ms/step - loss: 0.0190 - accuracy: 0.6101\n",
      "Epoch 5/5\n",
      "5797/5797 [==============================] - 6s 1ms/step - loss: 0.0188 - accuracy: 0.6117\n",
      "1450/1450 [==============================] - 1s 608us/step - loss: 0.0187 - accuracy: 0.6172\n",
      "Epoch 1/5\n",
      "5797/5797 [==============================] - 6s 1ms/step - loss: 0.0236 - accuracy: 0.5808\n",
      "Epoch 2/5\n",
      "5797/5797 [==============================] - 6s 1ms/step - loss: 0.0195 - accuracy: 0.6041\n",
      "Epoch 3/5\n",
      "5797/5797 [==============================] - 6s 992us/step - loss: 0.0190 - accuracy: 0.6110\n",
      "Epoch 4/5\n",
      "5797/5797 [==============================] - 6s 1000us/step - loss: 0.0188 - accuracy: 0.6138\n",
      "Epoch 5/5\n",
      "5797/5797 [==============================] - 6s 1ms/step - loss: 0.0187 - accuracy: 0.6166\n",
      "1450/1450 [==============================] - 1s 567us/step - loss: 0.0188 - accuracy: 0.6073\n",
      "Epoch 1/5\n",
      "5797/5797 [==============================] - 6s 967us/step - loss: 0.0239 - accuracy: 0.5761\n",
      "Epoch 2/5\n",
      "5797/5797 [==============================] - 6s 997us/step - loss: 0.0196 - accuracy: 0.5995\n",
      "Epoch 3/5\n",
      "5797/5797 [==============================] - 6s 978us/step - loss: 0.0191 - accuracy: 0.6086\n",
      "Epoch 4/5\n",
      "5797/5797 [==============================] - 5s 909us/step - loss: 0.0189 - accuracy: 0.6123\n",
      "Epoch 5/5\n",
      "5797/5797 [==============================] - 5s 908us/step - loss: 0.0188 - accuracy: 0.6147\n",
      "1450/1450 [==============================] - 1s 528us/step - loss: 0.0183 - accuracy: 0.6235\n",
      "Epoch 1/5\n",
      "5797/5797 [==============================] - 5s 914us/step - loss: 0.0241 - accuracy: 0.5732\n",
      "Epoch 2/5\n",
      "5797/5797 [==============================] - 5s 898us/step - loss: 0.0197 - accuracy: 0.5968\n",
      "Epoch 3/5\n",
      "5797/5797 [==============================] - 5s 906us/step - loss: 0.0192 - accuracy: 0.6076\n",
      "Epoch 4/5\n",
      "5797/5797 [==============================] - 5s 938us/step - loss: 0.0189 - accuracy: 0.6104\n",
      "Epoch 5/5\n",
      "5797/5797 [==============================] - 6s 982us/step - loss: 0.0188 - accuracy: 0.6132\n",
      "1450/1450 [==============================] - 1s 592us/step - loss: 0.0182 - accuracy: 0.6220\n",
      "Epoch 1/5\n",
      "5797/5797 [==============================] - 5s 945us/step - loss: 0.0240 - accuracy: 0.5752\n",
      "Epoch 2/5\n",
      "5797/5797 [==============================] - 6s 973us/step - loss: 0.0197 - accuracy: 0.5968\n",
      "Epoch 3/5\n",
      "5797/5797 [==============================] - 6s 996us/step - loss: 0.0192 - accuracy: 0.6069\n",
      "Epoch 4/5\n",
      "5797/5797 [==============================] - 6s 977us/step - loss: 0.0189 - accuracy: 0.6109\n",
      "Epoch 5/5\n",
      "5797/5797 [==============================] - 6s 995us/step - loss: 0.0188 - accuracy: 0.6140\n",
      "1450/1450 [==============================] - 1s 603us/step - loss: 0.0185 - accuracy: 0.6221\n",
      "Epoch 1/5\n",
      "5797/5797 [==============================] - 6s 961us/step - loss: 0.0234 - accuracy: 0.5818\n",
      "Epoch 2/5\n",
      "5797/5797 [==============================] - 6s 990us/step - loss: 0.0195 - accuracy: 0.6035\n",
      "Epoch 3/5\n",
      "5797/5797 [==============================] - 5s 930us/step - loss: 0.0191 - accuracy: 0.6103\n",
      "Epoch 4/5\n",
      "5797/5797 [==============================] - 5s 930us/step - loss: 0.0188 - accuracy: 0.6133\n",
      "Epoch 5/5\n",
      "5797/5797 [==============================] - 5s 944us/step - loss: 0.0187 - accuracy: 0.6152\n",
      "1450/1450 [==============================] - 1s 582us/step - loss: 0.0185 - accuracy: 0.6142\n",
      "Epoch 1/5\n",
      "5797/5797 [==============================] - 6s 968us/step - loss: 0.0237 - accuracy: 0.5832\n",
      "Epoch 2/5\n",
      "5797/5797 [==============================] - 5s 937us/step - loss: 0.0196 - accuracy: 0.6009\n",
      "Epoch 3/5\n",
      "5797/5797 [==============================] - 6s 1ms/step - loss: 0.0191 - accuracy: 0.6090\n",
      "Epoch 4/5\n",
      "5797/5797 [==============================] - 6s 1ms/step - loss: 0.0189 - accuracy: 0.6124\n",
      "Epoch 5/5\n",
      "5797/5797 [==============================] - 6s 1ms/step - loss: 0.0188 - accuracy: 0.6148\n",
      "1450/1450 [==============================] - 1s 575us/step - loss: 0.0190 - accuracy: 0.6133\n",
      "Epoch 1/5\n",
      "5797/5797 [==============================] - 6s 994us/step - loss: 0.0241 - accuracy: 0.5772\n",
      "Epoch 2/5\n",
      "5797/5797 [==============================] - 6s 987us/step - loss: 0.0197 - accuracy: 0.5958\n",
      "Epoch 3/5\n",
      "5797/5797 [==============================] - 6s 972us/step - loss: 0.0192 - accuracy: 0.6056\n",
      "Epoch 4/5\n",
      "5797/5797 [==============================] - 6s 987us/step - loss: 0.0190 - accuracy: 0.6094\n",
      "Epoch 5/5\n",
      "5797/5797 [==============================] - 6s 987us/step - loss: 0.0188 - accuracy: 0.6114\n",
      "1450/1450 [==============================] - 1s 594us/step - loss: 0.0185 - accuracy: 0.6231\n",
      "Epoch 1/5\n",
      "5797/5797 [==============================] - 6s 966us/step - loss: 0.0238 - accuracy: 0.5761\n",
      "Epoch 2/5\n",
      "5797/5797 [==============================] - 6s 980us/step - loss: 0.0197 - accuracy: 0.5955\n",
      "Epoch 3/5\n",
      "5797/5797 [==============================] - 5s 940us/step - loss: 0.0192 - accuracy: 0.6042\n",
      "Epoch 4/5\n",
      "5797/5797 [==============================] - 5s 941us/step - loss: 0.0190 - accuracy: 0.6068\n",
      "Epoch 5/5\n",
      "5797/5797 [==============================] - 5s 939us/step - loss: 0.0189 - accuracy: 0.6101\n",
      "1450/1450 [==============================] - 1s 539us/step - loss: 0.0182 - accuracy: 0.6227\n",
      "Epoch 1/5\n",
      "5797/5797 [==============================] - 5s 937us/step - loss: 0.0233 - accuracy: 0.5803\n",
      "Epoch 2/5\n",
      "5797/5797 [==============================] - 6s 972us/step - loss: 0.0197 - accuracy: 0.5969\n",
      "Epoch 3/5\n",
      "5797/5797 [==============================] - 6s 1ms/step - loss: 0.0192 - accuracy: 0.6040\n",
      "Epoch 4/5\n",
      "5797/5797 [==============================] - 7s 1ms/step - loss: 0.0190 - accuracy: 0.6079\n",
      "Epoch 5/5\n",
      "5797/5797 [==============================] - 6s 1ms/step - loss: 0.0189 - accuracy: 0.6102\n",
      "1450/1450 [==============================] - 1s 615us/step - loss: 0.0187 - accuracy: 0.6241\n",
      "Epoch 1/5\n",
      "5797/5797 [==============================] - 6s 1ms/step - loss: 0.0235 - accuracy: 0.5820\n",
      "Epoch 2/5\n",
      "5797/5797 [==============================] - 6s 1ms/step - loss: 0.0196 - accuracy: 0.5997\n",
      "Epoch 3/5\n",
      "5797/5797 [==============================] - 6s 1ms/step - loss: 0.0191 - accuracy: 0.6067\n",
      "Epoch 4/5\n",
      "5797/5797 [==============================] - 6s 1ms/step - loss: 0.0190 - accuracy: 0.6102\n",
      "Epoch 5/5\n",
      "5797/5797 [==============================] - 6s 1ms/step - loss: 0.0188 - accuracy: 0.6122\n",
      "1450/1450 [==============================] - 1s 609us/step - loss: 0.0187 - accuracy: 0.6128\n",
      "Epoch 1/5\n",
      "5797/5797 [==============================] - 7s 1ms/step - loss: 0.0246 - accuracy: 0.5816\n",
      "Epoch 2/5\n",
      "5797/5797 [==============================] - 7s 1ms/step - loss: 0.0214 - accuracy: 0.5844\n",
      "Epoch 3/5\n",
      "5797/5797 [==============================] - 7s 1ms/step - loss: 0.0198 - accuracy: 0.5956\n",
      "Epoch 4/5\n",
      "5797/5797 [==============================] - 7s 1ms/step - loss: 0.0195 - accuracy: 0.6007\n",
      "Epoch 5/5\n",
      "5797/5797 [==============================] - 7s 1ms/step - loss: 0.0193 - accuracy: 0.6034\n",
      "1450/1450 [==============================] - 1s 634us/step - loss: 0.0196 - accuracy: 0.6003\n",
      "Epoch 1/5\n",
      "5797/5797 [==============================] - 6s 1ms/step - loss: 0.0246 - accuracy: 0.5772\n",
      "Epoch 2/5\n",
      "5797/5797 [==============================] - 6s 1ms/step - loss: 0.0215 - accuracy: 0.5796\n",
      "Epoch 3/5\n",
      "5797/5797 [==============================] - 6s 1ms/step - loss: 0.0200 - accuracy: 0.5907\n",
      "Epoch 4/5\n",
      "5797/5797 [==============================] - 6s 1ms/step - loss: 0.0196 - accuracy: 0.5969\n",
      "Epoch 5/5\n",
      "5797/5797 [==============================] - 6s 1ms/step - loss: 0.0195 - accuracy: 0.5990\n",
      "1450/1450 [==============================] - 1s 561us/step - loss: 0.0190 - accuracy: 0.6075\n",
      "Epoch 1/5\n",
      "5797/5797 [==============================] - 6s 998us/step - loss: 0.0244 - accuracy: 0.5753\n",
      "Epoch 2/5\n",
      "5797/5797 [==============================] - 6s 1ms/step - loss: 0.0216 - accuracy: 0.5779\n",
      "Epoch 3/5\n",
      "5797/5797 [==============================] - 6s 1ms/step - loss: 0.0199 - accuracy: 0.5901\n",
      "Epoch 4/5\n",
      "5797/5797 [==============================] - 6s 1ms/step - loss: 0.0196 - accuracy: 0.5972\n",
      "Epoch 5/5\n",
      "5797/5797 [==============================] - 6s 1ms/step - loss: 0.0194 - accuracy: 0.6005\n",
      "1450/1450 [==============================] - 1s 692us/step - loss: 0.0192 - accuracy: 0.6051\n",
      "Epoch 1/5\n",
      "5797/5797 [==============================] - 6s 1ms/step - loss: 0.0246 - accuracy: 0.5771\n",
      "Epoch 2/5\n",
      "5797/5797 [==============================] - 6s 1ms/step - loss: 0.0213 - accuracy: 0.5803\n",
      "Epoch 3/5\n",
      "5797/5797 [==============================] - 6s 1ms/step - loss: 0.0198 - accuracy: 0.5924\n",
      "Epoch 4/5\n",
      "5797/5797 [==============================] - 7s 1ms/step - loss: 0.0196 - accuracy: 0.5973\n",
      "Epoch 5/5\n",
      "5797/5797 [==============================] - 6s 1ms/step - loss: 0.0194 - accuracy: 0.6013\n",
      "1450/1450 [==============================] - 1s 638us/step - loss: 0.0190 - accuracy: 0.6066\n",
      "Epoch 1/5\n",
      "5797/5797 [==============================] - 6s 1ms/step - loss: 0.0245 - accuracy: 0.5802\n",
      "Epoch 2/5\n",
      "5797/5797 [==============================] - 6s 977us/step - loss: 0.0212 - accuracy: 0.5830\n",
      "Epoch 3/5\n",
      "5797/5797 [==============================] - 6s 954us/step - loss: 0.0198 - accuracy: 0.5943\n",
      "Epoch 4/5\n",
      "5797/5797 [==============================] - 6s 954us/step - loss: 0.0195 - accuracy: 0.6000\n",
      "Epoch 5/5\n",
      "5797/5797 [==============================] - 6s 970us/step - loss: 0.0194 - accuracy: 0.6017\n",
      "1450/1450 [==============================] - 1s 533us/step - loss: 0.0194 - accuracy: 0.5933\n",
      "Epoch 1/5\n",
      "5797/5797 [==============================] - 6s 964us/step - loss: 0.0245 - accuracy: 0.5817\n",
      "Epoch 2/5\n",
      "5797/5797 [==============================] - 6s 963us/step - loss: 0.0213 - accuracy: 0.5839\n",
      "Epoch 3/5\n",
      "5797/5797 [==============================] - 6s 973us/step - loss: 0.0196 - accuracy: 0.5970\n",
      "Epoch 4/5\n",
      "5797/5797 [==============================] - 6s 1ms/step - loss: 0.0193 - accuracy: 0.6063\n",
      "Epoch 5/5\n",
      "5797/5797 [==============================] - 7s 1ms/step - loss: 0.0191 - accuracy: 0.6119\n",
      "1450/1450 [==============================] - 1s 686us/step - loss: 0.0194 - accuracy: 0.6006\n",
      "Epoch 1/5\n",
      "5797/5797 [==============================] - 7s 1ms/step - loss: 0.0243 - accuracy: 0.5765\n",
      "Epoch 2/5\n",
      "5797/5797 [==============================] - 7s 1ms/step - loss: 0.0219 - accuracy: 0.5792\n",
      "Epoch 3/5\n",
      "5797/5797 [==============================] - 8s 1ms/step - loss: 0.0205 - accuracy: 0.5857\n",
      "Epoch 4/5\n",
      "5797/5797 [==============================] - 7s 1ms/step - loss: 0.0195 - accuracy: 0.5997\n",
      "Epoch 5/5\n",
      "5797/5797 [==============================] - 7s 1ms/step - loss: 0.0193 - accuracy: 0.6060\n",
      "1450/1450 [==============================] - 1s 780us/step - loss: 0.0188 - accuracy: 0.6142\n",
      "Epoch 1/5\n",
      "5797/5797 [==============================] - 7s 1ms/step - loss: 0.0245 - accuracy: 0.5757\n",
      "Epoch 2/5\n",
      "5797/5797 [==============================] - 7s 1ms/step - loss: 0.0211 - accuracy: 0.5802\n",
      "Epoch 3/5\n",
      "5797/5797 [==============================] - 7s 1ms/step - loss: 0.0196 - accuracy: 0.5963\n",
      "Epoch 4/5\n",
      "5797/5797 [==============================] - 7s 1ms/step - loss: 0.0193 - accuracy: 0.6056\n",
      "Epoch 5/5\n",
      "5797/5797 [==============================] - 7s 1ms/step - loss: 0.0191 - accuracy: 0.6086\n",
      "1450/1450 [==============================] - 1s 590us/step - loss: 0.0189 - accuracy: 0.6176\n",
      "Epoch 1/5\n",
      "5797/5797 [==============================] - 6s 1ms/step - loss: 0.0250 - accuracy: 0.5769\n",
      "Epoch 2/5\n",
      "5797/5797 [==============================] - 6s 1ms/step - loss: 0.0218 - accuracy: 0.5791\n",
      "Epoch 3/5\n",
      "5797/5797 [==============================] - 7s 1ms/step - loss: 0.0200 - accuracy: 0.5881\n",
      "Epoch 4/5\n",
      "5797/5797 [==============================] - 7s 1ms/step - loss: 0.0195 - accuracy: 0.6003\n",
      "Epoch 5/5\n",
      "5797/5797 [==============================] - 7s 1ms/step - loss: 0.0192 - accuracy: 0.6074\n",
      "1450/1450 [==============================] - 1s 620us/step - loss: 0.0188 - accuracy: 0.6179\n",
      "Epoch 1/5\n",
      "5797/5797 [==============================] - 7s 1ms/step - loss: 0.0246 - accuracy: 0.5804\n",
      "Epoch 2/5\n",
      "5797/5797 [==============================] - 7s 1ms/step - loss: 0.0206 - accuracy: 0.5865\n",
      "Epoch 3/5\n",
      "5797/5797 [==============================] - 7s 1ms/step - loss: 0.0195 - accuracy: 0.6012\n",
      "Epoch 4/5\n",
      "5797/5797 [==============================] - 7s 1ms/step - loss: 0.0192 - accuracy: 0.6092\n",
      "Epoch 5/5\n",
      "5797/5797 [==============================] - 7s 1ms/step - loss: 0.0190 - accuracy: 0.6121\n",
      "1450/1450 [==============================] - 1s 635us/step - loss: 0.0191 - accuracy: 0.6103\n",
      "Epoch 1/5\n",
      "5797/5797 [==============================] - 6s 1ms/step - loss: 0.0221 - accuracy: 0.5876\n",
      "Epoch 2/5\n",
      "5797/5797 [==============================] - 6s 983us/step - loss: 0.0197 - accuracy: 0.6021\n",
      "Epoch 3/5\n",
      "5797/5797 [==============================] - 6s 1ms/step - loss: 0.0195 - accuracy: 0.6030\n",
      "Epoch 4/5\n",
      "5797/5797 [==============================] - 6s 1ms/step - loss: 0.0194 - accuracy: 0.6046\n",
      "Epoch 5/5\n",
      "5797/5797 [==============================] - 6s 1ms/step - loss: 0.0194 - accuracy: 0.6055\n",
      "1450/1450 [==============================] - 1s 618us/step - loss: 0.0197 - accuracy: 0.6026\n",
      "Epoch 1/5\n",
      "5797/5797 [==============================] - 6s 1ms/step - loss: 0.0223 - accuracy: 0.5839\n",
      "Epoch 2/5\n",
      "5797/5797 [==============================] - 6s 1ms/step - loss: 0.0198 - accuracy: 0.5975\n",
      "Epoch 3/5\n",
      "5797/5797 [==============================] - 6s 1ms/step - loss: 0.0196 - accuracy: 0.5998\n",
      "Epoch 4/5\n",
      "5797/5797 [==============================] - 6s 1ms/step - loss: 0.0195 - accuracy: 0.6011\n",
      "Epoch 5/5\n",
      "5797/5797 [==============================] - 6s 1ms/step - loss: 0.0195 - accuracy: 0.6020\n",
      "1450/1450 [==============================] - 1s 677us/step - loss: 0.0192 - accuracy: 0.6088\n",
      "Epoch 1/5\n",
      "5797/5797 [==============================] - 6s 1ms/step - loss: 0.0222 - accuracy: 0.5828\n",
      "Epoch 2/5\n",
      "5797/5797 [==============================] - 7s 1ms/step - loss: 0.0198 - accuracy: 0.5978\n",
      "Epoch 3/5\n",
      "5797/5797 [==============================] - 7s 1ms/step - loss: 0.0196 - accuracy: 0.5989\n",
      "Epoch 4/5\n",
      "5797/5797 [==============================] - 7s 1ms/step - loss: 0.0195 - accuracy: 0.6004\n",
      "Epoch 5/5\n",
      "5797/5797 [==============================] - 6s 1ms/step - loss: 0.0195 - accuracy: 0.6012\n",
      "1450/1450 [==============================] - 1s 685us/step - loss: 0.0192 - accuracy: 0.6143\n",
      "Epoch 1/5\n",
      "5797/5797 [==============================] - 7s 1ms/step - loss: 0.0222 - accuracy: 0.5839\n",
      "Epoch 2/5\n",
      "5797/5797 [==============================] - 6s 1ms/step - loss: 0.0198 - accuracy: 0.5976\n",
      "Epoch 3/5\n",
      "5797/5797 [==============================] - 6s 1ms/step - loss: 0.0196 - accuracy: 0.5999\n",
      "Epoch 4/5\n",
      "5797/5797 [==============================] - 6s 1ms/step - loss: 0.0195 - accuracy: 0.6015\n",
      "Epoch 5/5\n",
      "5797/5797 [==============================] - 6s 1ms/step - loss: 0.0195 - accuracy: 0.6015\n",
      "1450/1450 [==============================] - 1s 621us/step - loss: 0.0192 - accuracy: 0.6088\n",
      "Epoch 1/5\n",
      "5797/5797 [==============================] - 6s 1ms/step - loss: 0.0223 - accuracy: 0.5857\n",
      "Epoch 2/5\n",
      "5797/5797 [==============================] - 6s 1ms/step - loss: 0.0197 - accuracy: 0.5999\n",
      "Epoch 3/5\n",
      "5797/5797 [==============================] - 6s 1ms/step - loss: 0.0196 - accuracy: 0.6016\n",
      "Epoch 4/5\n",
      "5797/5797 [==============================] - 6s 1ms/step - loss: 0.0195 - accuracy: 0.6030\n",
      "Epoch 5/5\n",
      "5797/5797 [==============================] - 7s 1ms/step - loss: 0.0194 - accuracy: 0.6030\n",
      "1450/1450 [==============================] - 1s 599us/step - loss: 0.0199 - accuracy: 0.6076\n",
      "Epoch 1/5\n",
      "7246/7246 [==============================] - 8s 1ms/step - loss: 0.0230 - accuracy: 0.5811\n",
      "Epoch 2/5\n",
      "7246/7246 [==============================] - 8s 1ms/step - loss: 0.0194 - accuracy: 0.6008\n",
      "Epoch 3/5\n",
      "7246/7246 [==============================] - 8s 1ms/step - loss: 0.0190 - accuracy: 0.6075\n",
      "Epoch 4/5\n",
      "7246/7246 [==============================] - 8s 1ms/step - loss: 0.0189 - accuracy: 0.6109\n",
      "Epoch 5/5\n"
     ]
    },
    {
     "name": "stdout",
     "output_type": "stream",
     "text": [
      "7246/7246 [==============================] - 7s 1ms/step - loss: 0.0188 - accuracy: 0.6130\n",
      "Best: 0.619212 using {'activation': 'tanh'}\n"
     ]
    }
   ],
   "source": [
    "grid_result2 = grid2.fit(X_traing, Y_traing )\n",
    "\n",
    "# summarize results\n",
    "print(\"Best: %f using %s\" % (grid_result2.best_score_, grid_result2.best_params_))"
   ]
  },
  {
   "cell_type": "raw",
   "metadata": {},
   "source": [
    "Considering the two results of our gridsearch, we are gonna use the 'tanh' activation, the 'Adam' optimizer and the binary_crossentropy loss function"
   ]
  },
  {
   "cell_type": "code",
   "execution_count": 81,
   "metadata": {},
   "outputs": [],
   "source": [
    "model3 = Sequential()\n",
    "model3.add(Dense(90, input_shape=(90,), activation='tanh'))\n",
    "model3.add(Dense(110, activation='tanh'))\n",
    "model3.add(Dropout(0.2))\n",
    "model3.add(Dense(90, activation='sigmoid'))"
   ]
  },
  {
   "cell_type": "code",
   "execution_count": 82,
   "metadata": {},
   "outputs": [],
   "source": [
    "model3.compile(loss='binary_crossentropy', optimizer='Adam', metrics=['accuracy'])"
   ]
  },
  {
   "cell_type": "code",
   "execution_count": 85,
   "metadata": {},
   "outputs": [
    {
     "name": "stdout",
     "output_type": "stream",
     "text": [
      "Epoch 1/5\n",
      "7246/7246 [==============================] - 7s 903us/step - loss: 0.0230 - accuracy: 0.5825 - val_loss: 0.0196 - val_accuracy: 0.5973\n",
      "Epoch 2/5\n",
      "7246/7246 [==============================] - 7s 913us/step - loss: 0.0195 - accuracy: 0.6009 - val_loss: 0.0190 - val_accuracy: 0.6051\n",
      "Epoch 3/5\n",
      "7246/7246 [==============================] - 7s 919us/step - loss: 0.0190 - accuracy: 0.6082 - val_loss: 0.0189 - val_accuracy: 0.6084\n",
      "Epoch 4/5\n",
      "7246/7246 [==============================] - 6s 894us/step - loss: 0.0189 - accuracy: 0.6108 - val_loss: 0.0189 - val_accuracy: 0.6078\n",
      "Epoch 5/5\n",
      "7246/7246 [==============================] - 6s 893us/step - loss: 0.0188 - accuracy: 0.6134 - val_loss: 0.0185 - val_accuracy: 0.6130\n"
     ]
    }
   ],
   "source": [
    "h3=model3.fit(\n",
    "    X_traing,\n",
    "    Y_traing,\n",
    "    batch_size=64,\n",
    "    epochs=5,\n",
    "    validation_data=(X_testg, Y_testg)\n",
    ")"
   ]
  },
  {
   "cell_type": "code",
   "execution_count": 86,
   "metadata": {},
   "outputs": [
    {
     "data": {
      "image/png": "[encoded data removed]",
      "text/plain": [
       "<Figure size 432x288 with 1 Axes>"
      ]
     },
     "metadata": {
      "needs_background": "light"
     },
     "output_type": "display_data"
    }
   ],
   "source": [
    "history_dict = h3.history\n",
    "loss_values = history_dict['loss']\n",
    "val_loss_values = history_dict['val_loss']\n",
    "\n",
    "epochs = range(1, 5 + 1)\n",
    "\n",
    "plt.plot(epochs, loss_values, 'bo', label = 'Training loss')\n",
    "plt.plot(epochs, val_loss_values, 'b', label = 'Validation loss')\n",
    "plt.title('Traing and validation loss')\n",
    "plt.xlabel('Epochs')\n",
    "plt.ylabel('Loss')\n",
    "plt.legend()\n",
    "\n",
    "plt.show()"
   ]
  },
  {
   "cell_type": "raw",
   "metadata": {},
   "source": [
    "The loss function seems pretty good, even the validation function loss, there is'nt any pic"
   ]
  },
  {
   "cell_type": "code",
   "execution_count": 87,
   "metadata": {},
   "outputs": [
    {
     "data": {
      "image/png": "[encoded data removed]",
      "text/plain": [
       "<Figure size 432x288 with 1 Axes>"
      ]
     },
     "metadata": {
      "needs_background": "light"
     },
     "output_type": "display_data"
    }
   ],
   "source": [
    "plt.clf()\n",
    "acc_values = history_dict['accuracy']\n",
    "val_acc_values = history_dict['val_accuracy']\n",
    "\n",
    "epochs = range(1, 5 + 1)\n",
    "\n",
    "plt.plot(epochs, acc_values, 'bo', label = 'Training acc')\n",
    "plt.plot(epochs, val_acc_values, 'b', label = 'Validation acc')\n",
    "plt.title('Traing and validation accuracy')\n",
    "plt.xlabel('Epochs')\n",
    "plt.ylabel('Acc')\n",
    "plt.legend()\n",
    "\n",
    "plt.show()"
   ]
  },
  {
   "cell_type": "raw",
   "metadata": {},
   "source": [
    "The training accuracy is way more better now, the validation accuracy is quite good too, it follows the training accuracy"
   ]
  },
  {
   "cell_type": "code",
   "execution_count": 88,
   "metadata": {},
   "outputs": [
    {
     "data": {
      "text/plain": [
       "array([80, 80, 80, ..., 80, 80, 80])"
      ]
     },
     "execution_count": 88,
     "metadata": {},
     "output_type": "execute_result"
    }
   ],
   "source": [
    "P3 = model3.predict_classes(X_testg)\n",
    "P3 = P3 + 1\n",
    "P3"
   ]
  },
  {
   "cell_type": "code",
   "execution_count": 115,
   "metadata": {},
   "outputs": [
    {
     "data": {
      "text/plain": [
       "0.6129769513848538"
      ]
     },
     "execution_count": 115,
     "metadata": {},
     "output_type": "execute_result"
    }
   ],
   "source": [
    "cnf_matrix10 = metrics.confusion_matrix(y_testg, P3)\n",
    "a4 = accuracy_score(y_testg, P3)\n",
    "a4"
   ]
  },
  {
   "cell_type": "code",
   "execution_count": 90,
   "metadata": {},
   "outputs": [
    {
     "data": {
      "text/plain": [
       "<Figure size 432x288 with 0 Axes>"
      ]
     },
     "metadata": {},
     "output_type": "display_data"
    },
    {
     "data": {
      "image/png": "[encoded data removed]",
      "text/plain": [
       "<Figure size 1080x1080 with 2 Axes>"
      ]
     },
     "metadata": {
      "needs_background": "light"
     },
     "output_type": "display_data"
    }
   ],
   "source": [
    "def plot_confusion_matrix(cm, classes,\n",
    "                          normalize=False,\n",
    "                          title='Confusion matrix',\n",
    "                          cmap=plt.cm.Blues):\n",
    "    \"\"\"\n",
    "    This function prints and plots the confusion matrix.\n",
    "    Normalization can be applied by setting `normalize=True`.\n",
    "    \"\"\"\n",
    "    if normalize:\n",
    "        cm = cm.astype('float') / cm.sum(axis=1)[:, np.newaxis]\n",
    "    \n",
    "    plt.imshow(cm, interpolation='nearest', cmap=cmap)\n",
    "    plt.title(title)\n",
    "    plt.colorbar()\n",
    "    tick_marks = np.arange(len(classes))\n",
    "    plt.xticks(tick_marks, classes, rotation=45)\n",
    "    plt.yticks(tick_marks, classes)\n",
    "\n",
    "    fmt = '.2f' if normalize else 'd'\n",
    "    thresh = cm.max() / 2.\n",
    "\n",
    "    plt.tight_layout()\n",
    "    plt.ylabel('True label')\n",
    "    plt.xlabel('Predicted label')\n",
    "\n",
    "# Compute confusion matrix\n",
    "np.set_printoptions(precision=2)\n",
    "\n",
    "# Plot non-normalized confusion matrix\n",
    "plt.figure()\n",
    "fig, ax = plt.subplots(figsize=(15,15)) \n",
    "labels = sorted(Testg.year.unique())\n",
    "plot_confusion_matrix(cnf_matrix10, classes=[\"{:02d}'s\".format(label%100) for label in labels],\n",
    "                      title='Confusion matrix')\n",
    "\n",
    "\n",
    "plt.show()"
   ]
  },
  {
   "cell_type": "raw",
   "metadata": {},
   "source": [
    "We are gonna try again the logistic regression (who had the best result earlier) with the grouped data"
   ]
  },
  {
   "cell_type": "code",
   "execution_count": 123,
   "metadata": {},
   "outputs": [
    {
     "name": "stderr",
     "output_type": "stream",
     "text": [
      "/Users/luciedrevet/opt/anaconda3/lib/python3.8/site-packages/sklearn/linear_model/_logistic.py:762: ConvergenceWarning: lbfgs failed to converge (status=1):\n",
      "STOP: TOTAL NO. of ITERATIONS REACHED LIMIT.\n",
      "\n",
      "Increase the number of iterations (max_iter) or scale the data as shown in:\n",
      "    https://scikit-learn.org/stable/modules/preprocessing.html\n",
      "Please also refer to the documentation for alternative solver options:\n",
      "    https://scikit-learn.org/stable/modules/linear_model.html#logistic-regression\n",
      "  n_iter_i = _check_optimize_result(\n"
     ]
    }
   ],
   "source": [
    "clf3 = LogisticRegression()\n",
    "clf3.fit(X_traing, y_traing)\n",
    "predicted3 = clf3.predict(X_testg)"
   ]
  },
  {
   "cell_type": "code",
   "execution_count": 124,
   "metadata": {},
   "outputs": [],
   "source": [
    "predicted3=predicted3.round()\n",
    "cnf_matrix3 = metrics.confusion_matrix(y_testg, predicted3)"
   ]
  },
  {
   "cell_type": "code",
   "execution_count": 125,
   "metadata": {},
   "outputs": [
    {
     "data": {
      "text/plain": [
       "0.6014332752275808"
      ]
     },
     "execution_count": 125,
     "metadata": {},
     "output_type": "execute_result"
    }
   ],
   "source": [
    "a5 = accuracy_score(y_testg, predicted3)\n",
    "a5"
   ]
  },
  {
   "cell_type": "raw",
   "metadata": {},
   "source": [
    "The result is pretty close to the one from the neural network"
   ]
  },
  {
   "cell_type": "code",
   "execution_count": 144,
   "metadata": {},
   "outputs": [],
   "source": [
    "all_acc = {\"Acc_logistic\":a1, \"Acc_DT\":a2, \"Acc_NN\":a3, \"Acc_NN_grouped\":a4,\"Acc_logistic_grouped\":a5}"
   ]
  },
  {
   "cell_type": "code",
   "execution_count": 152,
   "metadata": {},
   "outputs": [
    {
     "data": {
      "text/plain": [
       "<BarContainer object of 5 artists>"
      ]
     },
     "execution_count": 152,
     "metadata": {},
     "output_type": "execute_result"
    },
    {
     "data": {
      "image/png": "[encoded data removed]",
      "text/plain": [
       "<Figure size 720x720 with 1 Axes>"
      ]
     },
     "metadata": {
      "needs_background": "light"
     },
     "output_type": "display_data"
    }
   ],
   "source": [
    "fig, ax = plt.subplots(figsize=(10,10)) \n",
    "fig.suptitle('Algorithm Comparison')\n",
    "plt.bar(all_acc.keys(), all_acc.values(),  color='b')"
   ]
  },
  {
   "cell_type": "code",
   "execution_count": null,
   "metadata": {},
   "outputs": [],
   "source": []
  }
 ],
 "metadata": {
  "kernelspec": {
   "display_name": "Python 3",
   "language": "python",
   "name": "python3"
  },
  "language_info": {
   "codemirror_mode": {
    "name": "ipython",
    "version": 3
   },
   "file_extension": ".py",
   "mimetype": "text/x-python",
   "name": "python",
   "nbconvert_exporter": "python",
   "pygments_lexer": "ipython3",
   "version": "3.8.3"
  }
 },
 "nbformat": 4,
 "nbformat_minor": 4
}
